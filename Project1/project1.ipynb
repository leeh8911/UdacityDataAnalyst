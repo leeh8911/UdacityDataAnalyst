{
 "metadata": {
  "language_info": {
   "codemirror_mode": {
    "name": "ipython",
    "version": 3
   },
   "file_extension": ".py",
   "mimetype": "text/x-python",
   "name": "python",
   "nbconvert_exporter": "python",
   "pygments_lexer": "ipython3",
   "version": "3.8.5-final"
  },
  "orig_nbformat": 2,
  "kernelspec": {
   "name": "python3",
   "display_name": "Python 3",
   "language": "python"
  }
 },
 "nbformat": 4,
 "nbformat_minor": 2,
 "cells": [
  {
   "cell_type": "code",
   "execution_count": 3,
   "metadata": {},
   "outputs": [],
   "source": [
    "import numpy as np\n",
    "import pandas as pd\n",
    "import matplotlib.pyplot as plt"
   ]
  },
  {
   "cell_type": "code",
   "execution_count": 4,
   "metadata": {},
   "outputs": [],
   "source": [
    "city_list = pd.read_csv(\"city_list.csv\")\n",
    "global_data = pd.read_csv(\"global_data.csv\")\n",
    "city_data = pd.read_csv(\"city_data.csv\")\n"
   ]
  },
  {
   "cell_type": "code",
   "execution_count": 15,
   "metadata": {},
   "outputs": [
    {
     "output_type": "stream",
     "name": "stdout",
     "text": [
      "   year     city        country  avg_temp\n0  1849  Abidjan  Côte D'Ivoire     25.58\n1  1850  Abidjan  Côte D'Ivoire     25.52\n2  1851  Abidjan  Côte D'Ivoire     25.67\n3  1852  Abidjan  Côte D'Ivoire       NaN\n4  1853  Abidjan  Côte D'Ivoire       NaN\n5  1854  Abidjan  Côte D'Ivoire       NaN\n6  1855  Abidjan  Côte D'Ivoire       NaN\n7  1856  Abidjan  Côte D'Ivoire     26.28\n8  1857  Abidjan  Côte D'Ivoire     25.17\n9  1858  Abidjan  Côte D'Ivoire     25.49\n\n\n   year  avg_temp\n0  1750      8.72\n1  1751      7.98\n2  1752      5.78\n3  1753      8.39\n4  1754      8.47\n5  1755      8.36\n6  1756      8.85\n7  1757      9.02\n8  1758      6.74\n9  1759      7.99\n\n\n          city               country\n0      Abidjan         Côte D'Ivoire\n1    Abu Dhabi  United Arab Emirates\n2        Abuja               Nigeria\n3        Accra                 Ghana\n4        Adana                Turkey\n5     Adelaide             Australia\n6         Agra                 India\n7    Ahmadabad                 India\n8  Albuquerque         United States\n9   Alexandria                 Egypt\n"
     ]
    }
   ],
   "source": [
    "print(city_data.head(10))\n",
    "print(\"\\n\")\n",
    "print(global_data.head(10))\n",
    "print(\"\\n\")\n",
    "print(city_list.head(10))\n"
   ]
  }
 ]
}