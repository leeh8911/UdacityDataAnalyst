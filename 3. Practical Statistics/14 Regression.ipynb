{
 "cells": [
  {
   "cell_type": "markdown",
   "metadata": {},
   "source": [
    "# Introduction\n",
    "In this lesson, you will:\n",
    "\n",
    "Identify Regression Applications\n",
    "Learn How Regression Works\n",
    "Apply Regression to Problems Using Python"
   ]
  },
  {
   "cell_type": "markdown",
   "metadata": {},
   "source": [
    "# Introduction to Machine Learning\n",
    "**Machine Learning** is frequently split into **supervised** and **unsupervised** learning. Regression, which you will be learning about in this lesson (and its extensions in later lessons), is an example of supervised machine learning.\n",
    "\n",
    "In supervised machine learning, you are interested in predicting a label for your data. Commonly, you might want to predict fraud, customers that will buy a product, or home values in an area.\n",
    "\n",
    "In unsupervised machine learning, you are interested in clustering data together that isn't already labeled. This is covered in more detail in the [Machine Learning Engineer Nanodegree](https://www.udacity.com/course/machine-learning-engineer-nanodegree--nd009). However, we will not be going into the details of these algorithms in this course."
   ]
  },
  {
   "cell_type": "markdown",
   "metadata": {},
   "source": [
    "# Introduction to Linear Regression\n",
    "In simple linear regression, we compare two quantitative variables to one another.\n",
    "\n",
    "The **response** variable is what you want to predict, while the **explanatory** variable is the variable you use to predict the response. A common way to visualize the relationship between two variables in linear regression is using a scatterplot. You will see more on this in the concepts ahead."
   ]
  },
  {
   "cell_type": "markdown",
   "metadata": {},
   "source": [
    "# Scatter plots\n",
    "Scatter plots are a common visual for comparing two quantitative variables. A common summary statistic that relates to a scatter plot is the **correlation coefficient** commonly denoted by r.\n",
    "\n",
    "Though there are a [few different](http://www.statisticssolutions.com/correlation-pearson-kendall-spearman/) ways to measure correlation between two variables, the most common way is with Pearson's correlation coefficient. [Pearson's correlation coefficient](https://en.wikipedia.org/wiki/Pearson_correlation_coefficient) provides the:\n",
    "\n",
    "1. Strength\n",
    "1. Direction\n",
    "of a **linear relationship**. [Spearman's Correlation Coefficient](https://en.wikipedia.org/wiki/Spearman%27s_rank_correlation_coefficient) does not measure linear relationships specifically, and it might be more appropriate for certain cases of associating two variables.\n",
    "\n",
    "> Supporting Materials\n",
    ">* [Different ways to measure correlation](https://video.udacity-data.com/topher/2019/November/5dcb372a_statistics-solutions/statistics-solutions.pdf)\n",
    ">* [Pearson's correlation coefficient](https://video.udacity-data.com/topher/2019/November/5dcb373d_pearson-correlation-/pearson-correlation-.pdf)\n",
    ">* [Spearman's Correlation Coefficient](https://video.udacity-data.com/topher/2019/November/5dcb374d_spearmans-coefficient-/spearmans-coefficient-.pdf)"
   ]
  },
  {
   "cell_type": "markdown",
   "metadata": {},
   "source": [
    "# Correlation Coefficients\n",
    "Correlation coefficients provide a measure of the **strength** and **direction** of a **linear** relationship.\n",
    "\n",
    "We can tell the direction based on whether the correlation is positive or negative.\n",
    "\n",
    "A rule of thumb for judging the strength:\n",
    "\n",
    "![eqns](./assets/l14_8.png)\n",
    "\n",
    "## Calculation of the Correlation Coefficient\n",
    "$$\n",
    "r = \\frac{\\sum_{i=1}^{n}\\left(x_i - \\bar{x}\\right)\\left(y_i - \\bar{y}\\right)}{\\sqrt{\\sum\\left(x_i - \\bar{x}\\right)}\\sqrt{\\sum\\left(y_i - \\bar{y}\\right)}}\n",
    "$$\n",
    "It can also be calculated in Excel and other spreadsheet applications using **CORREL(col1, col2)**, where **col1** and **col2** are the two columns you are looking to compare to one another."
   ]
  },
  {
   "cell_type": "markdown",
   "metadata": {},
   "source": [
    "# What Defines A Line\n",
    "A line is commonly identified by an **intercept** and a **slope**.\n",
    "\n",
    "The **intercept** is defined as **the predicted value of the response when the x-variable is zero**.\n",
    "\n",
    "The **slope** is defined as **the predicted change in the response for every one unit increase in the x-variabl**e.\n",
    "\n",
    "We notate the line in linear regression in the following way:\n",
    "\n",
    "$ \\hat{y} = b_0 + b_1 x_1$\n",
    "\n",
    "where\n",
    "\n",
    "$\\hat{y}$ is the predicted value of the response from the line.\n",
    "\n",
    "$b_0$ is the intercept.\n",
    "\n",
    "$b_1$ is the slope.\n",
    "\n",
    "$x_1$ is the explanatory variable.\n",
    "\n",
    "$y$ is an actual response value for a data point in our dataset (not a prediction from our line)."
   ]
  },
  {
   "cell_type": "markdown",
   "metadata": {},
   "source": [
    "# Fitting A Regression Line\n",
    "The main algorithm used to find the best fit line is called the **least-squares** algorithm, which finds the line that minimizes $\\sum_{i=1}^{n}\\left(y_i - \\hat{y_i}\\right)^2$ \n",
    "\n",
    "There are other ways we might choose a \"best\" line, but this algorithm tends to do a good job in many scenarios."
   ]
  },
  {
   "cell_type": "markdown",
   "metadata": {},
   "source": [
    "# The Regression Closed Form Solution\n",
    "## How Do We Determine The Line of Best Fit?\n",
    "You saw in the last video, that in regression we are interested in minimizing the following function:\n",
    "\n",
    "$$\n",
    "\\sum_{i=1}^{n}\\left(y_i - \\hat{y_i}\\right)^2\n",
    "$$\n",
    "It turns out that in order to minimize this function, we have set equations that provide the intercept and slope that should be used.\n",
    "\n",
    "If you have a set of points like the values in the image here:\n",
    "![table](./assets/l14_14.png)\n",
    "\n",
    "In order to compute the slope and intercept, we need to compute the following:\n",
    "\n",
    "$\\bar{x} = \\frac{1}{n}\\sum{x_i}$\n",
    "\n",
    "$\\bar{y} = \\frac{1}{n}\\sum{y_i}$\n",
    "\n",
    "$s_y = \\sqrt{\\frac{1}{n-1}\\sum{\\left(y_i - \\bar{y}\\right)}}$\n",
    "\n",
    "$s_x = \\sqrt{\\frac{1}{n-1}\\sum{\\left(x_i - \\bar{x}\\right)}}$\n",
    "\n",
    "$r = \\frac{\\sum_{i=1}^n{\\left(x_i - \\bar{x}\\right)\\left(y_i - \\bar{y}\\right)}}{\\sqrt{\\sum{\\left(x_i - \\bar{x}\\right)}}\\sqrt{\\sum{\\left(y_i - \\bar{y}\\right)}}}$\n",
    "\n",
    "$b_1 = r \\frac{s_y}{s_x}$\n",
    "\n",
    "$b_0 = \\bar{y} - b_1 \\bar{x}$\n",
    "\n",
    "## But Before You Get Carried Away...\n",
    "Though you are now totally capable of carrying out these steps....\n",
    "\n",
    "In the age of computers, it doesn't really make sense to do this all by hand. Instead, using computers can allow us to focus on interpreting and acting on the output. If you want to see a step by step of this in Excel, you can find that [here](https://www.youtube.com/watch?v=zPG4NjIkCjc). With the rest of this lesson, you will get some practice with this in Python."
   ]
  },
  {
   "cell_type": "markdown",
   "metadata": {},
   "source": [
    "# Fitting A Regression Line in Python\n",
    "[Here](https://stats.stackexchange.com/questions/7948/when-is-it-ok-to-remove-the-intercept-in-a-linear-regression-model) is a post on the need of an intercept in nearly all cases of regression. Again, there are very few cases where you do not need to include an intercept in a linear model."
   ]
  },
  {
   "cell_type": "markdown",
   "metadata": {},
   "source": [
    "# How to Interpret the Results\n",
    "We can perform hypothesis tests for the coefficients in our linear models using Python (and other software). These tests help us determine if there is a statistically significant linear relationship between a particular variable and the response. The hypothesis test for the intercept isn't useful in most cases.\n",
    "\n",
    "However, the hypothesis test for each x-variable is a test of if that population slope is equal to zero vs. an alternative where the parameter differs from zero. Therefore, if the slope is different than zero (the alternative is true), we have evidence that the x-variable attached to that coefficient has a statistically significant linear relationship with the response. This in turn suggests that the x-variable should help us in predicting the response (or at least be better than not having it in the model)."
   ]
  },
  {
   "cell_type": "markdown",
   "metadata": {},
   "source": [
    "# Does the Line Fit the Data Well\n",
    "The **Rsquared** value is the square of the correlation coefficient.\n",
    "\n",
    "A common definition for the Rsquared variable is that it is the amount of variability in the response variable that can be explained by the x-variable in our model. In general, the closer this value is to 1, the better our model fits the data.\n",
    "\n",
    "Many feel that Rsquared isn't a great measure (which is possibly true), but I would argue that using cross-validation can assist us with validating any measure that helps us understand the fit of a model to our data. [Here](http://data.library.virginia.edu/is-r-squared-useless/), you can find one such argument explaining why one individual doesn't care for Rsquared."
   ]
  },
  {
   "cell_type": "markdown",
   "metadata": {},
   "source": [
    "# Recap + Next Steps\n",
    "## Recap\n",
    "In this lesson, you learned about simple linear regression. The topics in this lesson included:\n",
    "\n",
    "1. Simple linear regression is about building a line that models the relationship between two quantitative variables.\n",
    "\n",
    "\n",
    "2. Correlation coefficients are a measure that can inform you about the **strength** and **direction** of a linear relationship.\n",
    "\n",
    "\n",
    "3. The most common way to visualize simple linear regression is using a scatterplot.\n",
    "\n",
    "\n",
    "4. A line is defined by an intercept and slope, which you found using the **statsmodels** library in Python.\n",
    "\n",
    "\n",
    "5. You learned the interpretations for the slope, intercept, and R-squared values.\n",
    "\n",
    "\n",
    "## Up Next\n",
    "In the next lesson, you will extend your knowledge from simple linear regression to multiple linear regression."
   ]
  },
  {
   "cell_type": "code",
   "execution_count": null,
   "metadata": {},
   "outputs": [],
   "source": []
  }
 ],
 "metadata": {
  "hide_input": false,
  "kernelspec": {
   "display_name": "Python 3",
   "language": "python",
   "name": "python3"
  },
  "language_info": {
   "codemirror_mode": {
    "name": "ipython",
    "version": 3
   },
   "file_extension": ".py",
   "mimetype": "text/x-python",
   "name": "python",
   "nbconvert_exporter": "python",
   "pygments_lexer": "ipython3",
   "version": "3.8.5"
  },
  "latex_envs": {
   "LaTeX_envs_menu_present": true,
   "autoclose": false,
   "autocomplete": true,
   "bibliofile": "biblio.bib",
   "cite_by": "apalike",
   "current_citInitial": 1,
   "eqLabelWithNumbers": true,
   "eqNumInitial": 1,
   "hotkeys": {
    "equation": "Ctrl-E",
    "itemize": "Ctrl-I"
   },
   "labels_anchors": false,
   "latex_user_defs": false,
   "report_style_numbering": false,
   "user_envs_cfg": false
  },
  "toc": {
   "base_numbering": 1,
   "nav_menu": {},
   "number_sections": true,
   "sideBar": true,
   "skip_h1_title": false,
   "title_cell": "Table of Contents",
   "title_sidebar": "Contents",
   "toc_cell": false,
   "toc_position": {},
   "toc_section_display": true,
   "toc_window_display": false
  },
  "varInspector": {
   "cols": {
    "lenName": 16,
    "lenType": 16,
    "lenVar": 40
   },
   "kernels_config": {
    "python": {
     "delete_cmd_postfix": "",
     "delete_cmd_prefix": "del ",
     "library": "var_list.py",
     "varRefreshCmd": "print(var_dic_list())"
    },
    "r": {
     "delete_cmd_postfix": ") ",
     "delete_cmd_prefix": "rm(",
     "library": "var_list.r",
     "varRefreshCmd": "cat(var_dic_list()) "
    }
   },
   "types_to_exclude": [
    "module",
    "function",
    "builtin_function_or_method",
    "instance",
    "_Feature"
   ],
   "window_display": false
  }
 },
 "nbformat": 4,
 "nbformat_minor": 4
}
