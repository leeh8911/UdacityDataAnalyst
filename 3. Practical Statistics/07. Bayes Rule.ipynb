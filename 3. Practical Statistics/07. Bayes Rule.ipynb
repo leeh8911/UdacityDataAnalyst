{
 "cells": [
  {
   "cell_type": "markdown",
   "metadata": {},
   "source": [
    "# Step by Step Walkthrough\n",
    "The step-by-step breakdown of the solution is pretty quick. Let's recap what's covered in the solution video.\n",
    "\n",
    "Let's start with what we know:\n",
    "\n",
    "## Prior Probabilities\n",
    "The robot is perfectly ignorant about where it is, so prior probabilities are as follows:\n",
    "$$\n",
    "\\begin{matrix}\n",
    "P(\\text{at red} ) = 0.5 \\\n",
    "P(\\text{at green}) = 0.5\n",
    "\\end{matrix}\n",
    "$$\n",
    "\n",
    "## Conditional Probabilities\n",
    "The robot's sensors are not perfect. Just because the robot sees red does not mean the robot is at red.\n",
    "$$\n",
    "\\begin{matrix}\n",
    "P(\\text{see red} \\vert \\text{at red}) = 0.8 \\\n",
    "P(\\text{see green} \\vert \\text{at green}) = 0.8 \n",
    "\\end{matrix}\n",
    "$$\n",
    "\n",
    "## Posterior Probabilities\n",
    "From these prior and posterior probabilities we are asked to calculate the following posterior probabilities after the robot sees red:\n",
    "\n",
    "1. $P(\\text{at red} \\vert \\text{see red})$\n",
    "2. $P(\\text{at green} \\vert \\text{see red})$\n",
    "\n",
    "and as a reminder, Bayes' rule looks like this:\n",
    "$$\n",
    "P(A \\vert B) = \\frac{P(B \\vert A) \\cdot P(A)}{P(B)}\n",
    "$$\n",
    "or, if we want to use our \"versions\" of A and B (for posterior #1)...\n",
    "$$\n",
    "P(\\text{at red}  \\vert \\text{see red}) = \\frac{P(\\text{see red} \\vert \\text{at red}) \\cdot P(\\text{at red})}{P(\\text{see red})}\n",
    "$$\n",
    "\n",
    "Now, we can read two of those terms from what we already know about our prior and conditional probabilities which means we can rewrite this as...\n",
    "$$\n",
    "P(\\text{at red}  \\vert \\text{see red}) = \\frac{(0.8 \\cdot 0.5)}{P(\\text{see red})}\n",
    "$$\n",
    " \n",
    "\n",
    "But we still have one unknown! What was the probability that we would see red? The answer is 0.5 and there are two ways I can convince myself of that. The first is intuitive and the second is mathematical.\n",
    "\n",
    "## Why is P(see red) 0.5?\n",
    "### Argument 1: Intuitive\n",
    "Of course it's 0.5! What else could it be? The robot had a 50% belief that it was in red and a 50% belief that it was in green. Sure, its sensors are unreliable but that unreliability is symmetric and not biased towards mistakenly seeing either color.\n",
    "\n",
    "So whatever the probability of seeing red is, that will also be the probability of seeing green. Since these two colors are the only possible colors the probability MUST be 50% for each!\n",
    "\n",
    "### Argument 2: Mathematical (Law of Total Probability)\n",
    "There are exactly two situations where the robot would see red.\n",
    "\n",
    "1. When the robot is in a red square and its sensors work correctly.\n",
    "1. When the robot is in a green square and its sensors make a mistake.\n",
    "\n",
    "I just need to add up these two probabilities to get the total probability of seeing red.\n",
    "$$\n",
    "P(\\text{see red} ) = P(\\text{at red}) \\cdot P(\\text{see red} \\vert \\text{at red}) + P(\\text{at green}) \\cdot P(\\text{see red} \\vert \\text{at green})     \n",
    "$$\n",
    "\n",
    "I can read these quantities from above!\n",
    "\n",
    "$P(\\text{see red}) = 0.5 \\cdot 0.8 + 0.5 \\cdot 0.2$\n",
    "\n",
    "$P(\\text{see red}) = 0.4 + 0.1$\n",
    "\n",
    "$P(\\text{see red}) = 0.5$\n"
   ]
  },
  {
   "cell_type": "code",
   "execution_count": null,
   "metadata": {},
   "outputs": [],
   "source": []
  }
 ],
 "metadata": {
  "hide_input": false,
  "kernelspec": {
   "display_name": "Python 3",
   "language": "python",
   "name": "python3"
  },
  "language_info": {
   "codemirror_mode": {
    "name": "ipython",
    "version": 3
   },
   "file_extension": ".py",
   "mimetype": "text/x-python",
   "name": "python",
   "nbconvert_exporter": "python",
   "pygments_lexer": "ipython3",
   "version": "3.8.5"
  },
  "latex_envs": {
   "LaTeX_envs_menu_present": true,
   "autoclose": false,
   "autocomplete": true,
   "bibliofile": "biblio.bib",
   "cite_by": "apalike",
   "current_citInitial": 1,
   "eqLabelWithNumbers": true,
   "eqNumInitial": 1,
   "hotkeys": {
    "equation": "Ctrl-E",
    "itemize": "Ctrl-I"
   },
   "labels_anchors": false,
   "latex_user_defs": false,
   "report_style_numbering": false,
   "user_envs_cfg": false
  },
  "toc": {
   "base_numbering": 1,
   "nav_menu": {},
   "number_sections": true,
   "sideBar": true,
   "skip_h1_title": false,
   "title_cell": "Table of Contents",
   "title_sidebar": "Contents",
   "toc_cell": false,
   "toc_position": {},
   "toc_section_display": true,
   "toc_window_display": false
  },
  "varInspector": {
   "cols": {
    "lenName": 16,
    "lenType": 16,
    "lenVar": 40
   },
   "kernels_config": {
    "python": {
     "delete_cmd_postfix": "",
     "delete_cmd_prefix": "del ",
     "library": "var_list.py",
     "varRefreshCmd": "print(var_dic_list())"
    },
    "r": {
     "delete_cmd_postfix": ") ",
     "delete_cmd_prefix": "rm(",
     "library": "var_list.r",
     "varRefreshCmd": "cat(var_dic_list()) "
    }
   },
   "types_to_exclude": [
    "module",
    "function",
    "builtin_function_or_method",
    "instance",
    "_Feature"
   ],
   "window_display": false
  }
 },
 "nbformat": 4,
 "nbformat_minor": 4
}
