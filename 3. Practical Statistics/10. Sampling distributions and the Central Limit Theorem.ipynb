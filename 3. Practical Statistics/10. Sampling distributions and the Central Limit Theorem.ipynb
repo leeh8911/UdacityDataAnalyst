{
 "cells": [
  {
   "cell_type": "markdown",
   "metadata": {},
   "source": [
    "# Inferential Statistics\n",
    "In order to assure you are comfortable with the ideas surrounding inferential statistics. The next 4 concepts are aimed at the difference between **Descriptive** and **Inferential Statistics**. Actually applying **inferential statistics** techniques to data will be taught in later lessons.\n",
    "\n",
    "## Probability to Statistics\n",
    "This begins a set of lessons that will be more data oriented in the way that you are applying ideas, and less probability oriented.\n",
    "\n",
    "Often we use statistics to verify conclusions of probability through simulation. Therefore, simulation (similar to the python lesson you completed earlier) will be a large part of the way we show mathematical ideas moving forward.\n",
    "\n",
    "## Solutions\n",
    "**It is in your best interest to work through the solution notebooks on your own before looking at the solutions available for this course. However, if you get stuck or would like to double check your solutions, notice all of the solutions and data are available in the resources tab of this course. This is true for all of the following lessons as well.**"
   ]
  },
  {
   "cell_type": "markdown",
   "metadata": {},
   "source": [
    "## Descriptive vs. Inferential Statistics\n",
    "In this section, we learned about how Inferential Statistics differs from Descriptive Statistics.\n",
    "\n",
    "### Descriptive Statistics\n",
    "`Descriptive statistics` **is about describing our collected data** using the measures discussed throughout this lesson: measures of center, measures of spread, shape of our distribution, and outliers. We can also use plots of our data to gain a better understanding.\n",
    "\n",
    "### Inferential Statistics\n",
    "`Inferential Statistics` **is about using our collected data to draw conclusions to a larger population.**Performing inferential statistics well requires that we take a sample that accurately represents our population of interest.\n",
    "\n",
    "A common way to collect data is via a survey. However, surveys may be extremely biased depending on the types of questions that are asked, and the way the questions are asked. This is a topic you should think about when tackling the the first project.\n",
    "\n",
    "We looked at specific examples that allowed us to identify the\n",
    "\n",
    "1. **Population** - our entire group of interest.\n",
    "1. **Parameter** - numeric summary about a population\n",
    "1. **Sample** - subset of the population\n",
    "1. **Statistic** numeric summary about a sample"
   ]
  },
  {
   "cell_type": "markdown",
   "metadata": {},
   "source": [
    "## Introduction to Sampling Distributions\n",
    "A sampling distribution is the distribution of a statistic. Here we looked the distribution of the proportion for samples of 5 students. This is key to the ideas covered not only in this lesson, but in future lessons."
   ]
  },
  {
   "cell_type": "markdown",
   "metadata": {},
   "source": [
    "## Sampling Distributions Notes\n",
    "We have already learned some really valuable ideas about sampling distributions:\n",
    "\n",
    "First, we have defined **sampling distributions** as **the distribution of a statistic**.\n",
    "\n",
    "This is fundamental - I cannot stress the importance of this idea. We simulated the creation of sampling distributions in the previous ipython notebook for samples of size 5 and size 20, which is something you will do more than once in the upcoming concepts and lessons.\n",
    "\n",
    "Second, we found out some interesting ideas about sampling distributions that will be iterated later in this lesson as well. We found that for proportions (and also means, as proportions are just the mean of 1 and 0 values), the following characteristics hold.\n",
    "\n",
    "1. The sampling distribution is centered on the original parameter value.\n",
    "\n",
    "2. The sampling distribution decreases its variance depending on the sample size used. Specifically, the variance of the sampling distribution is equal to the variance of the original data divided by the sample size used. This is always true for the variance of a sample mean!\n",
    "In notation, we say if we have a random variable, $X$, with variance of $\\sigma^2$, then the distribution of $\\bar{X}$(the sampling distribution of the sample mean) has a variance of $\\frac{\\sigma^2}{n}$\n",
    "\n",
    "## Looking Ahead\n",
    "The rest of this lesson will reinforce some of these ideas that you saw at work in this notebook, but you are already being introduced to some big ideas that will continue to show up again and again."
   ]
  },
  {
   "cell_type": "markdown",
   "metadata": {},
   "source": [
    "## Notation for Parameters vs. Statistics\n",
    "\n",
    "There should be a 'hat' on the $\\sigma^2$ in the statistics side at 0:47 (i.e. $\\hat{\\sigma}^2$).\n",
    "\n",
    "As you saw in this video, we commonly use Greek symbols as parameters and lowercase letters as the corresponding statistics. Sometimes in the literature, you might also see the same Greek symbols with a \"hat\" to represent that this is an estimate of the corresponding parameter.\n",
    "\n",
    "Below is a table that provides some of the most common parameters and corresponding statistics, as shown in the video.\n",
    "\n",
    "Remember that all **parameters** pertain to a population, while all **statistics** pertain to a sample.\n",
    "\n",
    "![table](./assets/l10_12.png)"
   ]
  },
  {
   "cell_type": "markdown",
   "metadata": {},
   "source": [
    "## Two Usefule Theorem - Law of Large Numbers\n",
    "\n",
    "Two important mathematical theorems for working with sampling distributions include:\n",
    "\n",
    "1. **Law of Large Numbers**\n",
    "1. **Central Limit Theorem**\n",
    "\n",
    "The **Law of Large Numbers** says that **as our sample size increases, the sample mean gets closer to the population mean**, but how did we determine that the sample mean would estimate a population mean in the first place? How would we identify another relationship between parameter and statistic like this in the future?\n",
    "\n",
    "Three of the most common ways are with the following estimation techniques:\n",
    "\n",
    "* [Maximum Likelihood Estimation](https://en.wikipedia.org/wiki/Maximum_likelihood_estimation)\n",
    "\n",
    "* [Method of Moments Estimation](https://en.wikipedia.org/wiki/Method_of_moments)\n",
    "\n",
    "* [Bayesian Estimation](https://en.wikipedia.org/wiki/Bayes_estimator)\n",
    "\n",
    "Though these are beyond the scope of what is covered in this course, these are techniques that should be well understood for Data Scientist's that may need to understand how to estimate some value that isn't as common as a mean or variance. Using one of these methods to determine a \"best estimate\", would be a necessity."
   ]
  },
  {
   "cell_type": "markdown",
   "metadata": {},
   "source": [
    "### Central Limit Theorem\n",
    "The **Central Limit Theorem** states that **with a large enough sample size the sampling distribution of the mean will be normally distributed.**\n",
    "\n",
    "The **Central Limit Theorem** actually applies for these well known statistics:\n",
    "\n",
    "1. Sample means ($\\bar{x}$)\n",
    "1. Sample proportions ($p$)\n",
    "1. Difference in sample means ($\\bar{x_1} - \\bar{x_2}$)\n",
    "1. Difference in sample proportions ($p_1 - p_2$)\n",
    "\n",
    "And it applies for additional statistics, **but it doesn't apply for all statistics!** . You will see more on this towards the end of this lesson."
   ]
  },
  {
   "cell_type": "markdown",
   "metadata": {},
   "source": [
    "In the previous example, you saw how the **Central Limit Theorem** applies to the sample mean of 100 draws from a right-skewed distribution. However, it did not apply to a sample size of 3 draws from this same distribution.\n",
    "\n",
    "In the next concepts, you will see that the with large sample sizes the sampling distribution of certain statistics will never become normally distributed. So how do we know which statistics will follow normal distributions, and which will not?\n",
    "\n",
    "So, you might be wondering already why is the **Central Limit Theorem** such a big deal? In our new age of computers, it probably isn't as big of a deal, but more on this coming up soon!"
   ]
  },
  {
   "cell_type": "markdown",
   "metadata": {},
   "source": [
    "## Bootstrapping\n",
    "**Bootstrapping** is sampling with replacement. Using **random.choice** in python actually samples in this way. Where the probability of any number in our set stays the same regardless of how many times it has been chosen. Flipping a coin and rolling a die are kind of like bootstrap sampling as well, as rolling a 6 in one scenario doesn't mean that 6 is less likely later."
   ]
  },
  {
   "cell_type": "markdown",
   "metadata": {},
   "source": [
    "### Bootstrapping and The Central Limit Theorem\n",
    "\n",
    "You actually have been bootstrapping to create sampling distributions in earlier parts of this lesson, but this can be extended to a bigger idea.\n",
    "\n",
    "It turns out, we can do a pretty good job of finding out where a parameter is by using a sampling distribution created from bootstrapping from only a sample. This will be covered in depth in the next lessons.\n",
    "\n",
    "Three of the most common ways are with the following estimation techniques for finding \"good statistics\" are as shown previously:\n",
    "\n",
    "* [Maximum Likelihood Estimation](https://en.wikipedia.org/wiki/Maximum_likelihood_estimation)\n",
    "\n",
    "* [Method of Moments Estimation](https://en.wikipedia.org/wiki/Method_of_moments)\n",
    "\n",
    "* [Bayesian Estimation](https://en.wikipedia.org/wiki/Bayes_estimator)\n",
    "\n",
    "Though these are beyond the scope of what is covered in this course, these are techniques that should be well understood for data scientists who may need to understand how to estimate some value that isn't as common as a mean or variance. Using one of these methods to determine a \"best estimate\" would be a necessity."
   ]
  },
  {
   "cell_type": "markdown",
   "metadata": {},
   "source": [
    "### Background of Bootstrapping\n",
    "Two helpful links:\n",
    "\n",
    "* You can learn more about Bradley Efron [here](https://en.wikipedia.org/wiki/Bradley_Efron).\n",
    "* Additional notes on why bootstrapping works as a technique for inference can be found [here](https://stats.stackexchange.com/questions/26088/explaining-to-laypeople-why-bootstrapping-works)."
   ]
  },
  {
   "cell_type": "markdown",
   "metadata": {},
   "source": [
    "# Recap\n",
    "In this lesson, you have learned a ton! You learned:\n",
    "\n",
    "## Sampling Distributions\n",
    "* **Sampling Distributions** are the distribution of a statistic (any statistic).\n",
    "\n",
    "* There are two very important mathematical theorems that are related to sampling distributions: **The Law of Large Numbers** and **The Central Limit Theorem**.\n",
    "\n",
    "* **The Law of Large Numbers** states that as a sample size increases, the sample mean will get closer to the population mean. In general, if our statistic is a \"good\" estimate of a parameter, it will approach our parameter with larger sample sizes.\n",
    "\n",
    "* **The Central Limit Theorem** states that with large enough sample sizes our sample mean will follow a normal distribution, but it turns out this is true for more than just the sample mean.\n",
    "\n",
    "## Bootstrapping\n",
    "* **Bootstrapping** is a technique where we sample from a group with replacement.\n",
    "\n",
    "* We can use bootstrapping to simulate the creation of sampling distribution, which you did many times in this lesson.\n",
    "\n",
    "* By bootstrapping and then calculating repeated values of our statistics, we can gain an understanding of the sampling distribution of our statistics.\n",
    "\n",
    "## Looking Ahead\n",
    "In this lesson you gained the fundamental ideas that will help you with the next two lessons by learning about sampling distributions and bootstrapping. These are going provide the basis for **confidence intervals** and **hypothesis testing** in the next two lessons."
   ]
  },
  {
   "cell_type": "code",
   "execution_count": null,
   "metadata": {},
   "outputs": [],
   "source": []
  }
 ],
 "metadata": {
  "hide_input": false,
  "kernelspec": {
   "display_name": "Python 3",
   "language": "python",
   "name": "python3"
  },
  "language_info": {
   "codemirror_mode": {
    "name": "ipython",
    "version": 3
   },
   "file_extension": ".py",
   "mimetype": "text/x-python",
   "name": "python",
   "nbconvert_exporter": "python",
   "pygments_lexer": "ipython3",
   "version": "3.8.5"
  },
  "latex_envs": {
   "LaTeX_envs_menu_present": true,
   "autoclose": false,
   "autocomplete": true,
   "bibliofile": "biblio.bib",
   "cite_by": "apalike",
   "current_citInitial": 1,
   "eqLabelWithNumbers": true,
   "eqNumInitial": 1,
   "hotkeys": {
    "equation": "Ctrl-E",
    "itemize": "Ctrl-I"
   },
   "labels_anchors": false,
   "latex_user_defs": false,
   "report_style_numbering": false,
   "user_envs_cfg": false
  },
  "toc": {
   "base_numbering": 1,
   "nav_menu": {},
   "number_sections": true,
   "sideBar": true,
   "skip_h1_title": false,
   "title_cell": "Table of Contents",
   "title_sidebar": "Contents",
   "toc_cell": false,
   "toc_position": {},
   "toc_section_display": true,
   "toc_window_display": true
  },
  "varInspector": {
   "cols": {
    "lenName": 16,
    "lenType": 16,
    "lenVar": 40
   },
   "kernels_config": {
    "python": {
     "delete_cmd_postfix": "",
     "delete_cmd_prefix": "del ",
     "library": "var_list.py",
     "varRefreshCmd": "print(var_dic_list())"
    },
    "r": {
     "delete_cmd_postfix": ") ",
     "delete_cmd_prefix": "rm(",
     "library": "var_list.r",
     "varRefreshCmd": "cat(var_dic_list()) "
    }
   },
   "types_to_exclude": [
    "module",
    "function",
    "builtin_function_or_method",
    "instance",
    "_Feature"
   ],
   "window_display": false
  }
 },
 "nbformat": 4,
 "nbformat_minor": 4
}
