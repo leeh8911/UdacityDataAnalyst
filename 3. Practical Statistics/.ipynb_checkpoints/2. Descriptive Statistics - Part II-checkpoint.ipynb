{
 "cells": [
  {
   "cell_type": "markdown",
   "metadata": {},
   "source": [
    "# Measures of Spread\n",
    "**Measures of Spread** are used to provide us an idea of how spread out our data are from one another. Common measures of spread include:\n",
    "\n",
    "1. Range\n",
    "1. Interquartile Range (IQR)\n",
    "1. Standard Deviation\n",
    "1. Variance\n",
    "\n",
    "Throughout this lesson you will learn how to calculate these, as well as why we would use one measure of spread over another."
   ]
  },
  {
   "cell_type": "markdown",
   "metadata": {},
   "source": [
    "## Histograms\n",
    "Histograms are super useful to understanding the different aspects of quantitative data. In the upcoming concepts, you will see histograms used all the time to help you understand the four aspects we outlined earlier regarding a quantitative variable:\n",
    "\n",
    "* center\n",
    "* spread\n",
    "* shape\n",
    "* outliers"
   ]
  },
  {
   "cell_type": "markdown",
   "metadata": {},
   "source": [
    "## Calculating the 5 Number Summary\n",
    "The five number summary consist of 5 values:\n",
    "\n",
    "1. Minimum: The smallest number in the dataset.\n",
    "1. $Q_1$: The value such that 25% of the data fall below.\n",
    "1. $Q_2$: The value such that 50% of the data fall below.\n",
    "1. $Q_3$: The value such that 75% of the data fall below.\n",
    "1. Maximum: The largest value in the dataset.\n",
    "\n",
    "In the above video we saw that calculating each of these values was essentially just finding the median of a bunch of different dataset. Because we are essentially calculating a bunch of medians, the calculation depends on whether we have an odd or even number of values.\n",
    "\n",
    "## Range\n",
    "The **range** is then calculated as the difference between the **maximum** and the **minimum**.\n",
    "\n",
    "## IQR\n",
    "The **interquartile range** is calculated as the difference between$Q_3$ and $Q_1$.\n",
    "\n",
    "In the upcoming sections, you will practice this with Katie and on your own."
   ]
  },
  {
   "cell_type": "markdown",
   "metadata": {},
   "source": [
    "# Standard Deviation and Variance\n",
    "The **standard deviation** is one of the most common measures for talking about the spread of data. It is defined as **the average distance of each observation from the mean.**\n",
    "\n",
    "In the above video we saw this as how far individuals were from the average distance from work (the example distances shown are examples from the full data set, the mean of just those 4 numbers is 38.5. The mean of 18 shown later in the video is the mean of the full data set which is not shown in the video). In the next video, you will see exactly how this is calculated."
   ]
  },
  {
   "cell_type": "markdown",
   "metadata": {},
   "source": [
    "## Other Measures of Spread\n",
    "### 5 Number Summary\n",
    "In the previous sections, we have seen how to calculate the values associated with the **five number summary** (min, $Q_1$, $Q_2$, $Q_3$, max), as well as the measures of spread associated with these values (**range** and **IQR**).\n",
    "\n",
    "For datasets that are **not symmetric**, the five number summary and a corresponding box plot are a great way to get started with understanding the spread of your data. **Although I still prefer a histogram in most cases, box plots can be easier to compare two or more groups.** You will see this in the quizzes towards the end of this lesson.\n",
    "\n",
    "### Variance and Standard Deviation\n",
    "Two additional **measures of spread** that are used all the time are the **variance** and **standard deviation**. At first glance, the variance and standard deviation can seem overwhelming. If you do not understand the expressions below, don't panic! In this section, I just want to give you an overview of what the next sections will cover. We will walk through each of these parts thoroughly in the next few sections, but the big picture goal is to generally understand the following:\n",
    "\n",
    "1. How the mean, variance and standard deviation are calculated.\n",
    "1. Why the measures of variance and standard deviation make sense to capture the spread of our data.\n",
    "1. Fields where you might see these values used.\n",
    "1. Why we might use the standard deviation or variance as opposed to the values associated with the 5 number summary for a particular dataset.\n",
    "\n",
    "### Calculation\n",
    "We calculate the variance in the following way:\n",
    "$$\n",
    "\\frac{1}{n}\\sum_{i=1}^{n}\\left(x_i - \\bar{x}\\right)^2\n",
    "$$\n",
    "\n",
    "The variance is **the average squared difference of each observation from the mean.**\n",
    "\n",
    "To calculate the variance of a set of 10 values in a spreadsheet application, with our 10 data points in column A, we would create a new column B by typing in something like **=A1-AVERAGE(A$1:A$10)** and copying this down for all 10 rows. This would find us the difference between each data point and the mean average of all the data. Then we create a new column C having the square of these differences, using the formula **=B1^2** in cell C1, and copying that down for all rows. Then in the cell below this new column, cell C11, type in **=SUM(C1:C10)**. This adds up all these values in column C. Finally in cell C12, we divide this sum by the number of data points we have, in this case ten: =C11/10. This cell C12 now contains the variance for our 10 data points.\n",
    "\n",
    "More detailed guidance on using spreadsheets like this may be included in a future lesson in your program.\n",
    "\n",
    "The standard deviation is the square root of the variance. Therefore, the formula for the standard deviation is the following:\n",
    "$$\n",
    "\\sqrt{\\frac{1}{n}\\sum_{i=1}^{n}\\left(x_i - \\bar{x}\\right)^2}\n",
    "$$\n",
    "\n",
    "\n",
    "In the same spreadsheet as above, to find the standard deviation of our same set of 10 data values, we would use another cell like C13 to take the square root of our variance measure, by typing in **=sqrt(C12).**\n",
    "\n",
    "The standard deviation is a measurement that has the same units as our original data, while the units of the variance are the square of the units in our original data. For example, if the units in our original data were dollars, then units of the standard deviation would also be dollars, while the units of the variance would be dollars squared.\n",
    "\n",
    "Again, **this section is designed as background knowledge for the following sections.** If it doesn't make sense on this first pass, do not worry. You will be guided in future sections in performing these calculations, and building your intuition, as you work through an example using the salary data. Then we will provide context about why these calculations are important, and where you might see them!"
   ]
  },
  {
   "cell_type": "markdown",
   "metadata": {},
   "source": [
    "## Important Final Points\n",
    "1. The variance is used to compare the spread of two different groups. A set of data with higher variance is more spread out than a dataset with lower variance. Be careful though, there might just be an outlier (or outliers) that is increasing the variance, when most of the data are actually very close.\n",
    "\n",
    "2. When comparing the spread between two datasets, the units of each must be the same.\n",
    "\n",
    "3. When data are related to money or the economy, higher variance (or standard deviation) is associated with higher risk.\n",
    "\n",
    "4. The standard deviation is used more often in practice than the variance, because it shares the units of the original dataset.\n",
    "\n",
    "### Use in the World\n",
    "The standard deviation is associated with risk in finance, assists in determining the significance of drugs in medical studies, and measures the error of our results for predicting anything from the amount of rainfall we can expect tomorrow to your predicted commute time tomorrow.\n",
    "\n",
    "These applications are beyond the scope of this lesson as they pertain to specific fields, but know that understanding the spread of a particular set of data is extremely important to many areas. In this lesson you mastered the calculation of the most common measures of spread."
   ]
  },
  {
   "cell_type": "markdown",
   "metadata": {},
   "source": [
    "## Recap\n",
    "### Variable Types\n",
    "We have covered a lot up to this point! We started with identifying data types as either `categorical` or `quantitative`. We then learned, we could identify `quantitative` variables as either `continuous` or `discrete`. We also found we could identify `categorical` variables as either `ordinal` or `nominal`.\n",
    "\n",
    "### Categorical Variables\n",
    "When analyzing categorical variables, we commonly just look at the count or percent of a group that falls into each **level** of a category. For example, if we had two **levels** of a dog category: lab and `not lab`. We might say, 32% of the dogs were `lab` (percent), or we might say 32 of the 100 dogs I saw were labs (count).\n",
    "\n",
    "However, the 4 aspects associated with describing quantitative variables are not used to describe categorical variables.\n",
    "\n",
    "### Quantitative Variables\n",
    "Then we learned there are four main aspects used to describe `quantitative` variables:\n",
    "\n",
    "1. Measures of **Center**\n",
    "1. Measures of **Spread**\n",
    "1. **Shape** of the Distribution\n",
    "1. **Outliers**\n",
    "\n",
    "We looked at calculating measures of `Center`\n",
    "\n",
    "1. **Means**\n",
    "1. **Medians**\n",
    "1. **Modes**\n",
    "\n",
    "We also looked at calculating measures of `Spread`\n",
    "\n",
    "1. **Range**\n",
    "1. **Interquartile Range**\n",
    "1. **Standard Deviation**\n",
    "1. **Variance**\n",
    "\n",
    "### Calculating Variance\n",
    "We saw that we could calculate the `variance` as:\n",
    "$$\n",
    "\\frac{1}{n}\\sum_{i=1}^{n}\\left(x_i - \\bar{x}\\right)^2\n",
    "$$\n",
    "\n",
    "You will also see:\n",
    "$$\n",
    "\\frac{1}{n-1}\\sum_{i=1}^{n}\\left(x_i - \\bar{x}\\right)^2\n",
    "$$\n",
    "\n",
    "The reason for this is beyond the scope of what we have covered thus far, but you can find an explanation [here](https://stats.stackexchange.com/questions/3931/intuitive-explanation-for-dividing-by-n-1-when-calculating-standard-deviation).\n",
    "\n",
    "You can commonly find answers to your questions with a quick [Google search](https://www.google.com/). Now is a great time to get started with this practice! This answer should make more sense at the completion of this lesson.\n",
    "\n",
    "### Standard Deviation vs. Variance\n",
    "The standard deviation is the square root of the variance. In practice, you usually use the standard deviation rather than the variance. The reason for this is because the standard deviation shares the same units with our original data, while the variance has squared units.\n",
    "\n",
    "### What Next?\n",
    "In the next sections, we will be looking at the last two aspects of quantitative variables: **shape** and **outliers**. What we know about measures of center and measures of spread will assist in your understanding of these final two aspects.\n",
    "\n",
    "Supporting Materials: `Calculating Variance.pdf`"
   ]
  },
  {
   "cell_type": "markdown",
   "metadata": {},
   "source": [
    "# Histograms\n",
    "We learned how to build a **histogram** in this video, as this is the most popular visual for quantitative data.\n",
    "\n",
    "## Shape\n",
    "From a histogram we can quickly identify the shape of our data, which helps influence all of the measures we learned in the previous concepts. We learned that the distribution of our data is frequently associated with one of the three **shapes**:\n",
    "\n",
    "1. **Right-skewed**\n",
    "2. **Left-skewed**\n",
    "3. **Symmetric** (frequently normally distributed)\n",
    "\n",
    "## Summary\n",
    "![table](./assets/l2_17.png)\n",
    "The mode of a distribution is essentially the tallest bar in a histogram. There may be multiple modes depending on the number of peaks in our histogram."
   ]
  },
  {
   "cell_type": "markdown",
   "metadata": {},
   "source": [
    "# Outliers\n",
    "We learned that **outliers** are points that fall very far from the rest of our data points. This influences measures like the mean and standard deviation much more than measures associated with the five number summary.\n",
    "\n",
    "## Identifying Outliers\n",
    "There are a number of different techniques for identifying outliers. A full paper on this topic is provided here. In general, I usually just look at a picture and see if something looks suspicious!"
   ]
  },
  {
   "cell_type": "markdown",
   "metadata": {},
   "source": [
    "## Common Techniques\n",
    "When outliers are present we should consider the following points.\n",
    "\n",
    "1. Noting they exist and the impact on summary statistics.\n",
    "2. If typo - remove or fix\n",
    "3. Understanding why they exist, and the impact on questions we are trying to answer about our data.\n",
    "4. Reporting the 5 number summary values is often a better indication than measures like the mean and standard deviation when we have outliers.\n",
    "5. Be careful in reporting. Know how to ask the right questions."
   ]
  },
  {
   "cell_type": "markdown",
   "metadata": {},
   "source": [
    "## Outliers Advice\n",
    "Below are my guidelines for working with any column (random variable) in your dataset.\n",
    "\n",
    "1. Plot your data to identify if you have outliers.\n",
    "\n",
    "2. Handle outliers accordingly via the methods above.\n",
    "\n",
    "3. If no outliers and your data follow a normal distribution - use the mean and standard deviation to describe your dataset, and report that the data are normally distributed.\n",
    "\n",
    "> **Side note**\n",
    "If you aren't sure if your data are normally distributed, there are plots called normal quantile plots and statistical methods like the Kolmogorov-Smirnov test that are aimed to help you understand whether or not your data are normally distributed. Implementing this test is beyond the scope of this class, but can be used as a fun fact.\n",
    "\n",
    "4. If you have skewed data or outliers, use the five number summary to summarize your data and report the outliers."
   ]
  },
  {
   "cell_type": "markdown",
   "metadata": {},
   "source": [
    "## Recap\n",
    "### Variable Types\n",
    "We have covered a lot up to this point! We started with identifying data types as either `categorical` or `quantitative`. We then learned, we could identify `quantitative` variables as either `continuous` or `discrete`. We also found we could identify `categorical` variables as either `ordinal` or `nominal`.\n",
    "\n",
    "### Categorical Variables\n",
    "When analyzing categorical variables, we commonly just look at the count or percent of a group that falls into each **level** of a category. For example, if we had two **levels** of a dog category: lab and `not lab`. We might say, 32% of the dogs were `lab` (percent), or we might say 32 of the 100 dogs I saw were labs (count).\n",
    "\n",
    "However, the 4 aspects associated with describing quantitative variables are not used to describe categorical variables.\n",
    "\n",
    "### Quantitative Variables\n",
    "Then we learned there are four main aspects used to describe `quantitative` variables:\n",
    "\n",
    "1. Measures of **Center**\n",
    "1. Measures of **Spread**\n",
    "1. **Shape** of the Distribution\n",
    "1. **Outliers**\n",
    "\n",
    "### Measures of Center\n",
    "We looked at calculating measures of `Center`\n",
    "\n",
    "1. **Means**\n",
    "1. **Medians**\n",
    "1. **Modes**\n",
    "\n",
    "### Measures of Spread\n",
    "We also looked at calculating measures of `Spread`\n",
    "\n",
    "1. **Range**\n",
    "1. **Interquartile Range**\n",
    "1. **Standard Deviation**\n",
    "1. **Variance**\n",
    "\n",
    "### Shape\n",
    "We learned that the distribution of our data is frequently associated with one of the three **shapes**:\n",
    "\n",
    "1. **Right-skewed**\n",
    "2. **Left-skewed**\n",
    "3. **Symmetric** (frequently normally distributed)\n",
    "\n",
    "Depending on the shape associated with our dataset, certain measures of center or spread may be better for summarizing our dataset.\n",
    "\n",
    "When we have data that follows a **normal** distribution, we can completely understand our dataset using the `mean` and `standard deviation`.\n",
    "\n",
    "However, if our dataset is **skewed**, the `5 number summary` (and measures of center associated with it) might be better to summarize our dataset.\n",
    "\n",
    "### Outliers\n",
    "We learned that outliers have a larger influence on measures like the mean than on measures like the median. We learned that we should work with outliers on a situation by situation basis. Common techniques include:\n",
    "\n",
    "1. At least note they exist and the impact on summary statistics.\n",
    "2. If typo - remove or fix\n",
    "3. Understand why they exist, and the impact on questions we are trying to answer about our data.\n",
    "4. Reporting the 5 number summary values is often a better indication than measures like the mean and standard deviation when we have outliers.\n",
    "5. Be careful in reporting. Know how to ask the right questions.\n",
    "\n",
    "### Histograms and Box Plots\n",
    "We also looked at histograms and box plots to visualize our quantitative data. Identifying outliers and the shape associated with the distribution of our data are easier when using a visual as opposed to using summary statistics.\n",
    "\n",
    "### What Next?\n",
    "Up to this point, we have only looked at **Descriptive Statistics**, because we are describing our collected data. In the final sections of this lesson, we will be looking at the difference between **Descriptive Statistics** and **Inferential Statistics**."
   ]
  },
  {
   "cell_type": "markdown",
   "metadata": {},
   "source": [
    "## Descriptive Statistics\n",
    "`Descriptive statistics` **is about describing our collected data.**\n",
    "\n",
    "##Inferential Statistics\n",
    "`Inferential Statistics` **is about using our collected data to draw conclusions to a larger population.**\n",
    "\n",
    "We looked at specific examples that allowed us to identify the\n",
    "\n",
    "1. **Population** - our entire group of interest.\n",
    "1. **Parameter** - numeric summary about a population\n",
    "1. **Sample** - subset of the population\n",
    "1. **Statistic** numeric summary about a sample"
   ]
  }
 ],
 "metadata": {
  "hide_input": false,
  "kernelspec": {
   "display_name": "Python 3",
   "language": "python",
   "name": "python3"
  },
  "language_info": {
   "codemirror_mode": {
    "name": "ipython",
    "version": 3
   },
   "file_extension": ".py",
   "mimetype": "text/x-python",
   "name": "python",
   "nbconvert_exporter": "python",
   "pygments_lexer": "ipython3",
   "version": "3.8.5"
  },
  "latex_envs": {
   "LaTeX_envs_menu_present": true,
   "autoclose": false,
   "autocomplete": true,
   "bibliofile": "biblio.bib",
   "cite_by": "apalike",
   "current_citInitial": 1,
   "eqLabelWithNumbers": true,
   "eqNumInitial": 1,
   "hotkeys": {
    "equation": "Ctrl-E",
    "itemize": "Ctrl-I"
   },
   "labels_anchors": false,
   "latex_user_defs": false,
   "report_style_numbering": false,
   "user_envs_cfg": false
  },
  "toc": {
   "base_numbering": 1,
   "nav_menu": {},
   "number_sections": true,
   "sideBar": true,
   "skip_h1_title": false,
   "title_cell": "Table of Contents",
   "title_sidebar": "Contents",
   "toc_cell": false,
   "toc_position": {},
   "toc_section_display": true,
   "toc_window_display": true
  },
  "varInspector": {
   "cols": {
    "lenName": 16,
    "lenType": 16,
    "lenVar": 40
   },
   "kernels_config": {
    "python": {
     "delete_cmd_postfix": "",
     "delete_cmd_prefix": "del ",
     "library": "var_list.py",
     "varRefreshCmd": "print(var_dic_list())"
    },
    "r": {
     "delete_cmd_postfix": ") ",
     "delete_cmd_prefix": "rm(",
     "library": "var_list.r",
     "varRefreshCmd": "cat(var_dic_list()) "
    }
   },
   "types_to_exclude": [
    "module",
    "function",
    "builtin_function_or_method",
    "instance",
    "_Feature"
   ],
   "window_display": false
  }
 },
 "nbformat": 4,
 "nbformat_minor": 4
}
