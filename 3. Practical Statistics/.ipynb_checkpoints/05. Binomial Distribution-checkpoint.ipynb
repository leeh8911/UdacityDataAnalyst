{
 "cells": [
  {
   "cell_type": "markdown",
   "metadata": {},
   "source": [
    "# The Binomial Distribution\n",
    "The **Binomial Distribution** helps us determine the probability of a string of independent 'coin flip like events'.\n",
    "\n",
    "The [probability mass function](https://en.wikipedia.org/wiki/Probability_mass_function) associated with the binomial distribution is of the following form:\n",
    "$$\n",
    "P(X = x) = \\frac{n!}{x!(n-x)!}p^x(1-p)^{n-1}\n",
    "$$\n",
    "where $n$ is the number of events, $x$ is the number of \"successes\", and $p$ is the probability of \"success\".\n",
    "\n",
    "We can now use this distribution to determine the probability of things like:\n",
    "\n",
    "* The probability of 3 heads occurring in 10 flips.\n",
    "* The probability of observing 8 or more heads occurring in 10 flips.\n",
    "* The probability of not observing any heads in 20 flips.\n",
    "\n",
    "# Looking Ahead\n",
    "The truth is that in practice, you will commonly be working with data, which might follow a binomial distribution. So it is less important to calculate these probabilities (though this can be useful in some cases), and it is more important that you understand what the Binomial Distribution is used for, as it shows up in a lot of modeling techniques in machine learning, and it can sneak up in our datasets with tracking any outcome with two possible events. You will get some practice with this in the **Python Probability Practice** lesson.\n",
    "\n",
    "One of the most popular places you see the Binomial distribution is in [logistic regression](https://en.wikipedia.org/wiki/Logistic_regression), which you will learn about in the last lesson of this statistics course.\n",
    "\n",
    "In the next section, you will begin to work with events that aren't independent. The events we have seen so far haven't influenced one another, but it turns out the real world is usually more complicated than this. The next section will introduce the idea of dependence, and you will learn even more with Bayes rule in the following section."
   ]
  },
  {
   "cell_type": "code",
   "execution_count": null,
   "metadata": {},
   "outputs": [],
   "source": []
  }
 ],
 "metadata": {
  "hide_input": false,
  "kernelspec": {
   "display_name": "Python 3",
   "language": "python",
   "name": "python3"
  },
  "language_info": {
   "codemirror_mode": {
    "name": "ipython",
    "version": 3
   },
   "file_extension": ".py",
   "mimetype": "text/x-python",
   "name": "python",
   "nbconvert_exporter": "python",
   "pygments_lexer": "ipython3",
   "version": "3.8.5"
  },
  "latex_envs": {
   "LaTeX_envs_menu_present": true,
   "autoclose": false,
   "autocomplete": true,
   "bibliofile": "biblio.bib",
   "cite_by": "apalike",
   "current_citInitial": 1,
   "eqLabelWithNumbers": true,
   "eqNumInitial": 1,
   "hotkeys": {
    "equation": "Ctrl-E",
    "itemize": "Ctrl-I"
   },
   "labels_anchors": false,
   "latex_user_defs": false,
   "report_style_numbering": false,
   "user_envs_cfg": false
  },
  "toc": {
   "base_numbering": 1,
   "nav_menu": {},
   "number_sections": true,
   "sideBar": true,
   "skip_h1_title": false,
   "title_cell": "Table of Contents",
   "title_sidebar": "Contents",
   "toc_cell": false,
   "toc_position": {},
   "toc_section_display": true,
   "toc_window_display": false
  },
  "varInspector": {
   "cols": {
    "lenName": 16,
    "lenType": 16,
    "lenVar": 40
   },
   "kernels_config": {
    "python": {
     "delete_cmd_postfix": "",
     "delete_cmd_prefix": "del ",
     "library": "var_list.py",
     "varRefreshCmd": "print(var_dic_list())"
    },
    "r": {
     "delete_cmd_postfix": ") ",
     "delete_cmd_prefix": "rm(",
     "library": "var_list.r",
     "varRefreshCmd": "cat(var_dic_list()) "
    }
   },
   "types_to_exclude": [
    "module",
    "function",
    "builtin_function_or_method",
    "instance",
    "_Feature"
   ],
   "window_display": false
  }
 },
 "nbformat": 4,
 "nbformat_minor": 4
}
