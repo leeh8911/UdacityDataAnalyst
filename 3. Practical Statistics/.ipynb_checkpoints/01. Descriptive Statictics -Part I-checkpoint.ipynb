{
 "cells": [
  {
   "cell_type": "markdown",
   "metadata": {},
   "source": [
    "# Data Types\n",
    "In this video, two data types are introduced: Quantitative and Categorical.\n",
    "\n",
    "**Quantitative** data takes on numeric values that allow us to perform mathematical operations (like the number of dogs).\n",
    "\n",
    "**Categorical** are used to label a group or set of items (like dog breeds - Collies, Labs, Poodles, etc.)."
   ]
  },
  {
   "cell_type": "markdown",
   "metadata": {},
   "source": [
    "# Categorical Ordinal vs. Categorical Nominal\n",
    "We can divide categorical data further into two types: **Ordinal** and **Nominal**.\n",
    "\n",
    "**Categorical Ordinal** data take on a ranked ordering (like a ranked interaction on a scale from `Very Poor` to `Very Good` with the dogs).\n",
    "\n",
    "**Categorical Nominal** data do not have an order or ranking (like the breeds of the dog)."
   ]
  },
  {
   "cell_type": "markdown",
   "metadata": {},
   "source": [
    "# Continuous vs. Discrete\n",
    "We can think of quantitative data as being either **continuous** or **discrete**.\n",
    "\n",
    "**Continuous** data can be split into smaller and smaller units, and still a smaller unit exists. An example of this is the age of the dog - we can measure the units of the age in years, months, days, hours, seconds, but there are still smaller units that could be associated with the age.\n",
    "\n",
    "**Discrete** data only takes on countable values. The number of dogs we interact with is an example of a discrete data type."
   ]
  },
  {
   "cell_type": "markdown",
   "metadata": {},
   "source": [
    "![table](./assets/Categorical_VS_Quantative.png)"
   ]
  },
  {
   "cell_type": "markdown",
   "metadata": {},
   "source": [
    "# Recap\n",
    "\n",
    "## Another Look\n",
    "\n",
    "To break down our data types, there are two main blocks:\n",
    "\n",
    "**Quantitative** and **Categorical**\n",
    "\n",
    "**Quantitative** can be further divided into `Continuous` or `Discrete`.\n",
    "\n",
    "**Categorical** data can be divided into `Ordinal` or `Nominal`.\n",
    "\n",
    "You should have now mastered what types of data in the world around us falls into each of these four buckets: Discrete, Continuous, Nominal, and Ordinal. In the next sections, we will work through the numeric summaries that relate specifically to quantitative variables.\n",
    "\n",
    "\n",
    "## Quantitative vs. Categorical\n",
    "\n",
    "Some of these can be a bit tricky - notice even though zip codes are a number, they aren’t really a quantitative variable. If we add two zip codes together, we do not obtain any useful information from this new value. Therefore, this is a categorical variable.\n",
    "\n",
    "**Height**, **Age**, the **Number of Pages in a Book** and **Annual Income** all take on values that we can add, subtract and perform other operations with to gain useful insight. Hence, these are `quantitative`.\n",
    "\n",
    "**Gender**, **Letter Grade**, **Breakfast Type**, **Marital Status**, and **Zip Code** can be thought of as labels for a group of items or individuals. Hence, these are `categorical`.\n",
    "\n",
    "\n",
    "## Continuous vs. Discrete\n",
    "\n",
    "To consider if we have continuous or discrete data, we should see if we can split our data into smaller and smaller units. Consider time - we could measure an event in years, months, days, hours, minutes, or seconds, and even at seconds we know there are smaller units we could measure time in. Therefore, we know this data type is continuous. **Height**, **age**, and **income** are all examples of `continuous data`. Alternatively, the **number of pages in a book, dogs I count outside a coffee shop**, or **trees in a yard** are `discrete data`. We would not want to split our dogs in half.\n",
    "\n",
    "\n",
    "## Ordinal vs. Nominal\n",
    "\n",
    "In looking at categorical variables, we found **Gender**, **Marital Status**, **Zip Code** and your **Breakfast items** are `nominal variables` where there is no order ranking associated with this type of data. Whether you ate cereal, toast, eggs, or only coffee for breakfast; there is no rank ordering associated with your breakfast.\n",
    "\n",
    "Alternatively, the **Letter Grade** or **Survey Ratings** have a rank ordering associated with it, as `ordinal data`. If you receive an A, this is higher than an A-. An A- is ranked higher than a B+, and so on... Ordinal variables frequently occur on rating scales from very poor to very good. In many cases we turn these ordinal variables into numbers, as we can more easily analyze them, but more on this later!\n",
    "\n",
    "\n",
    "## Final Words\n",
    "\n",
    "In this section, we looked at the different data types we might work with in the world around us. When we work with data in the real world, it might not be very clean - sometimes there are typos or missing values. When this is the case, simply having some expertise regarding the data and knowing the data type can assist in our ability to ‘clean’ this data. Understanding data types can also assist in our ability to build visuals to best explain the data. But more on this very soon!"
   ]
  },
  {
   "cell_type": "markdown",
   "metadata": {},
   "source": [
    "# Measure of Center\n",
    "\n",
    "## Analyzing Quantitative Data\n",
    "### Four Aspects for Quantitative Data\n",
    "There are four main aspects to analyzing **Quantitative** data.\n",
    "\n",
    "1. Measures of `Center`\n",
    "1. Measures of `Spread`\n",
    "1. The `Shape` of the data.\n",
    "1. `Outliers`\n",
    "\n",
    "### Analyzing Categorical Data\n",
    "Though not discussed in the video, analyzing **categorical** data has fewer parts to consider. Categorical data is analyzed usually be looking at the counts or proportion of individuals that fall into each group. For example if we were looking at the breeds of the dogs, we would care about how many dogs are of each breed, or what proportion of dogs are of each breed type.\n",
    "\n",
    "## Measures of Center\n",
    "There are three measures of center:\n",
    "\n",
    "1. `Mean`\n",
    "1. `Median`\n",
    "1. `Mode`\n",
    "\n",
    "## The Mean\n",
    "In this video, we focused on the calculation of the mean. The mean is often called the average or the **expected value** in mathematics. We calculate the mean by adding all of our values together, and dividing by the number of values in our dataset.\n",
    "\n",
    "The remaining measures of the median and mode will be discussed in detail in the upcoming quizzes and videos."
   ]
  },
  {
   "cell_type": "markdown",
   "metadata": {},
   "source": [
    "## The Median\n",
    "The median splits our data so that 50% of our values are lower and 50% are higher. We found in this video that how we calculate the median depends on if we have an even number of observations or an odd number of observations.\n",
    "\n",
    "### Median for Odd Values\n",
    "If we have an **odd** number of observations, the **median** is simply the number in the **direct middle**. For example, if we have 7 observations, the median is the fourth value when our numbers are ordered from smallest to largest. If we have 9 observations, the median is the fifth value.\n",
    "\n",
    "### Median for Even Values\n",
    "If we have an **even** number of observations, the **median** is the **average of the two values in the middle**. For example, if we have 8 observations, we average the fourth and fifth values together when our numbers are ordered from smallest to largest.\n",
    "\n",
    "In order to compute the median we MUST sort our values first.\n",
    "\n",
    "Whether we use the mean or median to describe a dataset is largely dependent on the **shape** of our dataset and if there are any **outliers**. We will talk about this in just a bit!"
   ]
  },
  {
   "cell_type": "markdown",
   "metadata": {},
   "source": [
    "## The Mode\n",
    "The **mode** is the most frequently observed value in our dataset.\n",
    "\n",
    "There might be multiple modes for a particular dataset, or no mode at all.\n",
    "\n",
    "### No Mode\n",
    "If all observations in our dataset are observed with the same frequency, there is no mode. If we have the dataset:\n",
    "\n",
    "1, 1, 2, 2, 3, 3, 4, 4\n",
    "\n",
    "There is no mode, because all observations occur the same number of times.\n",
    "\n",
    "### Many Modes\n",
    "If two (or more) numbers share the maximum value, then there is more than one mode. If we have the dataset:\n",
    "\n",
    "1, 2, 3, 3, 3, 4, 5, 6, 6, 6, 7, 8, 9\n",
    "\n",
    "There are two modes 3 and 6, because these values share the maximum frequencies at 3 times, while all other values only appear once."
   ]
  },
  {
   "cell_type": "markdown",
   "metadata": {},
   "source": [
    "# Notation\n",
    "Notation is a common language used to communicate mathematical ideas. **Think of notation as a universal language used by academic and industry professionals to convey mathematical ideas**. In the next videos, you might see things that seem confusing. Use the quizzes to assist with your understanding of the concepts.\n",
    "\n",
    "You likely already know some notation. Plus, minus, multiply, division, and equal signs all have mathematical symbols that you are likely familiar with. Each of these symbols replaces an idea for how numbers interact with one another. In the coming concepts, you will be introduced to some additional ideas related to notation. Though you will not need to use notation to complete the project, it does have the following properties:\n",
    "\n",
    "1. **Understanding how to correctly use notation makes you seem really smart.** Knowing how to read and write in notation is like learning a new language. A language that is used to convey ideas associated with mathematics.\n",
    "1. **It allows you to read documentation, and implement an idea to your own problem.** Notation is used to convey how problems are solved all the time. One really popular mathematical algorithm that is used to solve some of the world's most difficult problems is known as Gradient Boosting. The way that it solves problems is explained here: https://en.wikipedia.org/wiki/Gradient_boosting. If you really want to understand how this algorithm works, you need to be able to read and understand notation.\n",
    "1. **It makes ideas that are hard to say in words easier to convey.** Sometimes we just don't have the right words to say. For those situations, I prefer to use notation to convey the message. Similar to the way an emoji or meme might convey a feeling better than words, notation can convey an idea better than words. Usually those ideas are related to mathematics, but I am not here to stifle your creativity."
   ]
  },
  {
   "cell_type": "markdown",
   "metadata": {},
   "source": [
    "## Example to Introduce Notation\n",
    "There is a lot going on in this video - here is a recap of the big ideas.\n",
    "\n",
    "### Rows and Columns\n",
    "If you aren't familiar with spreadsheets, this will be covered in detail in future lessons. Spreadsheets are a common way to hold data. They are composed of rows and columns. Rows run horizontally, while columns run vertically. Each column in a spreadsheet commonly holds a specific **variable**, while each row is commonly called an **instance** or **individual**.\n",
    "\n",
    "The example used in the video is shown below.\n",
    "![firstTable](./assets/l1_20_1.png)\n",
    "\n",
    "This is a **row**:\n",
    "![secondTable](./assets/l1_20_2.png)\n",
    "\n",
    "This is a **column**:\n",
    "![thirdTable](./assets/l1_20_3.png)\n",
    "\n",
    "### Before Collecting Data\n",
    "**Before collecting data, we usually start with a question, or many questions, that we would like to answer. The purpose of data is to help us in answering these questions.**\n",
    "\n",
    "### Random Variables\n",
    "A **random variable** is a placeholder for the possible values of some process (mostly... the term 'some process' is a bit ambiguous). As was stated before, notation is useful in that it helps us take complex ideas and simplify (often to a single letter or single symbol). We see random variables represented by capital letters ($X$, $Y$, or $Z$ are common ways to represent a random variable).\n",
    "\n",
    "We might have the random variable $X$, which is a holder for the possible values of the amount of time someone spends on our site. Or the random variable $Y$, which is a holder for the possible values of whether or not an individual purchases a product.\n",
    "\n",
    "$X$ is 'a holder' of the values that could possibly occur for the amount of time spent on our website. Any number from 0 to infinity really."
   ]
  },
  {
   "cell_type": "markdown",
   "metadata": {},
   "source": [
    "## Capital vs. Lower Case Letters\n",
    "**Random variables** are represented by capital letters. Once we observe an outcome of these random variables, we notate it as a lower case of the same letter.\n",
    "\n",
    "### Example 1\n",
    "For example, the **amount of time someone spends on our site** is a **random variable** (we are not sure what the outcome will be for any particular visitor), and we would notate this with $X$. Then when the first person visits the website, if they spend 5 minutes, we have now observed this outcome of our random variable. We would notate any outcome as a lowercase letter with a subscript associated with the order that we observed the outcome.\n",
    "\n",
    "If 5 individuals visit our website, the first spends 10 minutes, the second spends 20 minutes, the third spends 45 mins, the fourth spends 12 minutes, and the fifth spends 8 minutes; we can notate this problem in the following way:\n",
    "\n",
    "$X$ is the amount of time an individual spends on the website.\n",
    "\n",
    "\\begin{equation}\n",
    "\\begin{matrix}\n",
    "x_1 = 10,& \n",
    "x_2 = 20,& \n",
    "x_3 = 45,& \n",
    "x_4 = 12,& \n",
    "x_5 = 8\n",
    "\\end{matrix}\n",
    "\\end{equation}\n",
    "\n",
    "The capital $X$ is associated with this idea of a **random variable**, while the observations of the random variable take on lowercase $x$ values.\n",
    "\n",
    "### Example 2\n",
    "Taking this one step further, we could ask:\n",
    "\n",
    "**What is the probability someone spends more than 20 minutes in our website?**\n",
    "\n",
    "In notation, we would write:\n",
    "\n",
    "$P(X > 20)$?\n",
    "\n",
    "Here $P$ stands for **probability**, while the parentheses encompass the statement for which we would like to find the probability. Since $X$ represents the amount of time spent on the website, this notation represents the probability the amount of time on the website is greater than 20.\n",
    "\n",
    "We could find this in the above example by noticing that only one of the 5 observations exceeds 20. So, we would say there is a **1** (the 45) **in 5 or 20%** chance that an individual spends more than 20 minutes on our website (based on this dataset).\n",
    "\n",
    "### Example 3\n",
    "If we asked: **What is the probability of an individual spending 20 or more minutes on our website?** We could notate this as:\n",
    "\n",
    "$P(X \\geq≥ 20)$?\n",
    "\n",
    "We could then find this by noticing there are two out of the five individuals that spent 20 or more minutes on the website. So this probability is **2 out of 5 or 40%.**"
   ]
  },
  {
   "cell_type": "markdown",
   "metadata": {},
   "source": [
    "## Notation for Calculating the Mean\n",
    "We know that the mean is calculated as the sum of all our values divided by the number of values in our dataset.\n",
    "\n",
    "In our current notation, adding all of our values together can be extremely tedious. If we want to add 3 values of some random variable together, we would use the notation:\n",
    "\n",
    "\\begin{equation}\n",
    "x_1 + x_2 + x_3\n",
    "\\end{equation}\n",
    "\n",
    "If we want to add 6 values together, we would use the notation:\n",
    "$$\n",
    "x_1 + x_2 + x_3 + x_4 + x_5 + x_6\n",
    "$$\n",
    "\n",
    "To extend this to add one hundred, one thousand, or one million values would be ridiculous! How can we make this easier to communicate?!"
   ]
  },
  {
   "cell_type": "markdown",
   "metadata": {},
   "source": [
    "## Aggregations\n",
    "An **aggregation** is a way to turn multiple numbers into fewer numbers (commonly one number).\n",
    "\n",
    "**Summation** is a common aggregation. The notation used to sum our values is a greek symbol called sigma \\SigmaΣ.\n",
    "\n",
    "### Example 1\n",
    "Imagine we are looking at the amount of time individuals spend on our website. We collect data from nine individuals:\n",
    "$$\n",
    "\\begin{matrix}\n",
    "x_1 = 10,&\n",
    "x_2 = 20,&\n",
    "x_3 = 45,&\n",
    "x_4 = 12,&\n",
    "x_5 = 8,&\n",
    "x_6 = 12,&\n",
    "x_7 = 3,&\n",
    "x_8 = 68,&\n",
    "x_9 = 5,&\n",
    "\\end{matrix}\n",
    "$$\n",
    "\n",
    "If we want to sum the **first three values** together in our previous notation, we write:\n",
    "$$\n",
    "x_1 + x_2 + x_3\n",
    "$$\n",
    "\n",
    "In our new notation, we can write:\n",
    "$$\n",
    "\\sum_{i=1}^{3}x_i\n",
    "$$\n",
    "\n",
    "Notice, our notation starts at the first observation ($i=1$) and ends at 3 (the number at the top of our summation).\n",
    "\n",
    "So all of the following are equal to one another:\n",
    "\n",
    "$$\n",
    "\\sum_{i=1}^{3}x_i = x_1 + x_2 + x_3 = 10 + 20 + 48 = 75\n",
    "$$\n",
    "\n",
    "### Example 2\n",
    "Now, imagine we want to sum the last three values together.\n",
    "$$\n",
    "x_7 + x_8 + x_9\n",
    "$$\n",
    "\n",
    "In our new notation, we can write:\n",
    "$$\n",
    "\\sum_{i=7}^{9}x_i\n",
    "$$\n",
    "\n",
    "Notice, our notation starts at the seventh observation ($i=7$) and ends at 9 (the number at the top of our summation).\n",
    "\n",
    "### Other Aggregations\n",
    "The $\\sum$ sign is used for aggregating using summation, but we might choose to aggregate in other ways. Summing is one of the most common ways to need to aggregate. However, we might need to aggregate in alternative ways. If we wanted to multiply all of our values together we would use a product sign $\\prod$ , capital Greek letter pi. The way we aggregate continuous values is with something known as integration (a common technique in calculus), which uses the following symbol $\\int$ which is just a long s. We will not be using integrals or products for quizzes in this class, but you may see them in the future!"
   ]
  },
  {
   "cell_type": "markdown",
   "metadata": {},
   "source": [
    "## Final Steps for Calculating the Mean\n",
    "To finalize our calculation of the mean, we introduce n as the total number of values in our dataset. We can use this notation both at the top of our summation, as well as for the value that we divide by when calculating the mean.\n",
    "$$\n",
    "\\frac{1}{n}\\sum_{i=1}^{n}x_i\n",
    "$$\n",
    "Instead of writing out all of the above, we commonly write $\\bar{x}$ to represent the mean of a dataset. Although, similar to the first video, we could use any variable. Therefore, we might also write $\\bar{y} $, or any other letter.\n",
    "\n",
    "We also could index using any other letter, not just $i$. We could just as easily use $j$, $k$, or $m$ to index each of our data values. The quizzes on the next concept will help reinforce this idea.\n",
    "\n",
    "### Notice\n",
    "At second 0:12, this should say $\\sum_{i=1}^{5}x_i=x_1+x_2+x_3+x_4+x_5$. The $x_i$ is missing here in front of the summation."
   ]
  },
  {
   "cell_type": "markdown",
   "metadata": {},
   "source": [
    "# Notation Recap\n",
    "Notation is an essential tool for communicating mathematical ideas. We have introduced the fundamentals of notation in this lesson that will allow you to read, write, and communicate with others using your new skills!\n",
    "\n",
    "# Notation and Random Variables\n",
    "As a quick recap, **capital letters** signify **random variables**. When we look at **individual instances** of a particular random variable, we identify these as **lowercase letters** with subscripts attach themselves to each specific observation.\n",
    "\n",
    "For example, we might have $X$ be the amount of time an individual spends on our website. Our first visitor arrives and spends 10 minutes on our website, and we would say $x_1$ is 10 minutes.\n",
    "\n",
    "We might imagine the random variables as columns in our dataset, while a particular value would be notated with the lower case letters.\n",
    "\n",
    "![table](./assets/l1_29.png)\n",
    "\n",
    "# Notation for the Mean\n",
    "We took our notation even farther by introducing the notation for summation $\\sum$. Using this we were able to calculate the mean as:\n",
    "$$\n",
    "\\frac{1}{n}\\sum_{i=1}^{n}x_i\n",
    "$$\n",
    "\n",
    "In the next section, you will see this notation used to assist in your understanding of calculating various measures of spread. Notation can take time to fully grasp. Understanding notation not only helps in conveying mathematical ideas, but also in writing computer programs - if you decide you want to learn that too! Soon you will analyze data using spreadsheets. When that happens, many of these operations will be hidden by the functions you will be using. But until we get to spreadsheets, it is important to understand how mathematical ideas are commonly communicated. **This isn't easy, but you can do it!**"
   ]
  },
  {
   "cell_type": "code",
   "execution_count": null,
   "metadata": {},
   "outputs": [],
   "source": []
  }
 ],
 "metadata": {
  "hide_input": false,
  "kernelspec": {
   "display_name": "Python 3",
   "language": "python",
   "name": "python3"
  },
  "language_info": {
   "codemirror_mode": {
    "name": "ipython",
    "version": 3
   },
   "file_extension": ".py",
   "mimetype": "text/x-python",
   "name": "python",
   "nbconvert_exporter": "python",
   "pygments_lexer": "ipython3",
   "version": "3.8.5"
  },
  "latex_envs": {
   "LaTeX_envs_menu_present": true,
   "autoclose": false,
   "autocomplete": true,
   "bibliofile": "biblio.bib",
   "cite_by": "apalike",
   "current_citInitial": 1,
   "eqLabelWithNumbers": true,
   "eqNumInitial": 1,
   "hotkeys": {
    "equation": "Ctrl-E",
    "itemize": "Ctrl-I"
   },
   "labels_anchors": false,
   "latex_user_defs": false,
   "report_style_numbering": false,
   "user_envs_cfg": false
  },
  "toc": {
   "base_numbering": 1,
   "nav_menu": {},
   "number_sections": true,
   "sideBar": true,
   "skip_h1_title": false,
   "title_cell": "Table of Contents",
   "title_sidebar": "Contents",
   "toc_cell": false,
   "toc_position": {},
   "toc_section_display": true,
   "toc_window_display": true
  },
  "varInspector": {
   "cols": {
    "lenName": 16,
    "lenType": 16,
    "lenVar": 40
   },
   "kernels_config": {
    "python": {
     "delete_cmd_postfix": "",
     "delete_cmd_prefix": "del ",
     "library": "var_list.py",
     "varRefreshCmd": "print(var_dic_list())"
    },
    "r": {
     "delete_cmd_postfix": ") ",
     "delete_cmd_prefix": "rm(",
     "library": "var_list.r",
     "varRefreshCmd": "cat(var_dic_list()) "
    }
   },
   "types_to_exclude": [
    "module",
    "function",
    "builtin_function_or_method",
    "instance",
    "_Feature"
   ],
   "window_display": false
  }
 },
 "nbformat": 4,
 "nbformat_minor": 4
}
