{
 "cells": [
  {
   "cell_type": "markdown",
   "metadata": {},
   "source": [
    "# Introduction\n",
    "If you have not been introduced to this topic before, hypothesis testing can be a challenging subject.\n",
    "\n",
    "Watching videos, performing quizzes, and working through the coding exercises more than once will assist with your understanding. If you are feeling really stuck, take a break. Often coming back to a topic with a clear perspective can assist with gaining the bigger picture.\n",
    "\n",
    "If you get stuck on a programming exercise or want to double check your solutions, solution notebooks are available in the resources of the classroom. It is in your own best interests to attempt the exercises on your own first."
   ]
  },
  {
   "cell_type": "markdown",
   "metadata": {},
   "source": [
    "# Setting Up Hypothesis Tests\n",
    "1. The $H_0$ is true before you collect any data.\n",
    "\n",
    "2. The $H_0$ usually states there is no effect or that two groups are equal.\n",
    "\n",
    "3. The $H_0$ and $H_1$ are competing, non-overlapping hypotheses.\n",
    "\n",
    "4. $H_1$ is what we would like to prove to be true.\n",
    "\n",
    "5. $H_0$ contains an equal sign of some kind - either $=$, $\\leq$, or $\\geq$.\n",
    "\n",
    "6. $H_1$ contains the opposition of the null - either $\\neq$, $>$, or $<$.\n",
    "\n",
    "You saw that the statement, \"Innocent until proven guilty\" is one that suggests the following hypotheses are true:\n",
    "\n",
    "$H_0$ : Innocent\n",
    "\n",
    "$H_1$ : Guilty\n",
    "\n",
    "We can relate this to the idea that \"innocent\" is true before we collect any data. Then the alternative must be a competing, non-overlapping hypothesis. Hence, the alternative hypothesis is that an individual is guilty."
   ]
  },
  {
   "cell_type": "markdown",
   "metadata": {},
   "source": [
    "Because we wanted to test if a new page was better than an existing page, we set that up in the alternative. Two indicators are that the null should hold the equality, and the statement we would like to be true should be in the alternative. Therefore, it would look like this:\n",
    "\n",
    "$H_0 : \\mu_1 \\leq \\mu_2$\n",
    "$ H_1 : \\mu_1 > \\mu_2$\n",
    "\n",
    "Here $\\mu_1$ represents the population mean return from the new page. Similarly, $\\mu_2$ represents the population mean return from the old page.\n",
    "\n",
    "Depending on your question of interest, you would change your null and alternative hypotheses to match."
   ]
  },
  {
   "cell_type": "markdown",
   "metadata": {},
   "source": [
    "# Types of Errors\n",
    "## Type I Errors\n",
    "**Type I errors** have the following features:\n",
    "\n",
    "1. You should set up your null and alternative hypotheses, so that the worse of your errors is the type I error.\n",
    "1. They are denoted by the symbol \\alphaα.\n",
    "1. The definition of a type I error is: **Deciding the alternative ($H_1$)is true, when actually ($H_0$) is true.**\n",
    "1. Type I errors are often called **false positives**.\n",
    "\n",
    "## Type II Errors\n",
    "1. They are denoted by the symbol $\\beta$\n",
    "1. The definition of a type II error is: **Deciding the null ($H_0$) is true, when actually ($H_1$)is true.**\n",
    "1. Type II errors are often called **false negatives**.\n",
    "\n",
    "In the most extreme case, we can always choose one hypothesis (say always choosing the null) to ensure that a particular error never occurs (never a type I error assuming we always choose the null). However, more generally, there is a relationship where with a single set of data decreasing your chance of one type of error, increases the chance of the other error occurring."
   ]
  },
  {
   "cell_type": "markdown",
   "metadata": {},
   "source": [
    "## Parachute Example\n",
    "This example let you see one of the most extreme cases of errors that might be committed in hypothesis testing. In a type I error an individual died. In a type II error, you lost 30 dollars.\n",
    "\n",
    "In the hypothesis tests you build in the upcoming lessons, you will be able to choose a type I error threshold, and your hypothesis tests will be created to minimize the type II errors after ensuring the type I error rate is met."
   ]
  },
  {
   "cell_type": "markdown",
   "metadata": {},
   "source": [
    "# Common Types of Hypothesis Tests\n",
    "You are always performing hypothesis tests on population parameters, never on statistics. Statistics are values that you already have from the data, so it does not make sense to perform hypothesis tests on these values.\n",
    "\n",
    "Common hypothesis tests include:\n",
    "\n",
    "1. Testing a population mean ([One sample t-test](http://sites.utexas.edu/sos/guided/inferential/numeric/claim/one-sample-t/)).\n",
    "\n",
    "2. Testing the difference in means ([Two sample t-test](https://www.isixsigma.com/tools-templates/hypothesis-testing/making-sense-two-sample-t-test/))\n",
    "\n",
    "3. Testing the difference before and after some treatment on the same individual ([Paired t-test](http://www.statstutor.ac.uk/resources/uploaded/paired-t-test.pdf))\n",
    "\n",
    "4. Testing a population proportion ([One sample z-test](https://stattrek.com/statistics/dictionary.aspx?definition=one-sample%20z-test))\n",
    "\n",
    "5. Testing the difference between population proportions ([Two sample z-test](https://online.stat.psu.edu/stat414/node/268))\n",
    "\n",
    "You can use one of these sites to provide a t-table or z-table to support one of the above approaches:\n",
    "\n",
    "* [t-table](https://s3.amazonaws.com/udacity-hosted-downloads/t-table.jpg)\n",
    "* [t-table or z-table](http://www.z-table.com/t-value-table.html)\n",
    "\n",
    "There are literally hundreds of different hypothesis tests! However, instead of memorizing how to perform all of these tests, you can find the statistic(s) that best estimates the parameter(s) you want to estimate, you can bootstrap to simulate the sampling distribution. Then you can use your sampling distribution to assist in choosing the appropriate hypothesis."
   ]
  },
  {
   "cell_type": "markdown",
   "metadata": {},
   "source": [
    "# What Is A P-value Anyway?\n",
    "The definition of a p-value is **the probability of observing your statistic (or one more extreme in favor of the alternative) if the null hypothesis is true.**\n",
    "\n",
    "In this video, you learned exactly how to calculate this value. The **more extreme in favor of the alternative** portion of this statement determines the shading associated with your p-value.\n",
    "\n",
    "Therefore, you have the following cases:\n",
    "\n",
    "If your parameter is greater than some value in the alternative hypothesis, your shading would look like this to obtain your p-value:\n",
    "![image1](./assets/l12_20_1.png)\n",
    "\n",
    "If your parameter is less than some value in the alternative hypothesis, your shading would look like this to obtain your p-value:\n",
    "![image1](./assets/l12_20_2.png)\n",
    "\n",
    "If your parameter is not equal to some value in the alternative hypothesis, your shading would look like this to obtain your p-value:\n",
    "![image1](./assets/l12_20_3.png)\n",
    "\n",
    "You could integrate the sampling distribution to obtain the area for each of these p-values. Alternatively, you will be simulating to obtain these proportions in the next concepts.\n",
    "\n",
    ";"
   ]
  },
  {
   "cell_type": "markdown",
   "metadata": {},
   "source": [
    "# Calculate P-value\n",
    "There are a lot of moving parts in these videos. Let's highlight the process:\n",
    "\n",
    "1. Simulate the values of your statistic that are possible from the null.\n",
    "1. Calculate the value of the statistic you actually obtained in your data.\n",
    "1. Compare your statistic to the values from the null.\n",
    "1. Calculate the proportion of null values that are considered **extreme** based on your alternative."
   ]
  },
  {
   "cell_type": "markdown",
   "metadata": {},
   "source": [
    "# Connecting Errors and P-Values\n",
    "The p-value is the probability of getting our statistic or a more extreme value if the null is true.\n",
    "\n",
    "Therefore, small p-values suggest our null is not true. Rather, our statistic is likely to have come from a different distribution than the null.\n",
    "\n",
    "When the p-value is large, we have evidence that our statistic was likely to come from the null hypothesis. Therefore, we do not have evidence to reject the null.\n",
    "\n",
    "By comparing our p-value to our type I error threshold ($\\alpha$), we can make our decision about which hypothesis we will choose.\n",
    "\n",
    "$pval \\leq \\alpha \\implies \\text{Reject } H_0$\n",
    "\n",
    "$pval > \\alpha \\implies \\text{Fail to Reject } H_0$\n"
   ]
  },
  {
   "cell_type": "markdown",
   "metadata": {},
   "source": [
    "# Other Things to Consider - Impact of Large Sample Size\n",
    "One of the most important aspects of interpreting any statistical results (and one that is frequently overlooked) is assuring that your sample is truly representative of your population of interest.\n",
    "\n",
    "Particularly in the way that data is collected today in the age of computers, **response bias** is so important to keep in mind. In the 2016 U.S election, polls conducted by many news media suggested a staggering difference from the reality of poll results. You can read about how response bias played a role [here](https://www.pewresearch.org/fact-tank/2016/11/09/why-2016-election-polls-missed-their-mark/).\n",
    "\n",
    "## Hypothesis Testing vs. Machine Learning\n",
    "With large sample sizes, hypothesis testing leads to even the smallest of findings as **statistically significant**. However, these findings might not be practically significant at all.\n",
    "\n",
    "For example, imagine you find that **statistically** more people prefer beverage 1 to beverage 2 in a study of more than one million people. Based on this you decide to open a shop to sell beverage 1. You then find out that beverage 1 is only more popular than beverage 2 by 0.0002% (but a statistically significant amount with your large sample size). Practically, maybe you should have opened a store that sold both.\n",
    "\n",
    "Hypothesis testing takes an aggregate approach towards the conclusions made based on data, as these tests are aimed at understanding population parameters (which are aggregate population values).\n",
    "\n",
    "Alternatively, machine learning techniques take an individual approach towards making conclusions, as they attempt to predict an outcome for each specific data point.\n",
    "\n",
    "In the final lessons of this class, you will learn about two of the most fundamental machine learning approaches used in practice: **linear** and **logistic** regression."
   ]
  },
  {
   "cell_type": "markdown",
   "metadata": {},
   "source": [
    "## What If We Test More Than Once?\n",
    "When performing more than one hypothesis test, your type I error compounds. In order to correct for this, a common technique is called the **Bonferroni** correction. This correction is **very conservative**, but says that your new type I error rate should be the error rate you actually want divided by the number of tests you are performing.\n",
    "\n",
    "Therefore, if you would like to hold a type I error rate of 1% for each of 20 hypothesis tests, the **Bonferroni** corrected rate would be 0.01/20 = 0.0005. This would be the new rate you should use as your comparison to the p-value for each of the 20 tests to make your decision.\n",
    "\n",
    "## Other Techniques\n",
    "Additional techniques to protect against compounding type I errors include:\n",
    "\n",
    "* [Tukey correction](http://www.itl.nist.gov/div898/handbook/prc/section4/prc471.htm)\n",
    "\n",
    "* [Q-values](http://www.nonlinear.com/support/progenesis/comet/faq/v2.0/pq-values.aspx)"
   ]
  },
  {
   "cell_type": "markdown",
   "metadata": {},
   "source": [
    "# Recap\n",
    "Wow! That was a ton. You learned:\n",
    "\n",
    "1. How to set up hypothesis tests. You learned the null hypothesis is what we assume to be true before we collect any data, and the alternative is usually what we want to try and prove to be true.\n",
    "\n",
    "\n",
    "2. You learned about Type I and Type II errors. You learned that Type I errors are the worst type of errors, and these are associated with choosing the alternative when the null hypothesis is actually true.\n",
    "\n",
    "\n",
    "3. You learned that p-values are the probability of observing your data or something more extreme in favor of the alternative given the null hypothesis is true. You learned that using a confidence interval from the bootstrapping samples, you can essentially make the same decisions as in hypothesis testing (without all of the confusion of p-values).\n",
    "\n",
    "\n",
    "4. You learned how to make decisions based on p-values. That is, if the p-value is less than your Type I error threshold, then you have evidence to reject the null and choose the alternative. Otherwise, you fail to reject the null hypothesis.\n",
    "\n",
    "\n",
    "5. You learned that when sample sizes are really large, everything appears statistically significant (that is you end up rejecting essentially every null), but these results may not be practically significant.\n",
    "\n",
    "\n",
    "6. You learned that when performing multiple hypothesis tests, your errors will compound. Therefore, using some sort of correction to maintain your true Type I error rate is important. A simple, but very conservative approach is to use what is known as a Bonferroni correction, which says you should just divide your \\alphaα level (or Type I error threshold) by the number of tests performed.\n",
    "\n",
    "This lesson is often the most challenging for students throughout the entire nanodegree program. In order to really have the ideas here stick, it can help to put them down in your own words.\n",
    "\n",
    "Below are some quizzes to test that you are leaving with the main ideas from this lesson, as well as a link to a great blog post, written by one of your fellow classmates, to assist with the ideas of this lesson!\n",
    "\n",
    "[\"WHAT IS A P-VALUE?\" BLOG POST](https://rebeccaebarnes.github.io/2018/05/01/what-is-a-p-value)"
   ]
  },
  {
   "cell_type": "code",
   "execution_count": null,
   "metadata": {},
   "outputs": [],
   "source": []
  }
 ],
 "metadata": {
  "hide_input": false,
  "kernelspec": {
   "display_name": "Python 3",
   "language": "python",
   "name": "python3"
  },
  "language_info": {
   "codemirror_mode": {
    "name": "ipython",
    "version": 3
   },
   "file_extension": ".py",
   "mimetype": "text/x-python",
   "name": "python",
   "nbconvert_exporter": "python",
   "pygments_lexer": "ipython3",
   "version": "3.8.5"
  },
  "latex_envs": {
   "LaTeX_envs_menu_present": true,
   "autoclose": false,
   "autocomplete": true,
   "bibliofile": "biblio.bib",
   "cite_by": "apalike",
   "current_citInitial": 1,
   "eqLabelWithNumbers": true,
   "eqNumInitial": 1,
   "hotkeys": {
    "equation": "Ctrl-E",
    "itemize": "Ctrl-I"
   },
   "labels_anchors": false,
   "latex_user_defs": false,
   "report_style_numbering": false,
   "user_envs_cfg": false
  },
  "toc": {
   "base_numbering": 1,
   "nav_menu": {},
   "number_sections": true,
   "sideBar": true,
   "skip_h1_title": false,
   "title_cell": "Table of Contents",
   "title_sidebar": "Contents",
   "toc_cell": false,
   "toc_position": {},
   "toc_section_display": true,
   "toc_window_display": true
  },
  "varInspector": {
   "cols": {
    "lenName": 16,
    "lenType": 16,
    "lenVar": 40
   },
   "kernels_config": {
    "python": {
     "delete_cmd_postfix": "",
     "delete_cmd_prefix": "del ",
     "library": "var_list.py",
     "varRefreshCmd": "print(var_dic_list())"
    },
    "r": {
     "delete_cmd_postfix": ") ",
     "delete_cmd_prefix": "rm(",
     "library": "var_list.r",
     "varRefreshCmd": "cat(var_dic_list()) "
    }
   },
   "types_to_exclude": [
    "module",
    "function",
    "builtin_function_or_method",
    "instance",
    "_Feature"
   ],
   "window_display": false
  }
 },
 "nbformat": 4,
 "nbformat_minor": 4
}
