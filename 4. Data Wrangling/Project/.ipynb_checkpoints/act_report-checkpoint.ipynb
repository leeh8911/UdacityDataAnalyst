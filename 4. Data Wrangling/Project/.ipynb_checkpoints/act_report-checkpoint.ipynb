{
 "cells": [
  {
   "cell_type": "markdown",
   "metadata": {},
   "source": [
    "# Act Report\n",
    "reported by Sangwon Lee\n",
    "\n",
    "## What Is In `WeRateDogs`\n",
    "In the world, there exist many kind of dogs. People love these dogs cuase so many reason(e.g. cute, loyal, reliable, and so on). I wondered what kind of dogs were getting more love. Finally, Given the `WeRateDogs` dataset. So, after wrangling based on this data, I want to see which dogs are getting more love.\n",
    "\n",
    "## What kind of dogs were more tweeted?\n",
    "In `WeRateDogs`, very many kind of dogs. some tweet include golden-retriever, some tweet include pug. I wonder how many dogs there are in each species. Therefore I want to know what kind of dog species in each tweet images. However there is no species data in dataset, but there is image classification result. Image classification result have classified species and confidence of classifications. Therefore, if there is one dog in each image, the confidence can be regarded as the expected value of the number of dogs of each kind in the image. The figure below is the result of adding the confidence of each tweet's image prediction value for each species.\n"
   ]
  },
  {
   "cell_type": "markdown",
   "metadata": {},
   "source": [
    "![title](dog_species.jpg)"
   ]
  },
  {
   "cell_type": "markdown",
   "metadata": {},
   "source": [
    "In this image, \n",
    "* In left image, there are very many golden retriever images in twitter\n",
    "* In right image, there are very many kind of dog species which sum of confidence under 1(66% dog species are less than 1 sum of confidence).\n",
    "* Only about 33% of the dogs actually have dogs. In particular, most of them are `golden retriever`.\n",
    "\n",
    "## What kind of dogs people like?\n",
    "\n",
    "![title](favorite.jpg)"
   ]
  },
  {
   "cell_type": "code",
   "execution_count": null,
   "metadata": {},
   "outputs": [],
   "source": []
  }
 ],
 "metadata": {
  "kernelspec": {
   "display_name": "Python 3",
   "language": "python",
   "name": "python3"
  },
  "language_info": {
   "codemirror_mode": {
    "name": "ipython",
    "version": 3
   },
   "file_extension": ".py",
   "mimetype": "text/x-python",
   "name": "python",
   "nbconvert_exporter": "python",
   "pygments_lexer": "ipython3",
   "version": "3.8.5"
  },
  "latex_envs": {
   "LaTeX_envs_menu_present": true,
   "autoclose": false,
   "autocomplete": true,
   "bibliofile": "biblio.bib",
   "cite_by": "apalike",
   "current_citInitial": 1,
   "eqLabelWithNumbers": true,
   "eqNumInitial": 1,
   "hotkeys": {
    "equation": "Ctrl-E",
    "itemize": "Ctrl-I"
   },
   "labels_anchors": false,
   "latex_user_defs": false,
   "report_style_numbering": false,
   "user_envs_cfg": false
  },
  "toc": {
   "base_numbering": 1,
   "nav_menu": {},
   "number_sections": true,
   "sideBar": true,
   "skip_h1_title": false,
   "title_cell": "Table of Contents",
   "title_sidebar": "Contents",
   "toc_cell": false,
   "toc_position": {},
   "toc_section_display": true,
   "toc_window_display": false
  },
  "varInspector": {
   "cols": {
    "lenName": 16,
    "lenType": 16,
    "lenVar": 40
   },
   "kernels_config": {
    "python": {
     "delete_cmd_postfix": "",
     "delete_cmd_prefix": "del ",
     "library": "var_list.py",
     "varRefreshCmd": "print(var_dic_list())"
    },
    "r": {
     "delete_cmd_postfix": ") ",
     "delete_cmd_prefix": "rm(",
     "library": "var_list.r",
     "varRefreshCmd": "cat(var_dic_list()) "
    }
   },
   "types_to_exclude": [
    "module",
    "function",
    "builtin_function_or_method",
    "instance",
    "_Feature"
   ],
   "window_display": false
  }
 },
 "nbformat": 4,
 "nbformat_minor": 4
}
