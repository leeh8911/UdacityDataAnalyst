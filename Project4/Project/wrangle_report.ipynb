{
 "cells": [
  {
   "cell_type": "markdown",
   "metadata": {},
   "source": [
    "# Wrangle Report\n",
    "by Sangwon Lee\n",
    "\n",
    "## WeRateDogs report\n",
    "Wrangling the WeRateDog project wrangle dataset which is the tweet archive of Twitteruser @dog_rates. This project goals included:\n",
    "* Data wrangling, which consists of:\n",
    "    * Gathering data\n",
    "    * Assessing data\n",
    "    * Cleaning data\n",
    "* Storing, analyzing, and visualizing wrangled data\n",
    "* Reporting on data wrangling efforts and data analyses and visualizations\n",
    "\n",
    "## Wrangling data\n",
    "In this project, I need to dataset of `WeRateDogs` but there are 3 different sources. One thing is given csv file, one thing is given just url, and another data on twitter. In order to analyze and visualize the dataset, I need to `gather`, `assess`, and `clean` the datasets.\n",
    "\n",
    "### Gathering\n",
    "First data is given `*.csv`, second data is needed to programatically download using `Requests` library, and third data is scraping on twitter using API, called `Tweepy`.\n",
    "\n",
    "### Assessing\n",
    "#### Quality Issues\n",
    "1. When manually check the data, `name`, `doggo`, `floofer`, `pupper` and `puppo` columns have None data. But programatically check using info function, then there are no null data.\n",
    "1. The'source' column refers to the device or location from which the Tweet was written (e.g. the Tweet was written to iPhone, Web, Deck or Vine).\n",
    "1. `rating_denominator` have zero value\n",
    "1. `in_reply_to_status_id` is float, but `id` columns must be intager.\n",
    "1. `in_reply_to_user_id` is float, but `id` columns must be intager.\n",
    "1. `p1`, `p2`, `p3`, kind of dogs name, have some duplicated name(lower case and first capitalized case)\n",
    "1. `doggo`, `floofer`, `pupper`, and `puppo` columns in `df_tw` data frame chage to one-hot-encoded variable\n",
    "1. In `df_tw`, `timestamp` and `retweeted_status_timestamp` columns datatype is object(string).\n",
    "1. `name` column have some false name like `a`, `O`, `his`, and so on.\n",
    "\n",
    "#### Tidiness Issues\n",
    "1. `tweet_id` is same column in `df_tw`, `df_img`, and `df_ex`, but `df_ex` is `object` type and others `int64`\n",
    "1. All data must be merged\n",
    "1. clean data by dropping duplicates row and not meaningful columns\n",
    "\n",
    "### Cleaning\n",
    "#### Clean Quality Issues\n",
    "1. \"None\" data change to None value\n",
    "1. `Source` column values change to simple\n",
    "1. `rating_denominator` value at least 1\n",
    "1. `in_reply_to_user_id` change to integer value\n",
    "1. `in_reply_to_status_id` change to integer value\n",
    "1. dog names change to lower case\n",
    "1. Value in `doggo`, `floofer`, `pupper`, and `puppo` columns change from string to true or false\n",
    "1. `datetime` columns change to seperated values\n",
    "1. false name change to `None` string\n",
    "\n",
    "#### Clean Tidiness Issues\n",
    "1. `tweet_id` in `df_ex` change to `int64` type\n",
    "1. all data frame merge\n",
    "1. Clean data by dropping duplicates row and not meaningful columns\n"
   ]
  },
  {
   "cell_type": "code",
   "execution_count": null,
   "metadata": {},
   "outputs": [],
   "source": []
  }
 ],
 "metadata": {
  "kernelspec": {
   "display_name": "Python 3",
   "language": "python",
   "name": "python3"
  },
  "language_info": {
   "codemirror_mode": {
    "name": "ipython",
    "version": 3
   },
   "file_extension": ".py",
   "mimetype": "text/x-python",
   "name": "python",
   "nbconvert_exporter": "python",
   "pygments_lexer": "ipython3",
   "version": "3.8.5"
  },
  "latex_envs": {
   "LaTeX_envs_menu_present": true,
   "autoclose": false,
   "autocomplete": true,
   "bibliofile": "biblio.bib",
   "cite_by": "apalike",
   "current_citInitial": 1,
   "eqLabelWithNumbers": true,
   "eqNumInitial": 1,
   "hotkeys": {
    "equation": "Ctrl-E",
    "itemize": "Ctrl-I"
   },
   "labels_anchors": false,
   "latex_user_defs": false,
   "report_style_numbering": false,
   "user_envs_cfg": false
  },
  "toc": {
   "base_numbering": 1,
   "nav_menu": {},
   "number_sections": true,
   "sideBar": true,
   "skip_h1_title": false,
   "title_cell": "Table of Contents",
   "title_sidebar": "Contents",
   "toc_cell": false,
   "toc_position": {},
   "toc_section_display": true,
   "toc_window_display": true
  },
  "varInspector": {
   "cols": {
    "lenName": 16,
    "lenType": 16,
    "lenVar": 40
   },
   "kernels_config": {
    "python": {
     "delete_cmd_postfix": "",
     "delete_cmd_prefix": "del ",
     "library": "var_list.py",
     "varRefreshCmd": "print(var_dic_list())"
    },
    "r": {
     "delete_cmd_postfix": ") ",
     "delete_cmd_prefix": "rm(",
     "library": "var_list.r",
     "varRefreshCmd": "cat(var_dic_list()) "
    }
   },
   "types_to_exclude": [
    "module",
    "function",
    "builtin_function_or_method",
    "instance",
    "_Feature"
   ],
   "window_display": false
  }
 },
 "nbformat": 4,
 "nbformat_minor": 4
}
