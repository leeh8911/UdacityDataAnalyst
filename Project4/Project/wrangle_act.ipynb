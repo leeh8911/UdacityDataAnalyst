{
 "cells": [
  {
   "cell_type": "markdown",
   "metadata": {},
   "source": [
    "# Import Libraries"
   ]
  },
  {
   "cell_type": "code",
   "execution_count": 1,
   "metadata": {
    "ExecuteTime": {
     "end_time": "2021-05-03T20:11:10.854841Z",
     "start_time": "2021-05-03T20:11:00.191287Z"
    }
   },
   "outputs": [],
   "source": [
    "import pandas as pd\n",
    "import requests\n",
    "import numpy as np\n",
    "import matplotlib.pyplot as plt\n",
    "import seaborn as sns\n",
    "\n",
    "import tweepy\n",
    "from tweepy import OAuthHandler\n",
    "import json\n",
    "from timeit import default_timer as timer\n",
    "\n",
    "import os"
   ]
  },
  {
   "cell_type": "markdown",
   "metadata": {},
   "source": [
    "# Gathering Data\n",
    "- manually download and upload `twitter-archive-enhanced.csv`\n",
    "- programatically download `image_predictions.tsv` using requests library\n",
    "- programatically collect `tweet_json.txt` using tweepy API\n",
    "\n",
    "## Read `twitter-archive-enhanced.csv`"
   ]
  },
  {
   "cell_type": "code",
   "execution_count": 2,
   "metadata": {
    "ExecuteTime": {
     "end_time": "2021-05-03T20:11:10.974680Z",
     "start_time": "2021-05-03T20:11:10.855843Z"
    },
    "scrolled": true
   },
   "outputs": [
    {
     "data": {
      "text/html": [
       "<div>\n",
       "<style scoped>\n",
       "    .dataframe tbody tr th:only-of-type {\n",
       "        vertical-align: middle;\n",
       "    }\n",
       "\n",
       "    .dataframe tbody tr th {\n",
       "        vertical-align: top;\n",
       "    }\n",
       "\n",
       "    .dataframe thead th {\n",
       "        text-align: right;\n",
       "    }\n",
       "</style>\n",
       "<table border=\"1\" class=\"dataframe\">\n",
       "  <thead>\n",
       "    <tr style=\"text-align: right;\">\n",
       "      <th></th>\n",
       "      <th>tweet_id</th>\n",
       "      <th>in_reply_to_status_id</th>\n",
       "      <th>in_reply_to_user_id</th>\n",
       "      <th>timestamp</th>\n",
       "      <th>source</th>\n",
       "      <th>text</th>\n",
       "      <th>retweeted_status_id</th>\n",
       "      <th>retweeted_status_user_id</th>\n",
       "      <th>retweeted_status_timestamp</th>\n",
       "      <th>expanded_urls</th>\n",
       "      <th>rating_numerator</th>\n",
       "      <th>rating_denominator</th>\n",
       "      <th>name</th>\n",
       "      <th>doggo</th>\n",
       "      <th>floofer</th>\n",
       "      <th>pupper</th>\n",
       "      <th>puppo</th>\n",
       "    </tr>\n",
       "  </thead>\n",
       "  <tbody>\n",
       "    <tr>\n",
       "      <th>0</th>\n",
       "      <td>892420643555336193</td>\n",
       "      <td>NaN</td>\n",
       "      <td>NaN</td>\n",
       "      <td>2017-08-01 16:23:56 +0000</td>\n",
       "      <td>&lt;a href=\"http://twitter.com/download/iphone\" r...</td>\n",
       "      <td>This is Phineas. He's a mystical boy. Only eve...</td>\n",
       "      <td>NaN</td>\n",
       "      <td>NaN</td>\n",
       "      <td>NaN</td>\n",
       "      <td>https://twitter.com/dog_rates/status/892420643...</td>\n",
       "      <td>13</td>\n",
       "      <td>10</td>\n",
       "      <td>Phineas</td>\n",
       "      <td>None</td>\n",
       "      <td>None</td>\n",
       "      <td>None</td>\n",
       "      <td>None</td>\n",
       "    </tr>\n",
       "    <tr>\n",
       "      <th>1</th>\n",
       "      <td>892177421306343426</td>\n",
       "      <td>NaN</td>\n",
       "      <td>NaN</td>\n",
       "      <td>2017-08-01 00:17:27 +0000</td>\n",
       "      <td>&lt;a href=\"http://twitter.com/download/iphone\" r...</td>\n",
       "      <td>This is Tilly. She's just checking pup on you....</td>\n",
       "      <td>NaN</td>\n",
       "      <td>NaN</td>\n",
       "      <td>NaN</td>\n",
       "      <td>https://twitter.com/dog_rates/status/892177421...</td>\n",
       "      <td>13</td>\n",
       "      <td>10</td>\n",
       "      <td>Tilly</td>\n",
       "      <td>None</td>\n",
       "      <td>None</td>\n",
       "      <td>None</td>\n",
       "      <td>None</td>\n",
       "    </tr>\n",
       "    <tr>\n",
       "      <th>2</th>\n",
       "      <td>891815181378084864</td>\n",
       "      <td>NaN</td>\n",
       "      <td>NaN</td>\n",
       "      <td>2017-07-31 00:18:03 +0000</td>\n",
       "      <td>&lt;a href=\"http://twitter.com/download/iphone\" r...</td>\n",
       "      <td>This is Archie. He is a rare Norwegian Pouncin...</td>\n",
       "      <td>NaN</td>\n",
       "      <td>NaN</td>\n",
       "      <td>NaN</td>\n",
       "      <td>https://twitter.com/dog_rates/status/891815181...</td>\n",
       "      <td>12</td>\n",
       "      <td>10</td>\n",
       "      <td>Archie</td>\n",
       "      <td>None</td>\n",
       "      <td>None</td>\n",
       "      <td>None</td>\n",
       "      <td>None</td>\n",
       "    </tr>\n",
       "    <tr>\n",
       "      <th>3</th>\n",
       "      <td>891689557279858688</td>\n",
       "      <td>NaN</td>\n",
       "      <td>NaN</td>\n",
       "      <td>2017-07-30 15:58:51 +0000</td>\n",
       "      <td>&lt;a href=\"http://twitter.com/download/iphone\" r...</td>\n",
       "      <td>This is Darla. She commenced a snooze mid meal...</td>\n",
       "      <td>NaN</td>\n",
       "      <td>NaN</td>\n",
       "      <td>NaN</td>\n",
       "      <td>https://twitter.com/dog_rates/status/891689557...</td>\n",
       "      <td>13</td>\n",
       "      <td>10</td>\n",
       "      <td>Darla</td>\n",
       "      <td>None</td>\n",
       "      <td>None</td>\n",
       "      <td>None</td>\n",
       "      <td>None</td>\n",
       "    </tr>\n",
       "    <tr>\n",
       "      <th>4</th>\n",
       "      <td>891327558926688256</td>\n",
       "      <td>NaN</td>\n",
       "      <td>NaN</td>\n",
       "      <td>2017-07-29 16:00:24 +0000</td>\n",
       "      <td>&lt;a href=\"http://twitter.com/download/iphone\" r...</td>\n",
       "      <td>This is Franklin. He would like you to stop ca...</td>\n",
       "      <td>NaN</td>\n",
       "      <td>NaN</td>\n",
       "      <td>NaN</td>\n",
       "      <td>https://twitter.com/dog_rates/status/891327558...</td>\n",
       "      <td>12</td>\n",
       "      <td>10</td>\n",
       "      <td>Franklin</td>\n",
       "      <td>None</td>\n",
       "      <td>None</td>\n",
       "      <td>None</td>\n",
       "      <td>None</td>\n",
       "    </tr>\n",
       "  </tbody>\n",
       "</table>\n",
       "</div>"
      ],
      "text/plain": [
       "             tweet_id  in_reply_to_status_id  in_reply_to_user_id  \\\n",
       "0  892420643555336193                    NaN                  NaN   \n",
       "1  892177421306343426                    NaN                  NaN   \n",
       "2  891815181378084864                    NaN                  NaN   \n",
       "3  891689557279858688                    NaN                  NaN   \n",
       "4  891327558926688256                    NaN                  NaN   \n",
       "\n",
       "                   timestamp  \\\n",
       "0  2017-08-01 16:23:56 +0000   \n",
       "1  2017-08-01 00:17:27 +0000   \n",
       "2  2017-07-31 00:18:03 +0000   \n",
       "3  2017-07-30 15:58:51 +0000   \n",
       "4  2017-07-29 16:00:24 +0000   \n",
       "\n",
       "                                              source  \\\n",
       "0  <a href=\"http://twitter.com/download/iphone\" r...   \n",
       "1  <a href=\"http://twitter.com/download/iphone\" r...   \n",
       "2  <a href=\"http://twitter.com/download/iphone\" r...   \n",
       "3  <a href=\"http://twitter.com/download/iphone\" r...   \n",
       "4  <a href=\"http://twitter.com/download/iphone\" r...   \n",
       "\n",
       "                                                text  retweeted_status_id  \\\n",
       "0  This is Phineas. He's a mystical boy. Only eve...                  NaN   \n",
       "1  This is Tilly. She's just checking pup on you....                  NaN   \n",
       "2  This is Archie. He is a rare Norwegian Pouncin...                  NaN   \n",
       "3  This is Darla. She commenced a snooze mid meal...                  NaN   \n",
       "4  This is Franklin. He would like you to stop ca...                  NaN   \n",
       "\n",
       "   retweeted_status_user_id retweeted_status_timestamp  \\\n",
       "0                       NaN                        NaN   \n",
       "1                       NaN                        NaN   \n",
       "2                       NaN                        NaN   \n",
       "3                       NaN                        NaN   \n",
       "4                       NaN                        NaN   \n",
       "\n",
       "                                       expanded_urls  rating_numerator  \\\n",
       "0  https://twitter.com/dog_rates/status/892420643...                13   \n",
       "1  https://twitter.com/dog_rates/status/892177421...                13   \n",
       "2  https://twitter.com/dog_rates/status/891815181...                12   \n",
       "3  https://twitter.com/dog_rates/status/891689557...                13   \n",
       "4  https://twitter.com/dog_rates/status/891327558...                12   \n",
       "\n",
       "   rating_denominator      name doggo floofer pupper puppo  \n",
       "0                  10   Phineas  None    None   None  None  \n",
       "1                  10     Tilly  None    None   None  None  \n",
       "2                  10    Archie  None    None   None  None  \n",
       "3                  10     Darla  None    None   None  None  \n",
       "4                  10  Franklin  None    None   None  None  "
      ]
     },
     "execution_count": 2,
     "metadata": {},
     "output_type": "execute_result"
    }
   ],
   "source": [
    "df_tw = pd.read_csv(\"./twitter-archive-enhanced.csv\")\n",
    "df_tw.head()"
   ]
  },
  {
   "cell_type": "markdown",
   "metadata": {},
   "source": [
    "## Download Programatically and Read `image_predictions.tsv` "
   ]
  },
  {
   "cell_type": "code",
   "execution_count": 3,
   "metadata": {
    "ExecuteTime": {
     "end_time": "2021-05-03T20:11:10.989681Z",
     "start_time": "2021-05-03T20:11:10.977682Z"
    }
   },
   "outputs": [
    {
     "name": "stdout",
     "output_type": "stream",
     "text": [
      "Do not write file\n"
     ]
    }
   ],
   "source": [
    "if os.path.isfile(\"./image_predictions.tsv\"):\n",
    "    print(\"Do not write file\")\n",
    "else:\n",
    "    print(\"Do write file\")\n",
    "    r = requests.get(\"https://d17h27t6h515a5.cloudfront.net/topher/2017/August/599fd2ad_image-predictions/image-predictions.tsv\")\n",
    "    with open(\"./image_predictions.tsv\",'w') as f:\n",
    "        f.write(r.text)\n"
   ]
  },
  {
   "cell_type": "code",
   "execution_count": 4,
   "metadata": {
    "ExecuteTime": {
     "end_time": "2021-05-03T20:11:11.034680Z",
     "start_time": "2021-05-03T20:11:10.991680Z"
    },
    "scrolled": true
   },
   "outputs": [
    {
     "data": {
      "text/html": [
       "<div>\n",
       "<style scoped>\n",
       "    .dataframe tbody tr th:only-of-type {\n",
       "        vertical-align: middle;\n",
       "    }\n",
       "\n",
       "    .dataframe tbody tr th {\n",
       "        vertical-align: top;\n",
       "    }\n",
       "\n",
       "    .dataframe thead th {\n",
       "        text-align: right;\n",
       "    }\n",
       "</style>\n",
       "<table border=\"1\" class=\"dataframe\">\n",
       "  <thead>\n",
       "    <tr style=\"text-align: right;\">\n",
       "      <th></th>\n",
       "      <th>tweet_id</th>\n",
       "      <th>jpg_url</th>\n",
       "      <th>img_num</th>\n",
       "      <th>p1</th>\n",
       "      <th>p1_conf</th>\n",
       "      <th>p1_dog</th>\n",
       "      <th>p2</th>\n",
       "      <th>p2_conf</th>\n",
       "      <th>p2_dog</th>\n",
       "      <th>p3</th>\n",
       "      <th>p3_conf</th>\n",
       "      <th>p3_dog</th>\n",
       "    </tr>\n",
       "  </thead>\n",
       "  <tbody>\n",
       "    <tr>\n",
       "      <th>0</th>\n",
       "      <td>666020888022790149</td>\n",
       "      <td>https://pbs.twimg.com/media/CT4udn0WwAA0aMy.jpg</td>\n",
       "      <td>1</td>\n",
       "      <td>Welsh_springer_spaniel</td>\n",
       "      <td>0.465074</td>\n",
       "      <td>True</td>\n",
       "      <td>collie</td>\n",
       "      <td>0.156665</td>\n",
       "      <td>True</td>\n",
       "      <td>Shetland_sheepdog</td>\n",
       "      <td>0.061428</td>\n",
       "      <td>True</td>\n",
       "    </tr>\n",
       "    <tr>\n",
       "      <th>1</th>\n",
       "      <td>666029285002620928</td>\n",
       "      <td>https://pbs.twimg.com/media/CT42GRgUYAA5iDo.jpg</td>\n",
       "      <td>1</td>\n",
       "      <td>redbone</td>\n",
       "      <td>0.506826</td>\n",
       "      <td>True</td>\n",
       "      <td>miniature_pinscher</td>\n",
       "      <td>0.074192</td>\n",
       "      <td>True</td>\n",
       "      <td>Rhodesian_ridgeback</td>\n",
       "      <td>0.072010</td>\n",
       "      <td>True</td>\n",
       "    </tr>\n",
       "    <tr>\n",
       "      <th>2</th>\n",
       "      <td>666033412701032449</td>\n",
       "      <td>https://pbs.twimg.com/media/CT4521TWwAEvMyu.jpg</td>\n",
       "      <td>1</td>\n",
       "      <td>German_shepherd</td>\n",
       "      <td>0.596461</td>\n",
       "      <td>True</td>\n",
       "      <td>malinois</td>\n",
       "      <td>0.138584</td>\n",
       "      <td>True</td>\n",
       "      <td>bloodhound</td>\n",
       "      <td>0.116197</td>\n",
       "      <td>True</td>\n",
       "    </tr>\n",
       "    <tr>\n",
       "      <th>3</th>\n",
       "      <td>666044226329800704</td>\n",
       "      <td>https://pbs.twimg.com/media/CT5Dr8HUEAA-lEu.jpg</td>\n",
       "      <td>1</td>\n",
       "      <td>Rhodesian_ridgeback</td>\n",
       "      <td>0.408143</td>\n",
       "      <td>True</td>\n",
       "      <td>redbone</td>\n",
       "      <td>0.360687</td>\n",
       "      <td>True</td>\n",
       "      <td>miniature_pinscher</td>\n",
       "      <td>0.222752</td>\n",
       "      <td>True</td>\n",
       "    </tr>\n",
       "    <tr>\n",
       "      <th>4</th>\n",
       "      <td>666049248165822465</td>\n",
       "      <td>https://pbs.twimg.com/media/CT5IQmsXIAAKY4A.jpg</td>\n",
       "      <td>1</td>\n",
       "      <td>miniature_pinscher</td>\n",
       "      <td>0.560311</td>\n",
       "      <td>True</td>\n",
       "      <td>Rottweiler</td>\n",
       "      <td>0.243682</td>\n",
       "      <td>True</td>\n",
       "      <td>Doberman</td>\n",
       "      <td>0.154629</td>\n",
       "      <td>True</td>\n",
       "    </tr>\n",
       "  </tbody>\n",
       "</table>\n",
       "</div>"
      ],
      "text/plain": [
       "             tweet_id                                          jpg_url  \\\n",
       "0  666020888022790149  https://pbs.twimg.com/media/CT4udn0WwAA0aMy.jpg   \n",
       "1  666029285002620928  https://pbs.twimg.com/media/CT42GRgUYAA5iDo.jpg   \n",
       "2  666033412701032449  https://pbs.twimg.com/media/CT4521TWwAEvMyu.jpg   \n",
       "3  666044226329800704  https://pbs.twimg.com/media/CT5Dr8HUEAA-lEu.jpg   \n",
       "4  666049248165822465  https://pbs.twimg.com/media/CT5IQmsXIAAKY4A.jpg   \n",
       "\n",
       "   img_num                      p1   p1_conf  p1_dog                  p2  \\\n",
       "0        1  Welsh_springer_spaniel  0.465074    True              collie   \n",
       "1        1                 redbone  0.506826    True  miniature_pinscher   \n",
       "2        1         German_shepherd  0.596461    True            malinois   \n",
       "3        1     Rhodesian_ridgeback  0.408143    True             redbone   \n",
       "4        1      miniature_pinscher  0.560311    True          Rottweiler   \n",
       "\n",
       "    p2_conf  p2_dog                   p3   p3_conf  p3_dog  \n",
       "0  0.156665    True    Shetland_sheepdog  0.061428    True  \n",
       "1  0.074192    True  Rhodesian_ridgeback  0.072010    True  \n",
       "2  0.138584    True           bloodhound  0.116197    True  \n",
       "3  0.360687    True   miniature_pinscher  0.222752    True  \n",
       "4  0.243682    True             Doberman  0.154629    True  "
      ]
     },
     "execution_count": 4,
     "metadata": {},
     "output_type": "execute_result"
    }
   ],
   "source": [
    "df_img = pd.read_csv(\"./image_predictions.tsv\", \"\\t\")\n",
    "df_img.head()"
   ]
  },
  {
   "cell_type": "markdown",
   "metadata": {},
   "source": [
    "## Get Json Data Using Tweeter API and Read `tweet_json.txt`"
   ]
  },
  {
   "cell_type": "code",
   "execution_count": 5,
   "metadata": {
    "ExecuteTime": {
     "end_time": "2021-05-03T20:11:11.049680Z",
     "start_time": "2021-05-03T20:11:11.035679Z"
    }
   },
   "outputs": [],
   "source": [
    "API_KEY = \"f7l6vCaVlUl4EtyuGXTSjA3GT\"\n",
    "API_SECRET_KEY = \"FqlwMcLTkwugF6j53lINh9JKBqkpDGUQlPkFOor4YWKFQohz8e\"\n",
    "\n",
    "ACCESS_TOKEN = \"1339802126977888257-Ll0Gc3UdaKeAbwqRz9yct4mZ7RIzuZ\"\n",
    "ACCESS_TOKEN_SECRET = \"0Eel6extd5kOmNE6XmPL6d0fy94suoGL2Un09RxdtqDCo\"\n",
    "\n",
    "consumer_key = API_KEY\n",
    "consumer_secret = API_SECRET_KEY\n",
    "access_token = ACCESS_TOKEN\n",
    "access_secret = ACCESS_TOKEN_SECRET"
   ]
  },
  {
   "cell_type": "code",
   "execution_count": 6,
   "metadata": {
    "ExecuteTime": {
     "end_time": "2021-05-03T20:11:11.064678Z",
     "start_time": "2021-05-03T20:11:11.050679Z"
    }
   },
   "outputs": [],
   "source": [
    "auth = OAuthHandler(consumer_key, consumer_secret)\n",
    "auth.set_access_token(access_token, access_secret)"
   ]
  },
  {
   "cell_type": "code",
   "execution_count": 7,
   "metadata": {
    "ExecuteTime": {
     "end_time": "2021-05-03T20:11:11.079681Z",
     "start_time": "2021-05-03T20:11:11.066680Z"
    }
   },
   "outputs": [],
   "source": [
    "api = tweepy.API(auth, \n",
    "                 parser = tweepy.parsers.JSONParser(), \n",
    "                 wait_on_rate_limit = True, \n",
    "                 wait_on_rate_limit_notify = True)"
   ]
  },
  {
   "cell_type": "code",
   "execution_count": 8,
   "metadata": {
    "ExecuteTime": {
     "end_time": "2021-05-03T20:11:11.094678Z",
     "start_time": "2021-05-03T20:11:11.081681Z"
    }
   },
   "outputs": [],
   "source": [
    "is_already_downloaded = True\n",
    "if(not is_already_downloaded):\n",
    "    #Download Tweepy status object based on Tweet ID and store in list\n",
    "    list_of_tweets = []\n",
    "    # Tweets that can't be found are saved in the list below:\n",
    "    cant_find_tweets_for_those_ids = []\n",
    "    for tweet_id in df_tw['tweet_id']:   \n",
    "        try:\n",
    "            list_of_tweets.append(api.get_status(tweet_id))\n",
    "        except Exception as e:\n",
    "            cant_find_tweets_for_those_ids.append(tweet_id)"
   ]
  },
  {
   "cell_type": "code",
   "execution_count": 9,
   "metadata": {
    "ExecuteTime": {
     "end_time": "2021-05-03T20:11:11.109680Z",
     "start_time": "2021-05-03T20:11:11.095679Z"
    }
   },
   "outputs": [],
   "source": [
    "if(not is_already_downloaded):\n",
    "    #Printing \n",
    "    print(\"The list of tweets\" ,len(list_of_tweets))\n",
    "    print(\"The list of tweets no found\" , len(cant_find_tweets_for_those_ids))"
   ]
  },
  {
   "cell_type": "code",
   "execution_count": 10,
   "metadata": {
    "ExecuteTime": {
     "end_time": "2021-05-03T20:11:11.124679Z",
     "start_time": "2021-05-03T20:11:11.111680Z"
    }
   },
   "outputs": [],
   "source": [
    "if(not is_already_downloaded):\n",
    "    #Then in this code block we isolate the json part of each tweepy \n",
    "    #status object that we have downloaded and we add them all into a list\n",
    "    my_list_of_dicts = []\n",
    "    for each_json_tweet in list_of_tweets:\n",
    "        my_list_of_dicts.append(each_json_tweet)"
   ]
  },
  {
   "cell_type": "code",
   "execution_count": 11,
   "metadata": {
    "ExecuteTime": {
     "end_time": "2021-05-03T20:11:11.139679Z",
     "start_time": "2021-05-03T20:11:11.125681Z"
    }
   },
   "outputs": [],
   "source": [
    "if(not is_already_downloaded):\n",
    "    #we write this list into a txt file:\n",
    "    with open('tweet_json.txt', 'w') as file:\n",
    "            file.write(json.dumps(my_list_of_dicts, indent=4))"
   ]
  },
  {
   "cell_type": "code",
   "execution_count": 12,
   "metadata": {
    "ExecuteTime": {
     "end_time": "2021-05-03T20:11:11.154678Z",
     "start_time": "2021-05-03T20:11:11.140680Z"
    }
   },
   "outputs": [],
   "source": [
    "if(not is_already_downloaded):\n",
    "    tweet_ids = df_tw['tweet_id'].values\n",
    "    len(tweet_ids)"
   ]
  },
  {
   "cell_type": "code",
   "execution_count": 13,
   "metadata": {
    "ExecuteTime": {
     "end_time": "2021-05-03T20:11:15.379680Z",
     "start_time": "2021-05-03T20:11:11.155679Z"
    }
   },
   "outputs": [],
   "source": [
    "#identify information of interest from JSON dictionaries in txt file\n",
    "#and put it in a dataframe called tweet JSON\n",
    "my_demo_list = []\n",
    "with open('tweet_json.txt', encoding='utf-8') as json_file: \n",
    "    \n",
    "    all_data = json.load(json_file)\n",
    "    for each_dictionary in all_data:\n",
    "        tweet_id = each_dictionary['id']\n",
    "        whole_tweet = each_dictionary['text']\n",
    "        only_url = whole_tweet[whole_tweet.find('https'):]\n",
    "        favorite_count = each_dictionary['favorite_count']\n",
    "        retweet_count = each_dictionary['retweet_count']\n",
    "        followers_count = each_dictionary['user']['followers_count']\n",
    "        friends_count = each_dictionary['user']['friends_count']\n",
    "        whole_source = each_dictionary['source']\n",
    "        only_device = whole_source[whole_source.find('rel=\"nofollow\">') + 15:-4]\n",
    "        source = only_device\n",
    "        retweeted_status = each_dictionary['retweeted_status'] = each_dictionary.get('retweeted_status', 'Original tweet')\n",
    "        if retweeted_status == 'Original tweet':\n",
    "            url = only_url\n",
    "        else:\n",
    "            retweeted_status = 'This is a retweet'\n",
    "            url = 'This is a retweet'\n",
    "\n",
    "        my_demo_list.append({'tweet_id': str(tweet_id),\n",
    "                             'favorite_count': int(favorite_count),\n",
    "                             'retweet_count': int(retweet_count),\n",
    "                             'followers_count': int(followers_count),\n",
    "                             'friends_count': int(friends_count),\n",
    "                             'url': url,\n",
    "                             'source': source,\n",
    "                             'retweeted_status': retweeted_status,\n",
    "                            })\n",
    "        df_ex = pd.DataFrame(my_demo_list, columns = ['tweet_id', 'favorite_count','retweet_count', \n",
    "                                                           'followers_count', 'friends_count','source', \n",
    "                                                           'retweeted_status', 'url'])\n",
    "\n"
   ]
  },
  {
   "cell_type": "code",
   "execution_count": 14,
   "metadata": {
    "ExecuteTime": {
     "end_time": "2021-05-03T20:11:15.394680Z",
     "start_time": "2021-05-03T20:11:15.380679Z"
    },
    "scrolled": true
   },
   "outputs": [
    {
     "data": {
      "text/html": [
       "<div>\n",
       "<style scoped>\n",
       "    .dataframe tbody tr th:only-of-type {\n",
       "        vertical-align: middle;\n",
       "    }\n",
       "\n",
       "    .dataframe tbody tr th {\n",
       "        vertical-align: top;\n",
       "    }\n",
       "\n",
       "    .dataframe thead th {\n",
       "        text-align: right;\n",
       "    }\n",
       "</style>\n",
       "<table border=\"1\" class=\"dataframe\">\n",
       "  <thead>\n",
       "    <tr style=\"text-align: right;\">\n",
       "      <th></th>\n",
       "      <th>tweet_id</th>\n",
       "      <th>favorite_count</th>\n",
       "      <th>retweet_count</th>\n",
       "      <th>followers_count</th>\n",
       "      <th>friends_count</th>\n",
       "      <th>source</th>\n",
       "      <th>retweeted_status</th>\n",
       "      <th>url</th>\n",
       "    </tr>\n",
       "  </thead>\n",
       "  <tbody>\n",
       "    <tr>\n",
       "      <th>0</th>\n",
       "      <td>892420643555336193</td>\n",
       "      <td>34831</td>\n",
       "      <td>7312</td>\n",
       "      <td>9014803</td>\n",
       "      <td>17</td>\n",
       "      <td>Twitter for iPhone</td>\n",
       "      <td>Original tweet</td>\n",
       "      <td>https://t.co/MgUWQ76dJU</td>\n",
       "    </tr>\n",
       "    <tr>\n",
       "      <th>1</th>\n",
       "      <td>892177421306343426</td>\n",
       "      <td>30173</td>\n",
       "      <td>5461</td>\n",
       "      <td>9014803</td>\n",
       "      <td>17</td>\n",
       "      <td>Twitter for iPhone</td>\n",
       "      <td>Original tweet</td>\n",
       "      <td>https://t.co/aQFSeaCu9L</td>\n",
       "    </tr>\n",
       "    <tr>\n",
       "      <th>2</th>\n",
       "      <td>891815181378084864</td>\n",
       "      <td>22719</td>\n",
       "      <td>3603</td>\n",
       "      <td>9014803</td>\n",
       "      <td>17</td>\n",
       "      <td>Twitter for iPhone</td>\n",
       "      <td>Original tweet</td>\n",
       "      <td>https://t.co/r0YlrsGCgy</td>\n",
       "    </tr>\n",
       "    <tr>\n",
       "      <th>3</th>\n",
       "      <td>891689557279858688</td>\n",
       "      <td>38083</td>\n",
       "      <td>7494</td>\n",
       "      <td>9014803</td>\n",
       "      <td>17</td>\n",
       "      <td>Twitter for iPhone</td>\n",
       "      <td>Original tweet</td>\n",
       "      <td>https://t.co/tD36da7qLQ</td>\n",
       "    </tr>\n",
       "    <tr>\n",
       "      <th>4</th>\n",
       "      <td>891327558926688256</td>\n",
       "      <td>36350</td>\n",
       "      <td>8054</td>\n",
       "      <td>9014803</td>\n",
       "      <td>17</td>\n",
       "      <td>Twitter for iPhone</td>\n",
       "      <td>Original tweet</td>\n",
       "      <td>https://t.co/0g0KMIVXZ3</td>\n",
       "    </tr>\n",
       "  </tbody>\n",
       "</table>\n",
       "</div>"
      ],
      "text/plain": [
       "             tweet_id  favorite_count  retweet_count  followers_count  \\\n",
       "0  892420643555336193           34831           7312          9014803   \n",
       "1  892177421306343426           30173           5461          9014803   \n",
       "2  891815181378084864           22719           3603          9014803   \n",
       "3  891689557279858688           38083           7494          9014803   \n",
       "4  891327558926688256           36350           8054          9014803   \n",
       "\n",
       "   friends_count              source retweeted_status                      url  \n",
       "0             17  Twitter for iPhone   Original tweet  https://t.co/MgUWQ76dJU  \n",
       "1             17  Twitter for iPhone   Original tweet  https://t.co/aQFSeaCu9L  \n",
       "2             17  Twitter for iPhone   Original tweet  https://t.co/r0YlrsGCgy  \n",
       "3             17  Twitter for iPhone   Original tweet  https://t.co/tD36da7qLQ  \n",
       "4             17  Twitter for iPhone   Original tweet  https://t.co/0g0KMIVXZ3  "
      ]
     },
     "execution_count": 14,
     "metadata": {},
     "output_type": "execute_result"
    }
   ],
   "source": [
    "df_ex.head()"
   ]
  },
  {
   "cell_type": "markdown",
   "metadata": {},
   "source": [
    "# Assessing Data\n",
    "\n",
    "## Quality Issues(required detect and document at least 8 issues)\n",
    "1. `df_tw`: When manually check the data, `name`, `doggo`, `floofer`, `pupper` and `puppo` columns have None data. But programatically check using info function, then there are no null data.\n",
    "1. `df_tw`: The'source' column refers to the device or location from which the Tweet was written (e.g. the Tweet was written to iPhone, Web, Deck or Vine).\n",
    "1. `rating_denominator` have zero value\n",
    "1. `in_reply_to_status_id` is float, but `id` columns must be intager.\n",
    "1. `in_reply_to_user_id` is float, but `id` columns must be intager.\n",
    "1. `p1`, `p2`, `p3`, kind of dogs name, have some duplicated name(lower case and first capitalized case)\n",
    "1. `create_at`, and `timestamp` column type is object(string). This column type will be changed to `datetime`.\n",
    "1. Only one data have information of `place` column in `df_ex`\n",
    "1. `doggo`, `floofer`, `pupper`, and `puppo` columns in `df_tw` data frame chage to one-hot-encoded variable\n",
    "1. `datetime` columns change to `year`, `month`, `day` and so on.\n",
    "1. `name` column have some false name like `a`, `O`, `his`, and so on.\n"
   ]
  },
  {
   "cell_type": "markdown",
   "metadata": {},
   "source": [
    "### What data and How many data are in `twitter-archive-enhanced.csv`, `image_prediction.tsv`, and `tweet_json.txt` files"
   ]
  },
  {
   "cell_type": "code",
   "execution_count": 15,
   "metadata": {
    "ExecuteTime": {
     "end_time": "2021-05-03T20:11:15.409680Z",
     "start_time": "2021-05-03T20:11:15.395680Z"
    }
   },
   "outputs": [
    {
     "name": "stdout",
     "output_type": "stream",
     "text": [
      "data columns\n",
      "twitter-archive-enhanced.csv: Index(['tweet_id', 'in_reply_to_status_id', 'in_reply_to_user_id', 'timestamp',\n",
      "       'source', 'text', 'retweeted_status_id', 'retweeted_status_user_id',\n",
      "       'retweeted_status_timestamp', 'expanded_urls', 'rating_numerator',\n",
      "       'rating_denominator', 'name', 'doggo', 'floofer', 'pupper', 'puppo'],\n",
      "      dtype='object')\n",
      "image_prediction.tsv: Index(['tweet_id', 'jpg_url', 'img_num', 'p1', 'p1_conf', 'p1_dog', 'p2',\n",
      "       'p2_conf', 'p2_dog', 'p3', 'p3_conf', 'p3_dog'],\n",
      "      dtype='object')\n",
      "tweet_json.txt: Index(['tweet_id', 'favorite_count', 'retweet_count', 'followers_count',\n",
      "       'friends_count', 'source', 'retweeted_status', 'url'],\n",
      "      dtype='object')\n",
      "\n",
      "data shape\n",
      "twitter-archive-enhanced.csv: (2356, 17)\n",
      "image_prediction.tsv: (2075, 12)\n",
      "tweet_json.txt: (2331, 8)\n"
     ]
    }
   ],
   "source": [
    "print(\"data columns\")\n",
    "print(f\"twitter-archive-enhanced.csv: {df_tw.columns}\")\n",
    "print(f\"image_prediction.tsv: {df_img.columns}\")\n",
    "print(f\"tweet_json.txt: {df_ex.columns}\")\n",
    "\n",
    "print(\"\\ndata shape\")\n",
    "print(f\"twitter-archive-enhanced.csv: {df_tw.shape}\")\n",
    "print(f\"image_prediction.tsv: {df_img.shape}\")\n",
    "print(f\"tweet_json.txt: {df_ex.shape}\")"
   ]
  },
  {
   "cell_type": "markdown",
   "metadata": {},
   "source": [
    "### Checking `twitter-archive-enhanced.csv` file programatically and manually"
   ]
  },
  {
   "cell_type": "code",
   "execution_count": 16,
   "metadata": {
    "ExecuteTime": {
     "end_time": "2021-05-03T20:11:15.439681Z",
     "start_time": "2021-05-03T20:11:15.410680Z"
    },
    "scrolled": false
   },
   "outputs": [
    {
     "data": {
      "text/html": [
       "<div>\n",
       "<style scoped>\n",
       "    .dataframe tbody tr th:only-of-type {\n",
       "        vertical-align: middle;\n",
       "    }\n",
       "\n",
       "    .dataframe tbody tr th {\n",
       "        vertical-align: top;\n",
       "    }\n",
       "\n",
       "    .dataframe thead th {\n",
       "        text-align: right;\n",
       "    }\n",
       "</style>\n",
       "<table border=\"1\" class=\"dataframe\">\n",
       "  <thead>\n",
       "    <tr style=\"text-align: right;\">\n",
       "      <th></th>\n",
       "      <th>tweet_id</th>\n",
       "      <th>in_reply_to_status_id</th>\n",
       "      <th>in_reply_to_user_id</th>\n",
       "      <th>timestamp</th>\n",
       "      <th>source</th>\n",
       "      <th>text</th>\n",
       "      <th>retweeted_status_id</th>\n",
       "      <th>retweeted_status_user_id</th>\n",
       "      <th>retweeted_status_timestamp</th>\n",
       "      <th>expanded_urls</th>\n",
       "      <th>rating_numerator</th>\n",
       "      <th>rating_denominator</th>\n",
       "      <th>name</th>\n",
       "      <th>doggo</th>\n",
       "      <th>floofer</th>\n",
       "      <th>pupper</th>\n",
       "      <th>puppo</th>\n",
       "    </tr>\n",
       "  </thead>\n",
       "  <tbody>\n",
       "    <tr>\n",
       "      <th>0</th>\n",
       "      <td>892420643555336193</td>\n",
       "      <td>NaN</td>\n",
       "      <td>NaN</td>\n",
       "      <td>2017-08-01 16:23:56 +0000</td>\n",
       "      <td>&lt;a href=\"http://twitter.com/download/iphone\" r...</td>\n",
       "      <td>This is Phineas. He's a mystical boy. Only eve...</td>\n",
       "      <td>NaN</td>\n",
       "      <td>NaN</td>\n",
       "      <td>NaN</td>\n",
       "      <td>https://twitter.com/dog_rates/status/892420643...</td>\n",
       "      <td>13</td>\n",
       "      <td>10</td>\n",
       "      <td>Phineas</td>\n",
       "      <td>None</td>\n",
       "      <td>None</td>\n",
       "      <td>None</td>\n",
       "      <td>None</td>\n",
       "    </tr>\n",
       "    <tr>\n",
       "      <th>1</th>\n",
       "      <td>892177421306343426</td>\n",
       "      <td>NaN</td>\n",
       "      <td>NaN</td>\n",
       "      <td>2017-08-01 00:17:27 +0000</td>\n",
       "      <td>&lt;a href=\"http://twitter.com/download/iphone\" r...</td>\n",
       "      <td>This is Tilly. She's just checking pup on you....</td>\n",
       "      <td>NaN</td>\n",
       "      <td>NaN</td>\n",
       "      <td>NaN</td>\n",
       "      <td>https://twitter.com/dog_rates/status/892177421...</td>\n",
       "      <td>13</td>\n",
       "      <td>10</td>\n",
       "      <td>Tilly</td>\n",
       "      <td>None</td>\n",
       "      <td>None</td>\n",
       "      <td>None</td>\n",
       "      <td>None</td>\n",
       "    </tr>\n",
       "    <tr>\n",
       "      <th>2</th>\n",
       "      <td>891815181378084864</td>\n",
       "      <td>NaN</td>\n",
       "      <td>NaN</td>\n",
       "      <td>2017-07-31 00:18:03 +0000</td>\n",
       "      <td>&lt;a href=\"http://twitter.com/download/iphone\" r...</td>\n",
       "      <td>This is Archie. He is a rare Norwegian Pouncin...</td>\n",
       "      <td>NaN</td>\n",
       "      <td>NaN</td>\n",
       "      <td>NaN</td>\n",
       "      <td>https://twitter.com/dog_rates/status/891815181...</td>\n",
       "      <td>12</td>\n",
       "      <td>10</td>\n",
       "      <td>Archie</td>\n",
       "      <td>None</td>\n",
       "      <td>None</td>\n",
       "      <td>None</td>\n",
       "      <td>None</td>\n",
       "    </tr>\n",
       "    <tr>\n",
       "      <th>3</th>\n",
       "      <td>891689557279858688</td>\n",
       "      <td>NaN</td>\n",
       "      <td>NaN</td>\n",
       "      <td>2017-07-30 15:58:51 +0000</td>\n",
       "      <td>&lt;a href=\"http://twitter.com/download/iphone\" r...</td>\n",
       "      <td>This is Darla. She commenced a snooze mid meal...</td>\n",
       "      <td>NaN</td>\n",
       "      <td>NaN</td>\n",
       "      <td>NaN</td>\n",
       "      <td>https://twitter.com/dog_rates/status/891689557...</td>\n",
       "      <td>13</td>\n",
       "      <td>10</td>\n",
       "      <td>Darla</td>\n",
       "      <td>None</td>\n",
       "      <td>None</td>\n",
       "      <td>None</td>\n",
       "      <td>None</td>\n",
       "    </tr>\n",
       "    <tr>\n",
       "      <th>4</th>\n",
       "      <td>891327558926688256</td>\n",
       "      <td>NaN</td>\n",
       "      <td>NaN</td>\n",
       "      <td>2017-07-29 16:00:24 +0000</td>\n",
       "      <td>&lt;a href=\"http://twitter.com/download/iphone\" r...</td>\n",
       "      <td>This is Franklin. He would like you to stop ca...</td>\n",
       "      <td>NaN</td>\n",
       "      <td>NaN</td>\n",
       "      <td>NaN</td>\n",
       "      <td>https://twitter.com/dog_rates/status/891327558...</td>\n",
       "      <td>12</td>\n",
       "      <td>10</td>\n",
       "      <td>Franklin</td>\n",
       "      <td>None</td>\n",
       "      <td>None</td>\n",
       "      <td>None</td>\n",
       "      <td>None</td>\n",
       "    </tr>\n",
       "    <tr>\n",
       "      <th>...</th>\n",
       "      <td>...</td>\n",
       "      <td>...</td>\n",
       "      <td>...</td>\n",
       "      <td>...</td>\n",
       "      <td>...</td>\n",
       "      <td>...</td>\n",
       "      <td>...</td>\n",
       "      <td>...</td>\n",
       "      <td>...</td>\n",
       "      <td>...</td>\n",
       "      <td>...</td>\n",
       "      <td>...</td>\n",
       "      <td>...</td>\n",
       "      <td>...</td>\n",
       "      <td>...</td>\n",
       "      <td>...</td>\n",
       "      <td>...</td>\n",
       "    </tr>\n",
       "    <tr>\n",
       "      <th>2351</th>\n",
       "      <td>666049248165822465</td>\n",
       "      <td>NaN</td>\n",
       "      <td>NaN</td>\n",
       "      <td>2015-11-16 00:24:50 +0000</td>\n",
       "      <td>&lt;a href=\"http://twitter.com/download/iphone\" r...</td>\n",
       "      <td>Here we have a 1949 1st generation vulpix. Enj...</td>\n",
       "      <td>NaN</td>\n",
       "      <td>NaN</td>\n",
       "      <td>NaN</td>\n",
       "      <td>https://twitter.com/dog_rates/status/666049248...</td>\n",
       "      <td>5</td>\n",
       "      <td>10</td>\n",
       "      <td>None</td>\n",
       "      <td>None</td>\n",
       "      <td>None</td>\n",
       "      <td>None</td>\n",
       "      <td>None</td>\n",
       "    </tr>\n",
       "    <tr>\n",
       "      <th>2352</th>\n",
       "      <td>666044226329800704</td>\n",
       "      <td>NaN</td>\n",
       "      <td>NaN</td>\n",
       "      <td>2015-11-16 00:04:52 +0000</td>\n",
       "      <td>&lt;a href=\"http://twitter.com/download/iphone\" r...</td>\n",
       "      <td>This is a purebred Piers Morgan. Loves to Netf...</td>\n",
       "      <td>NaN</td>\n",
       "      <td>NaN</td>\n",
       "      <td>NaN</td>\n",
       "      <td>https://twitter.com/dog_rates/status/666044226...</td>\n",
       "      <td>6</td>\n",
       "      <td>10</td>\n",
       "      <td>a</td>\n",
       "      <td>None</td>\n",
       "      <td>None</td>\n",
       "      <td>None</td>\n",
       "      <td>None</td>\n",
       "    </tr>\n",
       "    <tr>\n",
       "      <th>2353</th>\n",
       "      <td>666033412701032449</td>\n",
       "      <td>NaN</td>\n",
       "      <td>NaN</td>\n",
       "      <td>2015-11-15 23:21:54 +0000</td>\n",
       "      <td>&lt;a href=\"http://twitter.com/download/iphone\" r...</td>\n",
       "      <td>Here is a very happy pup. Big fan of well-main...</td>\n",
       "      <td>NaN</td>\n",
       "      <td>NaN</td>\n",
       "      <td>NaN</td>\n",
       "      <td>https://twitter.com/dog_rates/status/666033412...</td>\n",
       "      <td>9</td>\n",
       "      <td>10</td>\n",
       "      <td>a</td>\n",
       "      <td>None</td>\n",
       "      <td>None</td>\n",
       "      <td>None</td>\n",
       "      <td>None</td>\n",
       "    </tr>\n",
       "    <tr>\n",
       "      <th>2354</th>\n",
       "      <td>666029285002620928</td>\n",
       "      <td>NaN</td>\n",
       "      <td>NaN</td>\n",
       "      <td>2015-11-15 23:05:30 +0000</td>\n",
       "      <td>&lt;a href=\"http://twitter.com/download/iphone\" r...</td>\n",
       "      <td>This is a western brown Mitsubishi terrier. Up...</td>\n",
       "      <td>NaN</td>\n",
       "      <td>NaN</td>\n",
       "      <td>NaN</td>\n",
       "      <td>https://twitter.com/dog_rates/status/666029285...</td>\n",
       "      <td>7</td>\n",
       "      <td>10</td>\n",
       "      <td>a</td>\n",
       "      <td>None</td>\n",
       "      <td>None</td>\n",
       "      <td>None</td>\n",
       "      <td>None</td>\n",
       "    </tr>\n",
       "    <tr>\n",
       "      <th>2355</th>\n",
       "      <td>666020888022790149</td>\n",
       "      <td>NaN</td>\n",
       "      <td>NaN</td>\n",
       "      <td>2015-11-15 22:32:08 +0000</td>\n",
       "      <td>&lt;a href=\"http://twitter.com/download/iphone\" r...</td>\n",
       "      <td>Here we have a Japanese Irish Setter. Lost eye...</td>\n",
       "      <td>NaN</td>\n",
       "      <td>NaN</td>\n",
       "      <td>NaN</td>\n",
       "      <td>https://twitter.com/dog_rates/status/666020888...</td>\n",
       "      <td>8</td>\n",
       "      <td>10</td>\n",
       "      <td>None</td>\n",
       "      <td>None</td>\n",
       "      <td>None</td>\n",
       "      <td>None</td>\n",
       "      <td>None</td>\n",
       "    </tr>\n",
       "  </tbody>\n",
       "</table>\n",
       "<p>2356 rows × 17 columns</p>\n",
       "</div>"
      ],
      "text/plain": [
       "                tweet_id  in_reply_to_status_id  in_reply_to_user_id  \\\n",
       "0     892420643555336193                    NaN                  NaN   \n",
       "1     892177421306343426                    NaN                  NaN   \n",
       "2     891815181378084864                    NaN                  NaN   \n",
       "3     891689557279858688                    NaN                  NaN   \n",
       "4     891327558926688256                    NaN                  NaN   \n",
       "...                  ...                    ...                  ...   \n",
       "2351  666049248165822465                    NaN                  NaN   \n",
       "2352  666044226329800704                    NaN                  NaN   \n",
       "2353  666033412701032449                    NaN                  NaN   \n",
       "2354  666029285002620928                    NaN                  NaN   \n",
       "2355  666020888022790149                    NaN                  NaN   \n",
       "\n",
       "                      timestamp  \\\n",
       "0     2017-08-01 16:23:56 +0000   \n",
       "1     2017-08-01 00:17:27 +0000   \n",
       "2     2017-07-31 00:18:03 +0000   \n",
       "3     2017-07-30 15:58:51 +0000   \n",
       "4     2017-07-29 16:00:24 +0000   \n",
       "...                         ...   \n",
       "2351  2015-11-16 00:24:50 +0000   \n",
       "2352  2015-11-16 00:04:52 +0000   \n",
       "2353  2015-11-15 23:21:54 +0000   \n",
       "2354  2015-11-15 23:05:30 +0000   \n",
       "2355  2015-11-15 22:32:08 +0000   \n",
       "\n",
       "                                                 source  \\\n",
       "0     <a href=\"http://twitter.com/download/iphone\" r...   \n",
       "1     <a href=\"http://twitter.com/download/iphone\" r...   \n",
       "2     <a href=\"http://twitter.com/download/iphone\" r...   \n",
       "3     <a href=\"http://twitter.com/download/iphone\" r...   \n",
       "4     <a href=\"http://twitter.com/download/iphone\" r...   \n",
       "...                                                 ...   \n",
       "2351  <a href=\"http://twitter.com/download/iphone\" r...   \n",
       "2352  <a href=\"http://twitter.com/download/iphone\" r...   \n",
       "2353  <a href=\"http://twitter.com/download/iphone\" r...   \n",
       "2354  <a href=\"http://twitter.com/download/iphone\" r...   \n",
       "2355  <a href=\"http://twitter.com/download/iphone\" r...   \n",
       "\n",
       "                                                   text  retweeted_status_id  \\\n",
       "0     This is Phineas. He's a mystical boy. Only eve...                  NaN   \n",
       "1     This is Tilly. She's just checking pup on you....                  NaN   \n",
       "2     This is Archie. He is a rare Norwegian Pouncin...                  NaN   \n",
       "3     This is Darla. She commenced a snooze mid meal...                  NaN   \n",
       "4     This is Franklin. He would like you to stop ca...                  NaN   \n",
       "...                                                 ...                  ...   \n",
       "2351  Here we have a 1949 1st generation vulpix. Enj...                  NaN   \n",
       "2352  This is a purebred Piers Morgan. Loves to Netf...                  NaN   \n",
       "2353  Here is a very happy pup. Big fan of well-main...                  NaN   \n",
       "2354  This is a western brown Mitsubishi terrier. Up...                  NaN   \n",
       "2355  Here we have a Japanese Irish Setter. Lost eye...                  NaN   \n",
       "\n",
       "      retweeted_status_user_id retweeted_status_timestamp  \\\n",
       "0                          NaN                        NaN   \n",
       "1                          NaN                        NaN   \n",
       "2                          NaN                        NaN   \n",
       "3                          NaN                        NaN   \n",
       "4                          NaN                        NaN   \n",
       "...                        ...                        ...   \n",
       "2351                       NaN                        NaN   \n",
       "2352                       NaN                        NaN   \n",
       "2353                       NaN                        NaN   \n",
       "2354                       NaN                        NaN   \n",
       "2355                       NaN                        NaN   \n",
       "\n",
       "                                          expanded_urls  rating_numerator  \\\n",
       "0     https://twitter.com/dog_rates/status/892420643...                13   \n",
       "1     https://twitter.com/dog_rates/status/892177421...                13   \n",
       "2     https://twitter.com/dog_rates/status/891815181...                12   \n",
       "3     https://twitter.com/dog_rates/status/891689557...                13   \n",
       "4     https://twitter.com/dog_rates/status/891327558...                12   \n",
       "...                                                 ...               ...   \n",
       "2351  https://twitter.com/dog_rates/status/666049248...                 5   \n",
       "2352  https://twitter.com/dog_rates/status/666044226...                 6   \n",
       "2353  https://twitter.com/dog_rates/status/666033412...                 9   \n",
       "2354  https://twitter.com/dog_rates/status/666029285...                 7   \n",
       "2355  https://twitter.com/dog_rates/status/666020888...                 8   \n",
       "\n",
       "      rating_denominator      name doggo floofer pupper puppo  \n",
       "0                     10   Phineas  None    None   None  None  \n",
       "1                     10     Tilly  None    None   None  None  \n",
       "2                     10    Archie  None    None   None  None  \n",
       "3                     10     Darla  None    None   None  None  \n",
       "4                     10  Franklin  None    None   None  None  \n",
       "...                  ...       ...   ...     ...    ...   ...  \n",
       "2351                  10      None  None    None   None  None  \n",
       "2352                  10         a  None    None   None  None  \n",
       "2353                  10         a  None    None   None  None  \n",
       "2354                  10         a  None    None   None  None  \n",
       "2355                  10      None  None    None   None  None  \n",
       "\n",
       "[2356 rows x 17 columns]"
      ]
     },
     "execution_count": 16,
     "metadata": {},
     "output_type": "execute_result"
    }
   ],
   "source": [
    "df_tw"
   ]
  },
  {
   "cell_type": "code",
   "execution_count": 17,
   "metadata": {
    "ExecuteTime": {
     "end_time": "2021-05-03T20:11:15.484679Z",
     "start_time": "2021-05-03T20:11:15.440679Z"
    },
    "scrolled": true
   },
   "outputs": [
    {
     "name": "stdout",
     "output_type": "stream",
     "text": [
      "<class 'pandas.core.frame.DataFrame'>\n",
      "RangeIndex: 2356 entries, 0 to 2355\n",
      "Data columns (total 17 columns):\n",
      " #   Column                      Non-Null Count  Dtype  \n",
      "---  ------                      --------------  -----  \n",
      " 0   tweet_id                    2356 non-null   int64  \n",
      " 1   in_reply_to_status_id       78 non-null     float64\n",
      " 2   in_reply_to_user_id         78 non-null     float64\n",
      " 3   timestamp                   2356 non-null   object \n",
      " 4   source                      2356 non-null   object \n",
      " 5   text                        2356 non-null   object \n",
      " 6   retweeted_status_id         181 non-null    float64\n",
      " 7   retweeted_status_user_id    181 non-null    float64\n",
      " 8   retweeted_status_timestamp  181 non-null    object \n",
      " 9   expanded_urls               2297 non-null   object \n",
      " 10  rating_numerator            2356 non-null   int64  \n",
      " 11  rating_denominator          2356 non-null   int64  \n",
      " 12  name                        2356 non-null   object \n",
      " 13  doggo                       2356 non-null   object \n",
      " 14  floofer                     2356 non-null   object \n",
      " 15  pupper                      2356 non-null   object \n",
      " 16  puppo                       2356 non-null   object \n",
      "dtypes: float64(4), int64(3), object(10)\n",
      "memory usage: 313.0+ KB\n"
     ]
    }
   ],
   "source": [
    "df_tw.info()"
   ]
  },
  {
   "cell_type": "markdown",
   "metadata": {},
   "source": [
    "1. `df_tw`: When manually check the data, `name`, `doggo`, `floofer`, `pupper` and `puppo` columns have None data. But programatically check using info function, then there are no null data."
   ]
  },
  {
   "cell_type": "code",
   "execution_count": 18,
   "metadata": {
    "ExecuteTime": {
     "end_time": "2021-05-03T20:11:15.499682Z",
     "start_time": "2021-05-03T20:11:15.486680Z"
    },
    "scrolled": true
   },
   "outputs": [
    {
     "data": {
      "text/plain": [
       "<a href=\"http://twitter.com/download/iphone\" rel=\"nofollow\">Twitter for iPhone</a>     2221\n",
       "<a href=\"http://vine.co\" rel=\"nofollow\">Vine - Make a Scene</a>                          91\n",
       "<a href=\"http://twitter.com\" rel=\"nofollow\">Twitter Web Client</a>                       33\n",
       "<a href=\"https://about.twitter.com/products/tweetdeck\" rel=\"nofollow\">TweetDeck</a>      11\n",
       "Name: source, dtype: int64"
      ]
     },
     "execution_count": 18,
     "metadata": {},
     "output_type": "execute_result"
    }
   ],
   "source": [
    "df_tw['source'].value_counts()"
   ]
  },
  {
   "cell_type": "code",
   "execution_count": 19,
   "metadata": {
    "ExecuteTime": {
     "end_time": "2021-05-03T20:11:15.514680Z",
     "start_time": "2021-05-03T20:11:15.501680Z"
    },
    "scrolled": true
   },
   "outputs": [
    {
     "data": {
      "text/plain": [
       "12      558\n",
       "11      464\n",
       "10      461\n",
       "13      351\n",
       "9       158\n",
       "8       102\n",
       "7        55\n",
       "14       54\n",
       "5        37\n",
       "6        32\n",
       "3        19\n",
       "4        17\n",
       "1         9\n",
       "2         9\n",
       "420       2\n",
       "0         2\n",
       "15        2\n",
       "75        2\n",
       "80        1\n",
       "20        1\n",
       "24        1\n",
       "26        1\n",
       "44        1\n",
       "50        1\n",
       "60        1\n",
       "165       1\n",
       "84        1\n",
       "88        1\n",
       "144       1\n",
       "182       1\n",
       "143       1\n",
       "666       1\n",
       "960       1\n",
       "1776      1\n",
       "17        1\n",
       "27        1\n",
       "45        1\n",
       "99        1\n",
       "121       1\n",
       "204       1\n",
       "Name: rating_numerator, dtype: int64"
      ]
     },
     "execution_count": 19,
     "metadata": {},
     "output_type": "execute_result"
    }
   ],
   "source": [
    "df_tw['rating_numerator'].value_counts()"
   ]
  },
  {
   "cell_type": "markdown",
   "metadata": {},
   "source": [
    "2. `df_tw`: The `source` column refers to the device or location from which the Tweet was written (e.g. the Tweet was written to iPhone, Web, Deck or Vine)."
   ]
  },
  {
   "cell_type": "code",
   "execution_count": 20,
   "metadata": {
    "ExecuteTime": {
     "end_time": "2021-05-03T20:11:15.529679Z",
     "start_time": "2021-05-03T20:11:15.515679Z"
    },
    "scrolled": true
   },
   "outputs": [
    {
     "data": {
      "text/plain": [
       "10     2333\n",
       "11        3\n",
       "50        3\n",
       "80        2\n",
       "20        2\n",
       "2         1\n",
       "16        1\n",
       "40        1\n",
       "70        1\n",
       "15        1\n",
       "90        1\n",
       "110       1\n",
       "120       1\n",
       "130       1\n",
       "150       1\n",
       "170       1\n",
       "7         1\n",
       "0         1\n",
       "Name: rating_denominator, dtype: int64"
      ]
     },
     "execution_count": 20,
     "metadata": {},
     "output_type": "execute_result"
    }
   ],
   "source": [
    "df_tw['rating_denominator'].value_counts()"
   ]
  },
  {
   "cell_type": "markdown",
   "metadata": {},
   "source": [
    "3. `rating_denominator` have zero value"
   ]
  },
  {
   "cell_type": "code",
   "execution_count": 21,
   "metadata": {
    "ExecuteTime": {
     "end_time": "2021-05-03T20:11:15.769680Z",
     "start_time": "2021-05-03T20:11:15.530680Z"
    }
   },
   "outputs": [
    {
     "data": {
      "text/html": [
       "<div>\n",
       "<style scoped>\n",
       "    .dataframe tbody tr th:only-of-type {\n",
       "        vertical-align: middle;\n",
       "    }\n",
       "\n",
       "    .dataframe tbody tr th {\n",
       "        vertical-align: top;\n",
       "    }\n",
       "\n",
       "    .dataframe thead th {\n",
       "        text-align: right;\n",
       "    }\n",
       "</style>\n",
       "<table border=\"1\" class=\"dataframe\">\n",
       "  <thead>\n",
       "    <tr style=\"text-align: right;\">\n",
       "      <th></th>\n",
       "      <th>tweet_id</th>\n",
       "      <th>in_reply_to_status_id</th>\n",
       "      <th>in_reply_to_user_id</th>\n",
       "      <th>timestamp</th>\n",
       "      <th>source</th>\n",
       "      <th>text</th>\n",
       "      <th>retweeted_status_id</th>\n",
       "      <th>retweeted_status_user_id</th>\n",
       "      <th>retweeted_status_timestamp</th>\n",
       "      <th>expanded_urls</th>\n",
       "      <th>rating_numerator</th>\n",
       "      <th>rating_denominator</th>\n",
       "      <th>name</th>\n",
       "      <th>doggo</th>\n",
       "      <th>floofer</th>\n",
       "      <th>pupper</th>\n",
       "      <th>puppo</th>\n",
       "    </tr>\n",
       "  </thead>\n",
       "  <tbody>\n",
       "    <tr>\n",
       "      <th>313</th>\n",
       "      <td>835246439529840640</td>\n",
       "      <td>8.352460e+17</td>\n",
       "      <td>26259576.0</td>\n",
       "      <td>2017-02-24 21:54:03 +0000</td>\n",
       "      <td>&lt;a href=\"http://twitter.com/download/iphone\" r...</td>\n",
       "      <td>@jonnysun @Lin_Manuel ok jomny I know you're e...</td>\n",
       "      <td>NaN</td>\n",
       "      <td>NaN</td>\n",
       "      <td>NaN</td>\n",
       "      <td>NaN</td>\n",
       "      <td>960</td>\n",
       "      <td>0</td>\n",
       "      <td>None</td>\n",
       "      <td>None</td>\n",
       "      <td>None</td>\n",
       "      <td>None</td>\n",
       "      <td>None</td>\n",
       "    </tr>\n",
       "  </tbody>\n",
       "</table>\n",
       "</div>"
      ],
      "text/plain": [
       "               tweet_id  in_reply_to_status_id  in_reply_to_user_id  \\\n",
       "313  835246439529840640           8.352460e+17           26259576.0   \n",
       "\n",
       "                     timestamp  \\\n",
       "313  2017-02-24 21:54:03 +0000   \n",
       "\n",
       "                                                source  \\\n",
       "313  <a href=\"http://twitter.com/download/iphone\" r...   \n",
       "\n",
       "                                                  text  retweeted_status_id  \\\n",
       "313  @jonnysun @Lin_Manuel ok jomny I know you're e...                  NaN   \n",
       "\n",
       "     retweeted_status_user_id retweeted_status_timestamp expanded_urls  \\\n",
       "313                       NaN                        NaN           NaN   \n",
       "\n",
       "     rating_numerator  rating_denominator  name doggo floofer pupper puppo  \n",
       "313               960                   0  None  None    None   None  None  "
      ]
     },
     "execution_count": 21,
     "metadata": {},
     "output_type": "execute_result"
    }
   ],
   "source": [
    "df_tw[df_tw['rating_denominator'] == 0]"
   ]
  },
  {
   "cell_type": "code",
   "execution_count": 22,
   "metadata": {
    "ExecuteTime": {
     "end_time": "2021-05-03T20:11:15.784681Z",
     "start_time": "2021-05-03T20:11:15.772681Z"
    }
   },
   "outputs": [
    {
     "data": {
      "text/plain": [
       "Index(['tweet_id', 'in_reply_to_status_id', 'in_reply_to_user_id', 'timestamp',\n",
       "       'source', 'text', 'retweeted_status_id', 'retweeted_status_user_id',\n",
       "       'retweeted_status_timestamp', 'expanded_urls', 'rating_numerator',\n",
       "       'rating_denominator', 'name', 'doggo', 'floofer', 'pupper', 'puppo'],\n",
       "      dtype='object')"
      ]
     },
     "execution_count": 22,
     "metadata": {},
     "output_type": "execute_result"
    }
   ],
   "source": [
    "df_tw.columns"
   ]
  },
  {
   "cell_type": "code",
   "execution_count": 23,
   "metadata": {
    "ExecuteTime": {
     "end_time": "2021-05-03T20:11:15.799681Z",
     "start_time": "2021-05-03T20:11:15.786679Z"
    }
   },
   "outputs": [
    {
     "data": {
      "text/plain": [
       "30      8.862664e+17\n",
       "55      8.816070e+17\n",
       "64      8.795538e+17\n",
       "113     8.707262e+17\n",
       "148     8.634256e+17\n",
       "            ...     \n",
       "2038    6.715449e+17\n",
       "2149    6.693544e+17\n",
       "2169    6.678065e+17\n",
       "2189    6.689207e+17\n",
       "2298    6.670655e+17\n",
       "Name: in_reply_to_status_id, Length: 78, dtype: float64"
      ]
     },
     "execution_count": 23,
     "metadata": {},
     "output_type": "execute_result"
    }
   ],
   "source": [
    "exist_id = df_tw['in_reply_to_status_id'].notnull()\n",
    "df_tw.loc[exist_id, 'in_reply_to_status_id']"
   ]
  },
  {
   "cell_type": "markdown",
   "metadata": {},
   "source": [
    "4. `in_reply_to_status_id` is float, but `id` columns must be intager."
   ]
  },
  {
   "cell_type": "code",
   "execution_count": 24,
   "metadata": {
    "ExecuteTime": {
     "end_time": "2021-05-03T20:11:15.814679Z",
     "start_time": "2021-05-03T20:11:15.800683Z"
    },
    "scrolled": true
   },
   "outputs": [
    {
     "data": {
      "text/plain": [
       "30      2.281182e+09\n",
       "55      4.738443e+07\n",
       "64      3.105441e+09\n",
       "113     1.648776e+07\n",
       "148     7.759620e+07\n",
       "            ...     \n",
       "2038    4.196984e+09\n",
       "2149    4.196984e+09\n",
       "2169    4.196984e+09\n",
       "2189    2.143566e+07\n",
       "2298    4.196984e+09\n",
       "Name: in_reply_to_user_id, Length: 78, dtype: float64"
      ]
     },
     "execution_count": 24,
     "metadata": {},
     "output_type": "execute_result"
    }
   ],
   "source": [
    "exist_id = df_tw['in_reply_to_user_id'].notnull()\n",
    "df_tw.loc[exist_id, 'in_reply_to_user_id']"
   ]
  },
  {
   "cell_type": "markdown",
   "metadata": {
    "ExecuteTime": {
     "end_time": "2021-04-28T21:35:10.795127Z",
     "start_time": "2021-04-28T21:35:10.792132Z"
    }
   },
   "source": [
    "5. `in_reply_to_user_id` is float, but `id` columns must be intager."
   ]
  },
  {
   "cell_type": "code",
   "execution_count": 25,
   "metadata": {
    "ExecuteTime": {
     "end_time": "2021-05-03T20:11:15.829680Z",
     "start_time": "2021-05-03T20:11:15.815679Z"
    }
   },
   "outputs": [
    {
     "name": "stdout",
     "output_type": "stream",
     "text": [
      "<class 'pandas.core.frame.DataFrame'>\n",
      "RangeIndex: 2356 entries, 0 to 2355\n",
      "Data columns (total 17 columns):\n",
      " #   Column                      Non-Null Count  Dtype  \n",
      "---  ------                      --------------  -----  \n",
      " 0   tweet_id                    2356 non-null   int64  \n",
      " 1   in_reply_to_status_id       78 non-null     float64\n",
      " 2   in_reply_to_user_id         78 non-null     float64\n",
      " 3   timestamp                   2356 non-null   object \n",
      " 4   source                      2356 non-null   object \n",
      " 5   text                        2356 non-null   object \n",
      " 6   retweeted_status_id         181 non-null    float64\n",
      " 7   retweeted_status_user_id    181 non-null    float64\n",
      " 8   retweeted_status_timestamp  181 non-null    object \n",
      " 9   expanded_urls               2297 non-null   object \n",
      " 10  rating_numerator            2356 non-null   int64  \n",
      " 11  rating_denominator          2356 non-null   int64  \n",
      " 12  name                        2356 non-null   object \n",
      " 13  doggo                       2356 non-null   object \n",
      " 14  floofer                     2356 non-null   object \n",
      " 15  pupper                      2356 non-null   object \n",
      " 16  puppo                       2356 non-null   object \n",
      "dtypes: float64(4), int64(3), object(10)\n",
      "memory usage: 313.0+ KB\n"
     ]
    }
   ],
   "source": [
    "df_tw.info()"
   ]
  },
  {
   "cell_type": "markdown",
   "metadata": {},
   "source": [
    "Maybe there is no duplicated row in `df_tw`, and `df_img`. `df_ex` cannot check duplicated rows, becuase there is list format in some column"
   ]
  },
  {
   "cell_type": "code",
   "execution_count": 26,
   "metadata": {
    "ExecuteTime": {
     "end_time": "2021-05-03T20:11:15.859679Z",
     "start_time": "2021-05-03T20:11:15.830680Z"
    }
   },
   "outputs": [
    {
     "data": {
      "text/html": [
       "<div>\n",
       "<style scoped>\n",
       "    .dataframe tbody tr th:only-of-type {\n",
       "        vertical-align: middle;\n",
       "    }\n",
       "\n",
       "    .dataframe tbody tr th {\n",
       "        vertical-align: top;\n",
       "    }\n",
       "\n",
       "    .dataframe thead th {\n",
       "        text-align: right;\n",
       "    }\n",
       "</style>\n",
       "<table border=\"1\" class=\"dataframe\">\n",
       "  <thead>\n",
       "    <tr style=\"text-align: right;\">\n",
       "      <th></th>\n",
       "      <th>tweet_id</th>\n",
       "      <th>jpg_url</th>\n",
       "      <th>img_num</th>\n",
       "      <th>p1</th>\n",
       "      <th>p1_conf</th>\n",
       "      <th>p1_dog</th>\n",
       "      <th>p2</th>\n",
       "      <th>p2_conf</th>\n",
       "      <th>p2_dog</th>\n",
       "      <th>p3</th>\n",
       "      <th>p3_conf</th>\n",
       "      <th>p3_dog</th>\n",
       "    </tr>\n",
       "  </thead>\n",
       "  <tbody>\n",
       "    <tr>\n",
       "      <th>0</th>\n",
       "      <td>666020888022790149</td>\n",
       "      <td>https://pbs.twimg.com/media/CT4udn0WwAA0aMy.jpg</td>\n",
       "      <td>1</td>\n",
       "      <td>Welsh_springer_spaniel</td>\n",
       "      <td>0.465074</td>\n",
       "      <td>True</td>\n",
       "      <td>collie</td>\n",
       "      <td>0.156665</td>\n",
       "      <td>True</td>\n",
       "      <td>Shetland_sheepdog</td>\n",
       "      <td>0.061428</td>\n",
       "      <td>True</td>\n",
       "    </tr>\n",
       "    <tr>\n",
       "      <th>1</th>\n",
       "      <td>666029285002620928</td>\n",
       "      <td>https://pbs.twimg.com/media/CT42GRgUYAA5iDo.jpg</td>\n",
       "      <td>1</td>\n",
       "      <td>redbone</td>\n",
       "      <td>0.506826</td>\n",
       "      <td>True</td>\n",
       "      <td>miniature_pinscher</td>\n",
       "      <td>0.074192</td>\n",
       "      <td>True</td>\n",
       "      <td>Rhodesian_ridgeback</td>\n",
       "      <td>0.072010</td>\n",
       "      <td>True</td>\n",
       "    </tr>\n",
       "    <tr>\n",
       "      <th>2</th>\n",
       "      <td>666033412701032449</td>\n",
       "      <td>https://pbs.twimg.com/media/CT4521TWwAEvMyu.jpg</td>\n",
       "      <td>1</td>\n",
       "      <td>German_shepherd</td>\n",
       "      <td>0.596461</td>\n",
       "      <td>True</td>\n",
       "      <td>malinois</td>\n",
       "      <td>0.138584</td>\n",
       "      <td>True</td>\n",
       "      <td>bloodhound</td>\n",
       "      <td>0.116197</td>\n",
       "      <td>True</td>\n",
       "    </tr>\n",
       "    <tr>\n",
       "      <th>3</th>\n",
       "      <td>666044226329800704</td>\n",
       "      <td>https://pbs.twimg.com/media/CT5Dr8HUEAA-lEu.jpg</td>\n",
       "      <td>1</td>\n",
       "      <td>Rhodesian_ridgeback</td>\n",
       "      <td>0.408143</td>\n",
       "      <td>True</td>\n",
       "      <td>redbone</td>\n",
       "      <td>0.360687</td>\n",
       "      <td>True</td>\n",
       "      <td>miniature_pinscher</td>\n",
       "      <td>0.222752</td>\n",
       "      <td>True</td>\n",
       "    </tr>\n",
       "    <tr>\n",
       "      <th>4</th>\n",
       "      <td>666049248165822465</td>\n",
       "      <td>https://pbs.twimg.com/media/CT5IQmsXIAAKY4A.jpg</td>\n",
       "      <td>1</td>\n",
       "      <td>miniature_pinscher</td>\n",
       "      <td>0.560311</td>\n",
       "      <td>True</td>\n",
       "      <td>Rottweiler</td>\n",
       "      <td>0.243682</td>\n",
       "      <td>True</td>\n",
       "      <td>Doberman</td>\n",
       "      <td>0.154629</td>\n",
       "      <td>True</td>\n",
       "    </tr>\n",
       "    <tr>\n",
       "      <th>...</th>\n",
       "      <td>...</td>\n",
       "      <td>...</td>\n",
       "      <td>...</td>\n",
       "      <td>...</td>\n",
       "      <td>...</td>\n",
       "      <td>...</td>\n",
       "      <td>...</td>\n",
       "      <td>...</td>\n",
       "      <td>...</td>\n",
       "      <td>...</td>\n",
       "      <td>...</td>\n",
       "      <td>...</td>\n",
       "    </tr>\n",
       "    <tr>\n",
       "      <th>2070</th>\n",
       "      <td>891327558926688256</td>\n",
       "      <td>https://pbs.twimg.com/media/DF6hr6BUMAAzZgT.jpg</td>\n",
       "      <td>2</td>\n",
       "      <td>basset</td>\n",
       "      <td>0.555712</td>\n",
       "      <td>True</td>\n",
       "      <td>English_springer</td>\n",
       "      <td>0.225770</td>\n",
       "      <td>True</td>\n",
       "      <td>German_short-haired_pointer</td>\n",
       "      <td>0.175219</td>\n",
       "      <td>True</td>\n",
       "    </tr>\n",
       "    <tr>\n",
       "      <th>2071</th>\n",
       "      <td>891689557279858688</td>\n",
       "      <td>https://pbs.twimg.com/media/DF_q7IAWsAEuuN8.jpg</td>\n",
       "      <td>1</td>\n",
       "      <td>paper_towel</td>\n",
       "      <td>0.170278</td>\n",
       "      <td>False</td>\n",
       "      <td>Labrador_retriever</td>\n",
       "      <td>0.168086</td>\n",
       "      <td>True</td>\n",
       "      <td>spatula</td>\n",
       "      <td>0.040836</td>\n",
       "      <td>False</td>\n",
       "    </tr>\n",
       "    <tr>\n",
       "      <th>2072</th>\n",
       "      <td>891815181378084864</td>\n",
       "      <td>https://pbs.twimg.com/media/DGBdLU1WsAANxJ9.jpg</td>\n",
       "      <td>1</td>\n",
       "      <td>Chihuahua</td>\n",
       "      <td>0.716012</td>\n",
       "      <td>True</td>\n",
       "      <td>malamute</td>\n",
       "      <td>0.078253</td>\n",
       "      <td>True</td>\n",
       "      <td>kelpie</td>\n",
       "      <td>0.031379</td>\n",
       "      <td>True</td>\n",
       "    </tr>\n",
       "    <tr>\n",
       "      <th>2073</th>\n",
       "      <td>892177421306343426</td>\n",
       "      <td>https://pbs.twimg.com/media/DGGmoV4XsAAUL6n.jpg</td>\n",
       "      <td>1</td>\n",
       "      <td>Chihuahua</td>\n",
       "      <td>0.323581</td>\n",
       "      <td>True</td>\n",
       "      <td>Pekinese</td>\n",
       "      <td>0.090647</td>\n",
       "      <td>True</td>\n",
       "      <td>papillon</td>\n",
       "      <td>0.068957</td>\n",
       "      <td>True</td>\n",
       "    </tr>\n",
       "    <tr>\n",
       "      <th>2074</th>\n",
       "      <td>892420643555336193</td>\n",
       "      <td>https://pbs.twimg.com/media/DGKD1-bXoAAIAUK.jpg</td>\n",
       "      <td>1</td>\n",
       "      <td>orange</td>\n",
       "      <td>0.097049</td>\n",
       "      <td>False</td>\n",
       "      <td>bagel</td>\n",
       "      <td>0.085851</td>\n",
       "      <td>False</td>\n",
       "      <td>banana</td>\n",
       "      <td>0.076110</td>\n",
       "      <td>False</td>\n",
       "    </tr>\n",
       "  </tbody>\n",
       "</table>\n",
       "<p>2075 rows × 12 columns</p>\n",
       "</div>"
      ],
      "text/plain": [
       "                tweet_id                                          jpg_url  \\\n",
       "0     666020888022790149  https://pbs.twimg.com/media/CT4udn0WwAA0aMy.jpg   \n",
       "1     666029285002620928  https://pbs.twimg.com/media/CT42GRgUYAA5iDo.jpg   \n",
       "2     666033412701032449  https://pbs.twimg.com/media/CT4521TWwAEvMyu.jpg   \n",
       "3     666044226329800704  https://pbs.twimg.com/media/CT5Dr8HUEAA-lEu.jpg   \n",
       "4     666049248165822465  https://pbs.twimg.com/media/CT5IQmsXIAAKY4A.jpg   \n",
       "...                  ...                                              ...   \n",
       "2070  891327558926688256  https://pbs.twimg.com/media/DF6hr6BUMAAzZgT.jpg   \n",
       "2071  891689557279858688  https://pbs.twimg.com/media/DF_q7IAWsAEuuN8.jpg   \n",
       "2072  891815181378084864  https://pbs.twimg.com/media/DGBdLU1WsAANxJ9.jpg   \n",
       "2073  892177421306343426  https://pbs.twimg.com/media/DGGmoV4XsAAUL6n.jpg   \n",
       "2074  892420643555336193  https://pbs.twimg.com/media/DGKD1-bXoAAIAUK.jpg   \n",
       "\n",
       "      img_num                      p1   p1_conf  p1_dog                  p2  \\\n",
       "0           1  Welsh_springer_spaniel  0.465074    True              collie   \n",
       "1           1                 redbone  0.506826    True  miniature_pinscher   \n",
       "2           1         German_shepherd  0.596461    True            malinois   \n",
       "3           1     Rhodesian_ridgeback  0.408143    True             redbone   \n",
       "4           1      miniature_pinscher  0.560311    True          Rottweiler   \n",
       "...       ...                     ...       ...     ...                 ...   \n",
       "2070        2                  basset  0.555712    True    English_springer   \n",
       "2071        1             paper_towel  0.170278   False  Labrador_retriever   \n",
       "2072        1               Chihuahua  0.716012    True            malamute   \n",
       "2073        1               Chihuahua  0.323581    True            Pekinese   \n",
       "2074        1                  orange  0.097049   False               bagel   \n",
       "\n",
       "       p2_conf  p2_dog                           p3   p3_conf  p3_dog  \n",
       "0     0.156665    True            Shetland_sheepdog  0.061428    True  \n",
       "1     0.074192    True          Rhodesian_ridgeback  0.072010    True  \n",
       "2     0.138584    True                   bloodhound  0.116197    True  \n",
       "3     0.360687    True           miniature_pinscher  0.222752    True  \n",
       "4     0.243682    True                     Doberman  0.154629    True  \n",
       "...        ...     ...                          ...       ...     ...  \n",
       "2070  0.225770    True  German_short-haired_pointer  0.175219    True  \n",
       "2071  0.168086    True                      spatula  0.040836   False  \n",
       "2072  0.078253    True                       kelpie  0.031379    True  \n",
       "2073  0.090647    True                     papillon  0.068957    True  \n",
       "2074  0.085851   False                       banana  0.076110   False  \n",
       "\n",
       "[2075 rows x 12 columns]"
      ]
     },
     "execution_count": 26,
     "metadata": {},
     "output_type": "execute_result"
    }
   ],
   "source": [
    "df_img"
   ]
  },
  {
   "cell_type": "code",
   "execution_count": 27,
   "metadata": {
    "ExecuteTime": {
     "end_time": "2021-05-03T20:11:15.874680Z",
     "start_time": "2021-05-03T20:11:15.860680Z"
    },
    "scrolled": true
   },
   "outputs": [
    {
     "name": "stdout",
     "output_type": "stream",
     "text": [
      "<class 'pandas.core.frame.DataFrame'>\n",
      "RangeIndex: 2075 entries, 0 to 2074\n",
      "Data columns (total 12 columns):\n",
      " #   Column    Non-Null Count  Dtype  \n",
      "---  ------    --------------  -----  \n",
      " 0   tweet_id  2075 non-null   int64  \n",
      " 1   jpg_url   2075 non-null   object \n",
      " 2   img_num   2075 non-null   int64  \n",
      " 3   p1        2075 non-null   object \n",
      " 4   p1_conf   2075 non-null   float64\n",
      " 5   p1_dog    2075 non-null   bool   \n",
      " 6   p2        2075 non-null   object \n",
      " 7   p2_conf   2075 non-null   float64\n",
      " 8   p2_dog    2075 non-null   bool   \n",
      " 9   p3        2075 non-null   object \n",
      " 10  p3_conf   2075 non-null   float64\n",
      " 11  p3_dog    2075 non-null   bool   \n",
      "dtypes: bool(3), float64(3), int64(2), object(4)\n",
      "memory usage: 152.1+ KB\n"
     ]
    }
   ],
   "source": [
    "df_img.info()"
   ]
  },
  {
   "cell_type": "code",
   "execution_count": 28,
   "metadata": {
    "ExecuteTime": {
     "end_time": "2021-05-03T20:11:15.889680Z",
     "start_time": "2021-05-03T20:11:15.875680Z"
    }
   },
   "outputs": [
    {
     "name": "stdout",
     "output_type": "stream",
     "text": [
      "p1 dog names: (378,), lower: (378,)\n",
      "p2 dog names: (405,), lower: (404,)\n",
      "p3 dog names: (408,), lower: (408,)\n"
     ]
    }
   ],
   "source": [
    "print(f\"p1 dog names: {df_img['p1'].unique().shape}, lower: {df_img['p1'].str.lower().unique().shape}\")\n",
    "print(f\"p2 dog names: {df_img['p2'].unique().shape}, lower: {df_img['p2'].str.lower().unique().shape}\")\n",
    "print(f\"p3 dog names: {df_img['p3'].unique().shape}, lower: {df_img['p3'].str.lower().unique().shape}\")"
   ]
  },
  {
   "cell_type": "markdown",
   "metadata": {},
   "source": [
    "6 `p1`, `p2`, `p3`, kind of dogs name, have some duplicated name(lower case and first capitalized case)"
   ]
  },
  {
   "cell_type": "code",
   "execution_count": 29,
   "metadata": {
    "ExecuteTime": {
     "end_time": "2021-05-03T20:11:15.904682Z",
     "start_time": "2021-05-03T20:11:15.890681Z"
    },
    "scrolled": true
   },
   "outputs": [
    {
     "data": {
      "text/html": [
       "<div>\n",
       "<style scoped>\n",
       "    .dataframe tbody tr th:only-of-type {\n",
       "        vertical-align: middle;\n",
       "    }\n",
       "\n",
       "    .dataframe tbody tr th {\n",
       "        vertical-align: top;\n",
       "    }\n",
       "\n",
       "    .dataframe thead th {\n",
       "        text-align: right;\n",
       "    }\n",
       "</style>\n",
       "<table border=\"1\" class=\"dataframe\">\n",
       "  <thead>\n",
       "    <tr style=\"text-align: right;\">\n",
       "      <th></th>\n",
       "      <th>tweet_id</th>\n",
       "      <th>favorite_count</th>\n",
       "      <th>retweet_count</th>\n",
       "      <th>followers_count</th>\n",
       "      <th>friends_count</th>\n",
       "      <th>source</th>\n",
       "      <th>retweeted_status</th>\n",
       "      <th>url</th>\n",
       "    </tr>\n",
       "  </thead>\n",
       "  <tbody>\n",
       "    <tr>\n",
       "      <th>0</th>\n",
       "      <td>892420643555336193</td>\n",
       "      <td>34831</td>\n",
       "      <td>7312</td>\n",
       "      <td>9014803</td>\n",
       "      <td>17</td>\n",
       "      <td>Twitter for iPhone</td>\n",
       "      <td>Original tweet</td>\n",
       "      <td>https://t.co/MgUWQ76dJU</td>\n",
       "    </tr>\n",
       "    <tr>\n",
       "      <th>1</th>\n",
       "      <td>892177421306343426</td>\n",
       "      <td>30173</td>\n",
       "      <td>5461</td>\n",
       "      <td>9014803</td>\n",
       "      <td>17</td>\n",
       "      <td>Twitter for iPhone</td>\n",
       "      <td>Original tweet</td>\n",
       "      <td>https://t.co/aQFSeaCu9L</td>\n",
       "    </tr>\n",
       "    <tr>\n",
       "      <th>2</th>\n",
       "      <td>891815181378084864</td>\n",
       "      <td>22719</td>\n",
       "      <td>3603</td>\n",
       "      <td>9014803</td>\n",
       "      <td>17</td>\n",
       "      <td>Twitter for iPhone</td>\n",
       "      <td>Original tweet</td>\n",
       "      <td>https://t.co/r0YlrsGCgy</td>\n",
       "    </tr>\n",
       "    <tr>\n",
       "      <th>3</th>\n",
       "      <td>891689557279858688</td>\n",
       "      <td>38083</td>\n",
       "      <td>7494</td>\n",
       "      <td>9014803</td>\n",
       "      <td>17</td>\n",
       "      <td>Twitter for iPhone</td>\n",
       "      <td>Original tweet</td>\n",
       "      <td>https://t.co/tD36da7qLQ</td>\n",
       "    </tr>\n",
       "    <tr>\n",
       "      <th>4</th>\n",
       "      <td>891327558926688256</td>\n",
       "      <td>36350</td>\n",
       "      <td>8054</td>\n",
       "      <td>9014803</td>\n",
       "      <td>17</td>\n",
       "      <td>Twitter for iPhone</td>\n",
       "      <td>Original tweet</td>\n",
       "      <td>https://t.co/0g0KMIVXZ3</td>\n",
       "    </tr>\n",
       "  </tbody>\n",
       "</table>\n",
       "</div>"
      ],
      "text/plain": [
       "             tweet_id  favorite_count  retweet_count  followers_count  \\\n",
       "0  892420643555336193           34831           7312          9014803   \n",
       "1  892177421306343426           30173           5461          9014803   \n",
       "2  891815181378084864           22719           3603          9014803   \n",
       "3  891689557279858688           38083           7494          9014803   \n",
       "4  891327558926688256           36350           8054          9014803   \n",
       "\n",
       "   friends_count              source retweeted_status                      url  \n",
       "0             17  Twitter for iPhone   Original tweet  https://t.co/MgUWQ76dJU  \n",
       "1             17  Twitter for iPhone   Original tweet  https://t.co/aQFSeaCu9L  \n",
       "2             17  Twitter for iPhone   Original tweet  https://t.co/r0YlrsGCgy  \n",
       "3             17  Twitter for iPhone   Original tweet  https://t.co/tD36da7qLQ  \n",
       "4             17  Twitter for iPhone   Original tweet  https://t.co/0g0KMIVXZ3  "
      ]
     },
     "execution_count": 29,
     "metadata": {},
     "output_type": "execute_result"
    }
   ],
   "source": [
    "df_ex.head()"
   ]
  },
  {
   "cell_type": "markdown",
   "metadata": {},
   "source": [
    "7. `create_at` column type is object(string). This column type will be changed to `datetime`."
   ]
  },
  {
   "cell_type": "code",
   "execution_count": 30,
   "metadata": {
    "ExecuteTime": {
     "end_time": "2021-05-03T20:11:15.919681Z",
     "start_time": "2021-05-03T20:11:15.905681Z"
    },
    "scrolled": false
   },
   "outputs": [
    {
     "name": "stdout",
     "output_type": "stream",
     "text": [
      "<class 'pandas.core.frame.DataFrame'>\n",
      "RangeIndex: 2331 entries, 0 to 2330\n",
      "Data columns (total 8 columns):\n",
      " #   Column            Non-Null Count  Dtype \n",
      "---  ------            --------------  ----- \n",
      " 0   tweet_id          2331 non-null   object\n",
      " 1   favorite_count    2331 non-null   int64 \n",
      " 2   retweet_count     2331 non-null   int64 \n",
      " 3   followers_count   2331 non-null   int64 \n",
      " 4   friends_count     2331 non-null   int64 \n",
      " 5   source            2331 non-null   object\n",
      " 6   retweeted_status  2331 non-null   object\n",
      " 7   url               2331 non-null   object\n",
      "dtypes: int64(4), object(4)\n",
      "memory usage: 145.8+ KB\n"
     ]
    }
   ],
   "source": [
    "df_ex.info()"
   ]
  },
  {
   "cell_type": "code",
   "execution_count": 31,
   "metadata": {
    "ExecuteTime": {
     "end_time": "2021-05-03T20:11:15.934678Z",
     "start_time": "2021-05-03T20:11:15.920680Z"
    }
   },
   "outputs": [
    {
     "data": {
      "text/plain": [
       "0        163\n",
       "410        3\n",
       "287        3\n",
       "3539       3\n",
       "2327       3\n",
       "        ... \n",
       "567        1\n",
       "10808      1\n",
       "2618       1\n",
       "573        1\n",
       "24559      1\n",
       "Name: favorite_count, Length: 1969, dtype: int64"
      ]
     },
     "execution_count": 31,
     "metadata": {},
     "output_type": "execute_result"
    }
   ],
   "source": [
    "df_ex['favorite_count'].value_counts()"
   ]
  },
  {
   "cell_type": "code",
   "execution_count": 32,
   "metadata": {
    "ExecuteTime": {
     "end_time": "2021-05-03T20:11:15.949679Z",
     "start_time": "2021-05-03T20:11:15.935680Z"
    }
   },
   "outputs": [
    {
     "data": {
      "text/plain": [
       "349     6\n",
       "212     6\n",
       "490     5\n",
       "433     5\n",
       "588     4\n",
       "       ..\n",
       "333     1\n",
       "339     1\n",
       "341     1\n",
       "2390    1\n",
       "4098    1\n",
       "Name: retweet_count, Length: 1681, dtype: int64"
      ]
     },
     "execution_count": 32,
     "metadata": {},
     "output_type": "execute_result"
    }
   ],
   "source": [
    "df_ex['retweet_count'].value_counts()"
   ]
  },
  {
   "cell_type": "code",
   "execution_count": 33,
   "metadata": {
    "ExecuteTime": {
     "end_time": "2021-05-03T20:11:15.964681Z",
     "start_time": "2021-05-03T20:11:15.950681Z"
    }
   },
   "outputs": [
    {
     "data": {
      "text/plain": [
       "9014806    471\n",
       "9014818    300\n",
       "9014832    255\n",
       "9014817    202\n",
       "9014807    167\n",
       "9014819    166\n",
       "9014828    116\n",
       "9014820    109\n",
       "9014821     96\n",
       "9014804     77\n",
       "9014833     75\n",
       "9014808     60\n",
       "9014803     57\n",
       "9014829     56\n",
       "9014831     33\n",
       "9014805     32\n",
       "9014822     15\n",
       "9014830     12\n",
       "9014809      9\n",
       "9014444      5\n",
       "9014431      5\n",
       "9014445      3\n",
       "9014429      3\n",
       "9014430      2\n",
       "9014418      2\n",
       "9014419      2\n",
       "9014440      1\n",
       "Name: followers_count, dtype: int64"
      ]
     },
     "execution_count": 33,
     "metadata": {},
     "output_type": "execute_result"
    }
   ],
   "source": [
    "df_ex['followers_count'].value_counts()"
   ]
  },
  {
   "cell_type": "code",
   "execution_count": 34,
   "metadata": {
    "ExecuteTime": {
     "end_time": "2021-05-03T20:11:15.979679Z",
     "start_time": "2021-05-03T20:11:15.965682Z"
    }
   },
   "outputs": [
    {
     "data": {
      "text/plain": [
       "17    2331\n",
       "Name: friends_count, dtype: int64"
      ]
     },
     "execution_count": 34,
     "metadata": {},
     "output_type": "execute_result"
    }
   ],
   "source": [
    "df_ex['friends_count'].value_counts()"
   ]
  },
  {
   "cell_type": "markdown",
   "metadata": {},
   "source": [
    "8. Only one data have information of `place` column"
   ]
  },
  {
   "cell_type": "code",
   "execution_count": 35,
   "metadata": {
    "ExecuteTime": {
     "end_time": "2021-05-03T20:11:15.994678Z",
     "start_time": "2021-05-03T20:11:15.980681Z"
    }
   },
   "outputs": [
    {
     "data": {
      "text/plain": [
       "Index(['tweet_id', 'in_reply_to_status_id', 'in_reply_to_user_id', 'timestamp',\n",
       "       'source', 'text', 'retweeted_status_id', 'retweeted_status_user_id',\n",
       "       'retweeted_status_timestamp', 'expanded_urls', 'rating_numerator',\n",
       "       'rating_denominator', 'name', 'doggo', 'floofer', 'pupper', 'puppo'],\n",
       "      dtype='object')"
      ]
     },
     "execution_count": 35,
     "metadata": {},
     "output_type": "execute_result"
    }
   ],
   "source": [
    "df_tw.columns"
   ]
  },
  {
   "cell_type": "code",
   "execution_count": 36,
   "metadata": {
    "ExecuteTime": {
     "end_time": "2021-05-03T20:11:16.009680Z",
     "start_time": "2021-05-03T20:11:15.995681Z"
    }
   },
   "outputs": [
    {
     "name": "stdout",
     "output_type": "stream",
     "text": [
      "None         745\n",
      "a             55\n",
      "Charlie       12\n",
      "Lucy          11\n",
      "Oliver        11\n",
      "            ... \n",
      "Sandra         1\n",
      "Spark          1\n",
      "Shelby         1\n",
      "Scruffers      1\n",
      "light          1\n",
      "Name: name, Length: 957, dtype: int64 None     2259\n",
      "doggo      97\n",
      "Name: doggo, dtype: int64 None       2346\n",
      "floofer      10\n",
      "Name: floofer, dtype: int64 None      2099\n",
      "pupper     257\n",
      "Name: pupper, dtype: int64 None     2326\n",
      "puppo      30\n",
      "Name: puppo, dtype: int64\n"
     ]
    }
   ],
   "source": [
    "print(df_tw['name'].value_counts(),\\\n",
    "      df_tw['doggo'].value_counts(),\\\n",
    "     df_tw['floofer'].value_counts(),\\\n",
    "     df_tw['pupper'].value_counts(),\\\n",
    "     df_tw['puppo'].value_counts())"
   ]
  },
  {
   "cell_type": "markdown",
   "metadata": {},
   "source": [
    "9. `doggo`, `floofer`, `pupper`, and `puppo` columns in `df_tw` data frame chage to one-hot-encoded variable"
   ]
  },
  {
   "cell_type": "markdown",
   "metadata": {
    "ExecuteTime": {
     "end_time": "2021-05-01T02:28:03.404213Z",
     "start_time": "2021-05-01T02:28:03.387213Z"
    }
   },
   "source": [
    "10. `datetime` columns change to `year`, `month`, `day` and so on."
   ]
  },
  {
   "cell_type": "code",
   "execution_count": 37,
   "metadata": {
    "ExecuteTime": {
     "end_time": "2021-05-03T20:11:16.024679Z",
     "start_time": "2021-05-03T20:11:16.010679Z"
    }
   },
   "outputs": [
    {
     "data": {
      "text/plain": [
       "array(['Phineas', 'Tilly', 'Archie', 'Darla', 'Franklin', 'None', 'Jax',\n",
       "       'Zoey', 'Cassie', 'Koda', 'Bruno', 'Ted', 'Stuart', 'Oliver',\n",
       "       'Jim', 'Zeke', 'Ralphus', 'Canela', 'Gerald', 'Jeffrey', 'such',\n",
       "       'Maya', 'Mingus', 'Derek', 'Roscoe', 'Waffles', 'Jimbo', 'Maisey',\n",
       "       'Lilly', 'Earl', 'Lola', 'Kevin', 'Yogi', 'Noah', 'Bella',\n",
       "       'Grizzwald', 'Rusty', 'Gus', 'Stanley', 'Alfy', 'Koko', 'Rey',\n",
       "       'Gary', 'a', 'Elliot', 'Louis', 'Jesse', 'Romeo', 'Bailey',\n",
       "       'Duddles', 'Jack', 'Emmy', 'Steven', 'Beau', 'Snoopy', 'Shadow',\n",
       "       'Terrance', 'Aja', 'Penny', 'Dante', 'Nelly', 'Ginger', 'Benedict',\n",
       "       'Venti', 'Goose', 'Nugget', 'Cash', 'Coco', 'Jed', 'Sebastian',\n",
       "       'Walter', 'Sierra', 'Monkey', 'Harry', 'Kody', 'Lassie', 'Rover',\n",
       "       'Napolean', 'Dawn', 'Boomer', 'Cody', 'Rumble', 'Clifford',\n",
       "       'quite', 'Dewey', 'Scout', 'Gizmo', 'Cooper', 'Harold', 'Shikha',\n",
       "       'Jamesy', 'Lili', 'Sammy', 'Meatball', 'Paisley', 'Albus',\n",
       "       'Neptune', 'Quinn', 'Belle', 'Zooey', 'Dave', 'Jersey', 'Hobbes',\n",
       "       'Burt', 'Lorenzo', 'Carl', 'Jordy', 'Milky', 'Trooper', 'Winston',\n",
       "       'Sophie', 'Wyatt', 'Rosie', 'Thor', 'Oscar', 'Luna', 'Callie',\n",
       "       'Cermet', 'George', 'Marlee', 'Arya', 'Einstein', 'Alice',\n",
       "       'Rumpole', 'Benny', 'Aspen', 'Jarod', 'Wiggles', 'General',\n",
       "       'Sailor', 'Astrid', 'Iggy', 'Snoop', 'Kyle', 'Leo', 'Riley',\n",
       "       'Gidget', 'Noosh', 'Odin', 'Jerry', 'Charlie', 'Georgie', 'Rontu',\n",
       "       'Cannon', 'Furzey', 'Daisy', 'Tuck', 'Barney', 'Vixen', 'Jarvis',\n",
       "       'Mimosa', 'Pickles', 'Bungalo', 'Brady', 'Margo', 'Sadie', 'Hank',\n",
       "       'Tycho', 'Stephan', 'Indie', 'Winnie', 'Bentley', 'Ken', 'Max',\n",
       "       'Maddie', 'Pipsy', 'Monty', 'Sojourner', 'Odie', 'Arlo', 'Sunny',\n",
       "       'Vincent', 'Lucy', 'Clark', 'Mookie', 'Meera', 'Buddy', 'Ava',\n",
       "       'Rory', 'Eli', 'Ash', 'Tucker', 'Tobi', 'Chester', 'Wilson',\n",
       "       'Sunshine', 'Lipton', 'Gabby', 'Bronte', 'Poppy', 'Rhino',\n",
       "       'Willow', 'not', 'Orion', 'Eevee', 'Smiley', 'Logan', 'Moreton',\n",
       "       'Klein', 'Miguel', 'Emanuel', 'Kuyu', 'Dutch', 'Pete', 'Scooter',\n",
       "       'Reggie', 'Kyro', 'Samson', 'Loki', 'Mia', 'Malcolm', 'Dexter',\n",
       "       'Alfie', 'Fiona', 'one', 'Mutt', 'Bear', 'Doobert', 'Beebop',\n",
       "       'Alexander', 'Sailer', 'Brutus', 'Kona', 'Boots', 'Ralphie',\n",
       "       'Phil', 'Cupid', 'Pawnd', 'Pilot', 'Ike', 'Mo', 'Toby', 'Sweet',\n",
       "       'Pablo', 'Nala', 'Balto', 'Crawford', 'Gabe', 'Mattie', 'Jimison',\n",
       "       'Hercules', 'Duchess', 'Harlso', 'Sampson', 'Sundance', 'Luca',\n",
       "       'Flash', 'Finn', 'Peaches', 'Howie', 'Jazzy', 'Anna', 'Bo',\n",
       "       'Seamus', 'Wafer', 'Chelsea', 'Tom', 'Moose', 'Florence', 'Autumn',\n",
       "       'Dido', 'Eugene', 'Herschel', 'Strudel', 'Tebow', 'Chloe', 'Betty',\n",
       "       'Timber', 'Binky', 'Dudley', 'Comet', 'Larry', 'Levi', 'Akumi',\n",
       "       'Titan', 'Olivia', 'Alf', 'Oshie', 'Bruce', 'Chubbs', 'Sky',\n",
       "       'Atlas', 'Eleanor', 'Layla', 'Rocky', 'Baron', 'Tyr', 'Bauer',\n",
       "       'Swagger', 'Brandi', 'Mary', 'Moe', 'Halo', 'Augie', 'Craig',\n",
       "       'Sam', 'Hunter', 'Pavlov', 'Maximus', 'Wallace', 'Ito', 'Milo',\n",
       "       'Ollie', 'Cali', 'Lennon', 'incredibly', 'Major', 'Duke',\n",
       "       'Reginald', 'Sansa', 'Shooter', 'Django', 'Diogi', 'Sonny',\n",
       "       'Philbert', 'Marley', 'Severus', 'Ronnie', 'Anakin', 'Bones',\n",
       "       'Mauve', 'Chef', 'Doc', 'Sobe', 'Longfellow', 'Mister', 'Iroh',\n",
       "       'Baloo', 'Stubert', 'Paull', 'Timison', 'Davey', 'Pancake',\n",
       "       'Tyrone', 'Snicku', 'Ruby', 'Brody', 'Rizzy', 'Mack', 'Butter',\n",
       "       'Nimbus', 'Laika', 'Dobby', 'Juno', 'Maude', 'Lily', 'Newt',\n",
       "       'Benji', 'Nida', 'Robin', 'Monster', 'BeBe', 'Remus', 'Mabel',\n",
       "       'Misty', 'Happy', 'Mosby', 'Maggie', 'Leela', 'Ralphy', 'Brownie',\n",
       "       'Meyer', 'Stella', 'mad', 'Frank', 'Tonks', 'Lincoln', 'Oakley',\n",
       "       'Dale', 'Rizzo', 'Arnie', 'Pinot', 'Dallas', 'Hero', 'Frankie',\n",
       "       'Stormy', 'Mairi', 'Loomis', 'Godi', 'Kenny', 'Deacon', 'Timmy',\n",
       "       'Harper', 'Chipson', 'Combo', 'Dash', 'Bell', 'Hurley', 'Jay',\n",
       "       'Mya', 'Strider', 'an', 'Wesley', 'Solomon', 'Huck', 'very', 'O',\n",
       "       'Blue', 'Finley', 'Sprinkles', 'Heinrich', 'Shakespeare', 'Fizz',\n",
       "       'Chip', 'Grey', 'Roosevelt', 'Gromit', 'Willem', 'Dakota', 'Dixie',\n",
       "       'Al', 'Jackson', 'just', 'Carbon', 'DonDon', 'Kirby', 'Lou',\n",
       "       'Nollie', 'Chevy', 'Tito', 'Louie', 'Rupert', 'Rufus', 'Brudge',\n",
       "       'Shadoe', 'Colby', 'Angel', 'Brat', 'Tove', 'my', 'Aubie', 'Kota',\n",
       "       'Eve', 'Glenn', 'Shelby', 'Sephie', 'Bonaparte', 'Albert',\n",
       "       'Wishes', 'Rose', 'Theo', 'Rocco', 'Fido', 'Emma', 'Spencer',\n",
       "       'Lilli', 'Boston', 'Brandonald', 'Corey', 'Leonard', 'Chompsky',\n",
       "       'Beckham', 'Devón', 'Gert', 'Watson', 'Rubio', 'Keith', 'Dex',\n",
       "       'Carly', 'Ace', 'Tayzie', 'Grizzie', 'Fred', 'Gilbert', 'Zoe',\n",
       "       'Stewie', 'Calvin', 'Lilah', 'Spanky', 'Jameson', 'Piper',\n",
       "       'Atticus', 'Blu', 'Dietrich', 'Divine', 'Tripp', 'his', 'Cora',\n",
       "       'Huxley', 'Keurig', 'Bookstore', 'Linus', 'Abby', 'Shaggy',\n",
       "       'Shiloh', 'Gustav', 'Arlen', 'Percy', 'Lenox', 'Sugar', 'Harvey',\n",
       "       'Blanket', 'actually', 'Geno', 'Stark', 'Beya', 'Kilo', 'Kayla',\n",
       "       'Maxaroni', 'Doug', 'Edmund', 'Aqua', 'Theodore', 'Chase',\n",
       "       'getting', 'Rorie', 'Simba', 'Charles', 'Bayley', 'Axel',\n",
       "       'Storkson', 'Remy', 'Chadrick', 'Kellogg', 'Buckley', 'Livvie',\n",
       "       'Terry', 'Hermione', 'Ralpher', 'Aldrick', 'this', 'unacceptable',\n",
       "       'Rooney', 'Crystal', 'Ziva', 'Stefan', 'Pupcasso', 'Puff',\n",
       "       'Flurpson', 'Coleman', 'Enchilada', 'Raymond', 'all', 'Rueben',\n",
       "       'Cilantro', 'Karll', 'Sprout', 'Blitz', 'Bloop', 'Lillie',\n",
       "       'Ashleigh', 'Kreggory', 'Sarge', 'Luther', 'Ivar', 'Jangle',\n",
       "       'Schnitzel', 'Panda', 'Berkeley', 'Ralphé', 'Charleson', 'Clyde',\n",
       "       'Harnold', 'Sid', 'Pippa', 'Otis', 'Carper', 'Bowie',\n",
       "       'Alexanderson', 'Suki', 'Barclay', 'Skittle', 'Ebby', 'Flávio',\n",
       "       'Smokey', 'Link', 'Jennifur', 'Ozzy', 'Bluebert', 'Stephanus',\n",
       "       'Bubbles', 'old', 'Zeus', 'Bertson', 'Nico', 'Michelangelope',\n",
       "       'Siba', 'Calbert', 'Curtis', 'Travis', 'Thumas', 'Kanu', 'Lance',\n",
       "       'Opie', 'Kane', 'Olive', 'Chuckles', 'Staniel', 'Sora', 'Beemo',\n",
       "       'Gunner', 'infuriating', 'Lacy', 'Tater', 'Olaf', 'Cecil', 'Vince',\n",
       "       'Karma', 'Billy', 'Walker', 'Rodney', 'Klevin', 'Malikai',\n",
       "       'Bobble', 'River', 'Jebberson', 'Remington', 'Farfle', 'Jiminus',\n",
       "       'Clarkus', 'Finnegus', 'Cupcake', 'Kathmandu', 'Ellie', 'Katie',\n",
       "       'Kara', 'Adele', 'Zara', 'Ambrose', 'Jimothy', 'Bode', 'Terrenth',\n",
       "       'Reese', 'Chesterson', 'Lucia', 'Bisquick', 'Ralphson', 'Socks',\n",
       "       'Rambo', 'Rudy', 'Fiji', 'Rilo', 'Bilbo', 'Coopson', 'Yoda',\n",
       "       'Millie', 'Chet', 'Crouton', 'Daniel', 'Kaia', 'Murphy', 'Dotsy',\n",
       "       'Eazy', 'Coops', 'Fillup', 'Miley', 'Charl', 'Reagan', 'Yukon',\n",
       "       'CeCe', 'Cuddles', 'Claude', 'Jessiga', 'Carter', 'Ole', 'Pherb',\n",
       "       'Blipson', 'Reptar', 'Trevith', 'Berb', 'Bob', 'Colin', 'Brian',\n",
       "       'Oliviér', 'Grady', 'Kobe', 'Freddery', 'Bodie', 'Dunkin', 'Wally',\n",
       "       'Tupawc', 'Amber', 'Edgar', 'Teddy', 'Kingsley', 'Brockly',\n",
       "       'Richie', 'Molly', 'Vinscent', 'Cedrick', 'Hazel', 'Lolo', 'Eriq',\n",
       "       'Phred', 'the', 'Oddie', 'Maxwell', 'Geoff', 'Covach', 'Durg',\n",
       "       'Fynn', 'Ricky', 'Herald', 'Lucky', 'Ferg', 'Trip', 'Clarence',\n",
       "       'Hamrick', 'Brad', 'Pubert', 'Frönq', 'Derby', 'Lizzie', 'Ember',\n",
       "       'Blakely', 'Opal', 'Marq', 'Kramer', 'Barry', 'Gordon', 'Baxter',\n",
       "       'Mona', 'Horace', 'Crimson', 'Birf', 'Hammond', 'Lorelei', 'Marty',\n",
       "       'Brooks', 'Petrick', 'Hubertson', 'Gerbald', 'Oreo', 'Bruiser',\n",
       "       'Perry', 'Bobby', 'Jeph', 'Obi', 'Tino', 'Kulet', 'Sweets', 'Lupe',\n",
       "       'Tiger', 'Jiminy', 'Griffin', 'Banjo', 'Brandy', 'Lulu', 'Darrel',\n",
       "       'Taco', 'Joey', 'Patrick', 'Kreg', 'Todo', 'Tess', 'Ulysses',\n",
       "       'Toffee', 'Apollo', 'Asher', 'Glacier', 'Chuck', 'Champ', 'Ozzie',\n",
       "       'Griswold', 'Cheesy', 'Moofasa', 'Hector', 'Goliath', 'Kawhi',\n",
       "       'by', 'Emmie', 'Penelope', 'Willie', 'Rinna', 'Mike', 'William',\n",
       "       'Dwight', 'Evy', 'officially', 'Rascal', 'Linda', 'Tug', 'Tango',\n",
       "       'Grizz', 'Jerome', 'Crumpet', 'Jessifer', 'Izzy', 'Ralph', 'Sandy',\n",
       "       'Humphrey', 'Tassy', 'Juckson', 'Chuq', 'Tyrus', 'Karl',\n",
       "       'Godzilla', 'Vinnie', 'Kenneth', 'Herm', 'Bert', 'Striker',\n",
       "       'Donny', 'Pepper', 'Bernie', 'Buddah', 'Lenny', 'Arnold', 'Zuzu',\n",
       "       'Mollie', 'Laela', 'Tedders', 'Superpup', 'Rufio', 'Jeb', 'Rodman',\n",
       "       'Jonah', 'Chesney', 'life', 'Henry', 'Bobbay', 'Mitch', 'Kaiya',\n",
       "       'Acro', 'Aiden', 'Obie', 'Dot', 'Shnuggles', 'Kendall', 'Jeffri',\n",
       "       'Steve', 'Mac', 'Fletcher', 'Kenzie', 'Pumpkin', 'Schnozz',\n",
       "       'Gustaf', 'Cheryl', 'Ed', 'Leonidas', 'Norman', 'Caryl', 'Scott',\n",
       "       'Taz', 'Darby', 'Jackie', 'light', 'Jazz', 'Franq', 'Pippin',\n",
       "       'Rolf', 'Snickers', 'Ridley', 'Cal', 'Bradley', 'Bubba', 'Tuco',\n",
       "       'Patch', 'Mojo', 'Batdog', 'Dylan', 'space', 'Mark', 'JD',\n",
       "       'Alejandro', 'Scruffers', 'Pip', 'Julius', 'Tanner', 'Sparky',\n",
       "       'Anthony', 'Holly', 'Jett', 'Amy', 'Sage', 'Andy', 'Mason',\n",
       "       'Trigger', 'Antony', 'Creg', 'Traviss', 'Gin', 'Jeffrie', 'Danny',\n",
       "       'Ester', 'Pluto', 'Bloo', 'Edd', 'Willy', 'Herb', 'Damon',\n",
       "       'Peanut', 'Nigel', 'Butters', 'Sandra', 'Fabio', 'Randall', 'Liam',\n",
       "       'Tommy', 'Ben', 'Raphael', 'Julio', 'Andru', 'Kloey', 'Shawwn',\n",
       "       'Skye', 'Kollin', 'Ronduh', 'Billl', 'Saydee', 'Dug', 'Tessa',\n",
       "       'Sully', 'Kirk', 'Ralf', 'Clarq', 'Jaspers', 'Samsom', 'Harrison',\n",
       "       'Chaz', 'Jeremy', 'Jaycob', 'Lambeau', 'Ruffles', 'Amélie', 'Bobb',\n",
       "       'Banditt', 'Kevon', 'Winifred', 'Hanz', 'Churlie', 'Zeek',\n",
       "       'Timofy', 'Maks', 'Jomathan', 'Kallie', 'Marvin', 'Spark',\n",
       "       'Gòrdón', 'Jo', 'DayZ', 'Jareld', 'Torque', 'Ron', 'Skittles',\n",
       "       'Cleopatricia', 'Erik', 'Stu', 'Tedrick', 'Filup', 'Kial',\n",
       "       'Naphaniel', 'Dook', 'Hall', 'Philippe', 'Biden', 'Fwed',\n",
       "       'Genevieve', 'Joshwa', 'Bradlay', 'Clybe', 'Keet', 'Carll',\n",
       "       'Jockson', 'Josep', 'Lugan', 'Christoper'], dtype=object)"
      ]
     },
     "execution_count": 37,
     "metadata": {},
     "output_type": "execute_result"
    }
   ],
   "source": [
    "df_tw['name'].unique()"
   ]
  },
  {
   "cell_type": "markdown",
   "metadata": {
    "ExecuteTime": {
     "end_time": "2021-05-01T02:27:38.192799Z",
     "start_time": "2021-05-01T02:27:38.179798Z"
    }
   },
   "source": [
    "11. `name` column have some false name like `a`, `O`, `his`, and so on.\n",
    "* list = {'a', 'O', 'his', 'getting', 'unacceptable', 'old', 'None', 'quite', 'not', 'mad', 'an', 'very', 'one', 'all', 'this', 'such', just', 'by', 'infuriating', 'light', 'life', 'my', 'the'}"
   ]
  },
  {
   "cell_type": "markdown",
   "metadata": {},
   "source": [
    "## Tidiness Issues(required detect and document at least 2 issues)\n",
    "1. `tweet_id` is same column in `df_tw`, `df_img`, and `df_ex`, but `df_ex` is `object` type and others `int64`\n",
    "1. All data must be merged\n"
   ]
  },
  {
   "cell_type": "code",
   "execution_count": 38,
   "metadata": {
    "ExecuteTime": {
     "end_time": "2021-05-03T20:11:16.039679Z",
     "start_time": "2021-05-03T20:11:16.025680Z"
    }
   },
   "outputs": [
    {
     "data": {
      "text/plain": [
       "(dtype('int64'), dtype('int64'), dtype('O'))"
      ]
     },
     "execution_count": 38,
     "metadata": {},
     "output_type": "execute_result"
    }
   ],
   "source": [
    "df_tw['tweet_id'].dtype,\\\n",
    "df_img['tweet_id'].dtype,\\\n",
    "df_ex['tweet_id'].dtype"
   ]
  },
  {
   "cell_type": "code",
   "execution_count": 39,
   "metadata": {
    "ExecuteTime": {
     "end_time": "2021-05-03T20:11:16.069680Z",
     "start_time": "2021-05-03T20:11:16.040679Z"
    },
    "scrolled": true
   },
   "outputs": [
    {
     "data": {
      "text/html": [
       "<div>\n",
       "<style scoped>\n",
       "    .dataframe tbody tr th:only-of-type {\n",
       "        vertical-align: middle;\n",
       "    }\n",
       "\n",
       "    .dataframe tbody tr th {\n",
       "        vertical-align: top;\n",
       "    }\n",
       "\n",
       "    .dataframe thead th {\n",
       "        text-align: right;\n",
       "    }\n",
       "</style>\n",
       "<table border=\"1\" class=\"dataframe\">\n",
       "  <thead>\n",
       "    <tr style=\"text-align: right;\">\n",
       "      <th></th>\n",
       "      <th>tweet_id</th>\n",
       "      <th>favorite_count</th>\n",
       "      <th>retweet_count</th>\n",
       "      <th>followers_count</th>\n",
       "      <th>friends_count</th>\n",
       "      <th>source</th>\n",
       "      <th>retweeted_status</th>\n",
       "      <th>url</th>\n",
       "    </tr>\n",
       "  </thead>\n",
       "  <tbody>\n",
       "    <tr>\n",
       "      <th>2310</th>\n",
       "      <td>666287406224695296</td>\n",
       "      <td>130</td>\n",
       "      <td>57</td>\n",
       "      <td>9014832</td>\n",
       "      <td>17</td>\n",
       "      <td>Twitter for iPhone</td>\n",
       "      <td>Original tweet</td>\n",
       "      <td>https://t.co/d9NcXFKwLv</td>\n",
       "    </tr>\n",
       "    <tr>\n",
       "      <th>1206</th>\n",
       "      <td>713411074226274305</td>\n",
       "      <td>4231</td>\n",
       "      <td>1235</td>\n",
       "      <td>9014818</td>\n",
       "      <td>17</td>\n",
       "      <td>Twitter for iPhone</td>\n",
       "      <td>Original tweet</td>\n",
       "      <td>https://t.co/jVJJKlPbvq</td>\n",
       "    </tr>\n",
       "    <tr>\n",
       "      <th>28</th>\n",
       "      <td>886366144734445568</td>\n",
       "      <td>19116</td>\n",
       "      <td>2743</td>\n",
       "      <td>9014803</td>\n",
       "      <td>17</td>\n",
       "      <td>Twitter for iPhone</td>\n",
       "      <td>Original tweet</td>\n",
       "      <td>https://t.co/iIu3AF8IWH</td>\n",
       "    </tr>\n",
       "  </tbody>\n",
       "</table>\n",
       "</div>"
      ],
      "text/plain": [
       "                tweet_id  favorite_count  retweet_count  followers_count  \\\n",
       "2310  666287406224695296             130             57          9014832   \n",
       "1206  713411074226274305            4231           1235          9014818   \n",
       "28    886366144734445568           19116           2743          9014803   \n",
       "\n",
       "      friends_count              source retweeted_status  \\\n",
       "2310             17  Twitter for iPhone   Original tweet   \n",
       "1206             17  Twitter for iPhone   Original tweet   \n",
       "28               17  Twitter for iPhone   Original tweet   \n",
       "\n",
       "                          url  \n",
       "2310  https://t.co/d9NcXFKwLv  \n",
       "1206  https://t.co/jVJJKlPbvq  \n",
       "28    https://t.co/iIu3AF8IWH  "
      ]
     },
     "execution_count": 39,
     "metadata": {},
     "output_type": "execute_result"
    }
   ],
   "source": [
    "df_ex.sample(3)"
   ]
  },
  {
   "cell_type": "code",
   "execution_count": 40,
   "metadata": {
    "ExecuteTime": {
     "end_time": "2021-05-03T20:11:16.084679Z",
     "start_time": "2021-05-03T20:11:16.070680Z"
    }
   },
   "outputs": [
    {
     "data": {
      "text/html": [
       "<div>\n",
       "<style scoped>\n",
       "    .dataframe tbody tr th:only-of-type {\n",
       "        vertical-align: middle;\n",
       "    }\n",
       "\n",
       "    .dataframe tbody tr th {\n",
       "        vertical-align: top;\n",
       "    }\n",
       "\n",
       "    .dataframe thead th {\n",
       "        text-align: right;\n",
       "    }\n",
       "</style>\n",
       "<table border=\"1\" class=\"dataframe\">\n",
       "  <thead>\n",
       "    <tr style=\"text-align: right;\">\n",
       "      <th></th>\n",
       "      <th>tweet_id</th>\n",
       "      <th>in_reply_to_status_id</th>\n",
       "      <th>in_reply_to_user_id</th>\n",
       "      <th>timestamp</th>\n",
       "      <th>source</th>\n",
       "      <th>text</th>\n",
       "      <th>retweeted_status_id</th>\n",
       "      <th>retweeted_status_user_id</th>\n",
       "      <th>retweeted_status_timestamp</th>\n",
       "      <th>expanded_urls</th>\n",
       "      <th>rating_numerator</th>\n",
       "      <th>rating_denominator</th>\n",
       "      <th>name</th>\n",
       "      <th>doggo</th>\n",
       "      <th>floofer</th>\n",
       "      <th>pupper</th>\n",
       "      <th>puppo</th>\n",
       "    </tr>\n",
       "  </thead>\n",
       "  <tbody>\n",
       "    <tr>\n",
       "      <th>1125</th>\n",
       "      <td>730196704625098752</td>\n",
       "      <td>NaN</td>\n",
       "      <td>NaN</td>\n",
       "      <td>2016-05-11 00:43:55 +0000</td>\n",
       "      <td>&lt;a href=\"http://twitter.com/download/iphone\" r...</td>\n",
       "      <td>This is Charles. He's camera shy. Tail longer ...</td>\n",
       "      <td>NaN</td>\n",
       "      <td>NaN</td>\n",
       "      <td>NaN</td>\n",
       "      <td>https://twitter.com/dog_rates/status/730196704...</td>\n",
       "      <td>6</td>\n",
       "      <td>10</td>\n",
       "      <td>Charles</td>\n",
       "      <td>None</td>\n",
       "      <td>None</td>\n",
       "      <td>None</td>\n",
       "      <td>None</td>\n",
       "    </tr>\n",
       "    <tr>\n",
       "      <th>797</th>\n",
       "      <td>773191612633579521</td>\n",
       "      <td>NaN</td>\n",
       "      <td>NaN</td>\n",
       "      <td>2016-09-06 16:10:20 +0000</td>\n",
       "      <td>&lt;a href=\"http://twitter.com/download/iphone\" r...</td>\n",
       "      <td>This is Grey. He's the dogtor in charge of you...</td>\n",
       "      <td>NaN</td>\n",
       "      <td>NaN</td>\n",
       "      <td>NaN</td>\n",
       "      <td>https://twitter.com/dog_rates/status/773191612...</td>\n",
       "      <td>12</td>\n",
       "      <td>10</td>\n",
       "      <td>Grey</td>\n",
       "      <td>None</td>\n",
       "      <td>None</td>\n",
       "      <td>None</td>\n",
       "      <td>None</td>\n",
       "    </tr>\n",
       "    <tr>\n",
       "      <th>701</th>\n",
       "      <td>786051337297522688</td>\n",
       "      <td>7.727430e+17</td>\n",
       "      <td>7.305050e+17</td>\n",
       "      <td>2016-10-12 03:50:17 +0000</td>\n",
       "      <td>&lt;a href=\"http://twitter.com/download/iphone\" r...</td>\n",
       "      <td>13/10 for breakdancing puppo @shibbnbot</td>\n",
       "      <td>NaN</td>\n",
       "      <td>NaN</td>\n",
       "      <td>NaN</td>\n",
       "      <td>NaN</td>\n",
       "      <td>13</td>\n",
       "      <td>10</td>\n",
       "      <td>None</td>\n",
       "      <td>None</td>\n",
       "      <td>None</td>\n",
       "      <td>None</td>\n",
       "      <td>puppo</td>\n",
       "    </tr>\n",
       "  </tbody>\n",
       "</table>\n",
       "</div>"
      ],
      "text/plain": [
       "                tweet_id  in_reply_to_status_id  in_reply_to_user_id  \\\n",
       "1125  730196704625098752                    NaN                  NaN   \n",
       "797   773191612633579521                    NaN                  NaN   \n",
       "701   786051337297522688           7.727430e+17         7.305050e+17   \n",
       "\n",
       "                      timestamp  \\\n",
       "1125  2016-05-11 00:43:55 +0000   \n",
       "797   2016-09-06 16:10:20 +0000   \n",
       "701   2016-10-12 03:50:17 +0000   \n",
       "\n",
       "                                                 source  \\\n",
       "1125  <a href=\"http://twitter.com/download/iphone\" r...   \n",
       "797   <a href=\"http://twitter.com/download/iphone\" r...   \n",
       "701   <a href=\"http://twitter.com/download/iphone\" r...   \n",
       "\n",
       "                                                   text  retweeted_status_id  \\\n",
       "1125  This is Charles. He's camera shy. Tail longer ...                  NaN   \n",
       "797   This is Grey. He's the dogtor in charge of you...                  NaN   \n",
       "701             13/10 for breakdancing puppo @shibbnbot                  NaN   \n",
       "\n",
       "      retweeted_status_user_id retweeted_status_timestamp  \\\n",
       "1125                       NaN                        NaN   \n",
       "797                        NaN                        NaN   \n",
       "701                        NaN                        NaN   \n",
       "\n",
       "                                          expanded_urls  rating_numerator  \\\n",
       "1125  https://twitter.com/dog_rates/status/730196704...                 6   \n",
       "797   https://twitter.com/dog_rates/status/773191612...                12   \n",
       "701                                                 NaN                13   \n",
       "\n",
       "      rating_denominator     name doggo floofer pupper  puppo  \n",
       "1125                  10  Charles  None    None   None   None  \n",
       "797                   10     Grey  None    None   None   None  \n",
       "701                   10     None  None    None   None  puppo  "
      ]
     },
     "execution_count": 40,
     "metadata": {},
     "output_type": "execute_result"
    }
   ],
   "source": [
    "df_tw.sample(3)"
   ]
  },
  {
   "cell_type": "code",
   "execution_count": 41,
   "metadata": {
    "ExecuteTime": {
     "end_time": "2021-05-03T20:11:16.114680Z",
     "start_time": "2021-05-03T20:11:16.086680Z"
    }
   },
   "outputs": [
    {
     "data": {
      "text/html": [
       "<div>\n",
       "<style scoped>\n",
       "    .dataframe tbody tr th:only-of-type {\n",
       "        vertical-align: middle;\n",
       "    }\n",
       "\n",
       "    .dataframe tbody tr th {\n",
       "        vertical-align: top;\n",
       "    }\n",
       "\n",
       "    .dataframe thead th {\n",
       "        text-align: right;\n",
       "    }\n",
       "</style>\n",
       "<table border=\"1\" class=\"dataframe\">\n",
       "  <thead>\n",
       "    <tr style=\"text-align: right;\">\n",
       "      <th></th>\n",
       "      <th>tweet_id</th>\n",
       "      <th>jpg_url</th>\n",
       "      <th>img_num</th>\n",
       "      <th>p1</th>\n",
       "      <th>p1_conf</th>\n",
       "      <th>p1_dog</th>\n",
       "      <th>p2</th>\n",
       "      <th>p2_conf</th>\n",
       "      <th>p2_dog</th>\n",
       "      <th>p3</th>\n",
       "      <th>p3_conf</th>\n",
       "      <th>p3_dog</th>\n",
       "    </tr>\n",
       "  </thead>\n",
       "  <tbody>\n",
       "    <tr>\n",
       "      <th>838</th>\n",
       "      <td>694352839993344000</td>\n",
       "      <td>https://pbs.twimg.com/media/CaLWOPfWkAAo2Dt.jpg</td>\n",
       "      <td>2</td>\n",
       "      <td>Australian_terrier</td>\n",
       "      <td>0.407886</td>\n",
       "      <td>True</td>\n",
       "      <td>Yorkshire_terrier</td>\n",
       "      <td>0.328173</td>\n",
       "      <td>True</td>\n",
       "      <td>silky_terrier</td>\n",
       "      <td>0.108404</td>\n",
       "      <td>True</td>\n",
       "    </tr>\n",
       "    <tr>\n",
       "      <th>35</th>\n",
       "      <td>666437273139982337</td>\n",
       "      <td>https://pbs.twimg.com/media/CT-pKmRWIAAxUWj.jpg</td>\n",
       "      <td>1</td>\n",
       "      <td>Chihuahua</td>\n",
       "      <td>0.671853</td>\n",
       "      <td>True</td>\n",
       "      <td>beagle</td>\n",
       "      <td>0.124680</td>\n",
       "      <td>True</td>\n",
       "      <td>Saluki</td>\n",
       "      <td>0.044094</td>\n",
       "      <td>True</td>\n",
       "    </tr>\n",
       "    <tr>\n",
       "      <th>1531</th>\n",
       "      <td>789599242079838210</td>\n",
       "      <td>https://pbs.twimg.com/media/CvU4UZpXgAE1pAV.jpg</td>\n",
       "      <td>2</td>\n",
       "      <td>Chesapeake_Bay_retriever</td>\n",
       "      <td>0.878822</td>\n",
       "      <td>True</td>\n",
       "      <td>beagle</td>\n",
       "      <td>0.018570</td>\n",
       "      <td>True</td>\n",
       "      <td>Labrador_retriever</td>\n",
       "      <td>0.017499</td>\n",
       "      <td>True</td>\n",
       "    </tr>\n",
       "  </tbody>\n",
       "</table>\n",
       "</div>"
      ],
      "text/plain": [
       "                tweet_id                                          jpg_url  \\\n",
       "838   694352839993344000  https://pbs.twimg.com/media/CaLWOPfWkAAo2Dt.jpg   \n",
       "35    666437273139982337  https://pbs.twimg.com/media/CT-pKmRWIAAxUWj.jpg   \n",
       "1531  789599242079838210  https://pbs.twimg.com/media/CvU4UZpXgAE1pAV.jpg   \n",
       "\n",
       "      img_num                        p1   p1_conf  p1_dog                 p2  \\\n",
       "838         2        Australian_terrier  0.407886    True  Yorkshire_terrier   \n",
       "35          1                 Chihuahua  0.671853    True             beagle   \n",
       "1531        2  Chesapeake_Bay_retriever  0.878822    True             beagle   \n",
       "\n",
       "       p2_conf  p2_dog                  p3   p3_conf  p3_dog  \n",
       "838   0.328173    True       silky_terrier  0.108404    True  \n",
       "35    0.124680    True              Saluki  0.044094    True  \n",
       "1531  0.018570    True  Labrador_retriever  0.017499    True  "
      ]
     },
     "execution_count": 41,
     "metadata": {},
     "output_type": "execute_result"
    }
   ],
   "source": [
    "df_img.sample(3)"
   ]
  },
  {
   "cell_type": "markdown",
   "metadata": {},
   "source": [
    "# Cleaning Data"
   ]
  },
  {
   "cell_type": "markdown",
   "metadata": {},
   "source": [
    "## Setup cleaning value"
   ]
  },
  {
   "cell_type": "code",
   "execution_count": 42,
   "metadata": {
    "ExecuteTime": {
     "end_time": "2021-05-03T20:11:16.129679Z",
     "start_time": "2021-05-03T20:11:16.115680Z"
    }
   },
   "outputs": [],
   "source": [
    "df_tw_clean = df_tw.copy()\n",
    "df_ex_clean = df_ex.copy()\n",
    "df_img_clean = df_img.copy()"
   ]
  },
  {
   "cell_type": "markdown",
   "metadata": {},
   "source": [
    "## Clean quality issues\n",
    "\n",
    "1. `df_tw`: When manually check the data, `name`, `doggo`, `floofer`, `pupper` and `puppo` columns have None data. But programatically check using info function, then there are no null data.\n",
    "* define: \"None\" data change to NaN value\n",
    "* code"
   ]
  },
  {
   "cell_type": "code",
   "execution_count": 43,
   "metadata": {
    "ExecuteTime": {
     "end_time": "2021-05-03T20:11:16.144682Z",
     "start_time": "2021-05-03T20:11:16.130679Z"
    }
   },
   "outputs": [],
   "source": [
    "df_tw_clean.loc[df_tw['name'] == \"None\", 'name'] = None\n",
    "df_tw_clean.loc[df_tw['doggo'] == \"None\", 'doggo'] = None\n",
    "df_tw_clean.loc[df_tw['floofer'] == \"None\", 'floofer'] = None\n",
    "df_tw_clean.loc[df_tw['pupper'] == \"None\", 'pupper'] = None\n",
    "df_tw_clean.loc[df_tw['puppo'] == \"None\", 'puppo'] = None"
   ]
  },
  {
   "cell_type": "markdown",
   "metadata": {},
   "source": [
    "* valid"
   ]
  },
  {
   "cell_type": "code",
   "execution_count": 44,
   "metadata": {
    "ExecuteTime": {
     "end_time": "2021-05-03T20:11:16.159679Z",
     "start_time": "2021-05-03T20:11:16.145680Z"
    }
   },
   "outputs": [
    {
     "name": "stdout",
     "output_type": "stream",
     "text": [
      "0 0 0 0 0\n",
      "745 2259 2346 2099 2326\n",
      "<class 'pandas.core.frame.DataFrame'>\n",
      "RangeIndex: 2356 entries, 0 to 2355\n",
      "Data columns (total 17 columns):\n",
      " #   Column                      Non-Null Count  Dtype  \n",
      "---  ------                      --------------  -----  \n",
      " 0   tweet_id                    2356 non-null   int64  \n",
      " 1   in_reply_to_status_id       78 non-null     float64\n",
      " 2   in_reply_to_user_id         78 non-null     float64\n",
      " 3   timestamp                   2356 non-null   object \n",
      " 4   source                      2356 non-null   object \n",
      " 5   text                        2356 non-null   object \n",
      " 6   retweeted_status_id         181 non-null    float64\n",
      " 7   retweeted_status_user_id    181 non-null    float64\n",
      " 8   retweeted_status_timestamp  181 non-null    object \n",
      " 9   expanded_urls               2297 non-null   object \n",
      " 10  rating_numerator            2356 non-null   int64  \n",
      " 11  rating_denominator          2356 non-null   int64  \n",
      " 12  name                        1611 non-null   object \n",
      " 13  doggo                       97 non-null     object \n",
      " 14  floofer                     10 non-null     object \n",
      " 15  pupper                      257 non-null    object \n",
      " 16  puppo                       30 non-null     object \n",
      "dtypes: float64(4), int64(3), object(10)\n",
      "memory usage: 313.0+ KB\n"
     ]
    }
   ],
   "source": [
    "print(\n",
    "    df_tw['name'].isna().sum(),\\\n",
    "    df_tw['doggo'].isna().sum(),\\\n",
    "    df_tw['floofer'].isna().sum(),\\\n",
    "    df_tw['pupper'].isna().sum(),\\\n",
    "    df_tw['puppo'].isna().sum()\n",
    "    )\n",
    "print(\n",
    "    df_tw_clean['name'].isna().sum(),\\\n",
    "    df_tw_clean['doggo'].isna().sum(),\\\n",
    "    df_tw_clean['floofer'].isna().sum(),\\\n",
    "    df_tw_clean['pupper'].isna().sum(),\\\n",
    "    df_tw_clean['puppo'].isna().sum()\n",
    "    )\n",
    "\n",
    "df_tw_clean.info()"
   ]
  },
  {
   "cell_type": "markdown",
   "metadata": {},
   "source": [
    "2. `df_tw`: The `source` column refers to the device or location from which the Tweet was written (e.g. the Tweet was written to iPhone, Web, Deck or Vine).\n",
    "* define: `source` column change to simple\n",
    "* code"
   ]
  },
  {
   "cell_type": "code",
   "execution_count": 45,
   "metadata": {
    "ExecuteTime": {
     "end_time": "2021-05-03T20:11:16.174680Z",
     "start_time": "2021-05-03T20:11:16.160682Z"
    },
    "scrolled": true
   },
   "outputs": [],
   "source": [
    "idx = df_tw_clean['source'].str.find(\"Twitter for iPhone\")\n",
    "df_tw_clean.loc[idx > 0, 'source'] = \"Twitter for iPhone\"\n",
    "\n",
    "idx = df_tw_clean['source'].str.find(\"Vine - Make a Scene\")\n",
    "df_tw_clean.loc[idx > 0, 'source'] = \"Vine - Make a Scene\"\n",
    "\n",
    "idx = df_tw_clean['source'].str.find(\"Twitter Web Client\")\n",
    "df_tw_clean.loc[idx > 0, 'source'] = \"Twitter Web Client\"\n",
    "\n",
    "idx = df_tw_clean['source'].str.find(\"TweetDeck\")\n",
    "df_tw_clean.loc[idx > 0, 'source'] = \"TweetDeck\""
   ]
  },
  {
   "cell_type": "code",
   "execution_count": 46,
   "metadata": {
    "ExecuteTime": {
     "end_time": "2021-05-03T20:11:16.189679Z",
     "start_time": "2021-05-03T20:11:16.176680Z"
    }
   },
   "outputs": [
    {
     "data": {
      "text/plain": [
       "<a href=\"http://twitter.com/download/iphone\" rel=\"nofollow\">Twitter for iPhone</a>     2221\n",
       "<a href=\"http://vine.co\" rel=\"nofollow\">Vine - Make a Scene</a>                          91\n",
       "<a href=\"http://twitter.com\" rel=\"nofollow\">Twitter Web Client</a>                       33\n",
       "<a href=\"https://about.twitter.com/products/tweetdeck\" rel=\"nofollow\">TweetDeck</a>      11\n",
       "Name: source, dtype: int64"
      ]
     },
     "execution_count": 46,
     "metadata": {},
     "output_type": "execute_result"
    }
   ],
   "source": [
    "df_tw['source'].value_counts()"
   ]
  },
  {
   "cell_type": "code",
   "execution_count": 47,
   "metadata": {
    "ExecuteTime": {
     "end_time": "2021-05-03T20:11:16.204679Z",
     "start_time": "2021-05-03T20:11:16.190679Z"
    },
    "scrolled": false
   },
   "outputs": [
    {
     "data": {
      "text/plain": [
       "Twitter for iPhone     2221\n",
       "Vine - Make a Scene      91\n",
       "Twitter Web Client       33\n",
       "TweetDeck                11\n",
       "Name: source, dtype: int64"
      ]
     },
     "execution_count": 47,
     "metadata": {},
     "output_type": "execute_result"
    }
   ],
   "source": [
    "df_tw_clean['source'].value_counts()"
   ]
  },
  {
   "cell_type": "markdown",
   "metadata": {},
   "source": [
    "3. `df_tw`: `rating_denominator` have zero value\n",
    "* define: `rating_denominator` value at least 1.\n",
    "* code:"
   ]
  },
  {
   "cell_type": "code",
   "execution_count": 48,
   "metadata": {
    "ExecuteTime": {
     "end_time": "2021-05-03T20:11:16.219679Z",
     "start_time": "2021-05-03T20:11:16.205681Z"
    }
   },
   "outputs": [],
   "source": [
    "df_tw_clean.loc[df_tw_clean['rating_denominator'] == 0, 'rating_denominator'] = 1"
   ]
  },
  {
   "cell_type": "markdown",
   "metadata": {},
   "source": [
    "* valid: "
   ]
  },
  {
   "cell_type": "code",
   "execution_count": 49,
   "metadata": {
    "ExecuteTime": {
     "end_time": "2021-05-03T20:11:16.234678Z",
     "start_time": "2021-05-03T20:11:16.220680Z"
    }
   },
   "outputs": [
    {
     "data": {
      "text/plain": [
       "10     2333\n",
       "11        3\n",
       "50        3\n",
       "20        2\n",
       "80        2\n",
       "15        1\n",
       "16        1\n",
       "40        1\n",
       "70        1\n",
       "90        1\n",
       "110       1\n",
       "120       1\n",
       "130       1\n",
       "150       1\n",
       "170       1\n",
       "1         1\n",
       "7         1\n",
       "2         1\n",
       "Name: rating_denominator, dtype: int64"
      ]
     },
     "execution_count": 49,
     "metadata": {},
     "output_type": "execute_result"
    }
   ],
   "source": [
    "df_tw_clean['rating_denominator'].value_counts()"
   ]
  },
  {
   "cell_type": "markdown",
   "metadata": {},
   "source": [
    "4. `df_tw`: `in_reply_to_status_id` is float, but `id` columns must be not float(it can be string or intager).\n",
    "* define: `in_reply_to_status_id` change to intager value\n",
    "* code:"
   ]
  },
  {
   "cell_type": "code",
   "execution_count": 50,
   "metadata": {
    "ExecuteTime": {
     "end_time": "2021-05-03T20:11:16.249679Z",
     "start_time": "2021-05-03T20:11:16.235680Z"
    }
   },
   "outputs": [],
   "source": [
    "df_tw_clean.loc[df_tw_clean['in_reply_to_status_id'].notnull(), 'in_reply_to_status_id'] = \\\n",
    "df_tw_clean.loc[df_tw_clean['in_reply_to_status_id'].notnull(), 'in_reply_to_status_id'].astype('int64').astype('str')"
   ]
  },
  {
   "cell_type": "markdown",
   "metadata": {},
   "source": [
    "* valid"
   ]
  },
  {
   "cell_type": "code",
   "execution_count": 51,
   "metadata": {
    "ExecuteTime": {
     "end_time": "2021-05-03T20:11:16.264679Z",
     "start_time": "2021-05-03T20:11:16.250681Z"
    }
   },
   "outputs": [
    {
     "data": {
      "text/plain": [
       "30     886266357075128320\n",
       "55     881607037314052096\n",
       "64     879553827334172672\n",
       "113    870726202742493184\n",
       "148    863425645568774144\n",
       "Name: in_reply_to_status_id, dtype: object"
      ]
     },
     "execution_count": 51,
     "metadata": {},
     "output_type": "execute_result"
    }
   ],
   "source": [
    "df_tw_clean.loc[df_tw_clean['in_reply_to_status_id'].notnull(), 'in_reply_to_status_id'].head()"
   ]
  },
  {
   "cell_type": "markdown",
   "metadata": {},
   "source": [
    "5. `in_reply_to_user_id` is float, but id columns must be not float(it can be string or intager).\n",
    "* define: `in_reply_to_user_id` change to intager value\n",
    "* code:"
   ]
  },
  {
   "cell_type": "code",
   "execution_count": 52,
   "metadata": {
    "ExecuteTime": {
     "end_time": "2021-05-03T20:11:16.279679Z",
     "start_time": "2021-05-03T20:11:16.265681Z"
    }
   },
   "outputs": [],
   "source": [
    "df_tw_clean.loc[df_tw_clean['in_reply_to_user_id'].notnull(), 'in_reply_to_user_id'] = \\\n",
    "df_tw_clean.loc[df_tw_clean['in_reply_to_user_id'].notnull(), 'in_reply_to_user_id'].astype('int64').astype('str')"
   ]
  },
  {
   "cell_type": "markdown",
   "metadata": {},
   "source": [
    "* valid"
   ]
  },
  {
   "cell_type": "code",
   "execution_count": 53,
   "metadata": {
    "ExecuteTime": {
     "end_time": "2021-05-03T20:11:16.294682Z",
     "start_time": "2021-05-03T20:11:16.280680Z"
    }
   },
   "outputs": [
    {
     "data": {
      "text/plain": [
       "30     2281181600\n",
       "55       47384430\n",
       "64     3105440746\n",
       "113      16487760\n",
       "148      77596200\n",
       "Name: in_reply_to_user_id, dtype: object"
      ]
     },
     "execution_count": 53,
     "metadata": {},
     "output_type": "execute_result"
    }
   ],
   "source": [
    "df_tw_clean.loc[df_tw_clean['in_reply_to_user_id'].notnull(), 'in_reply_to_user_id'].head()"
   ]
  },
  {
   "cell_type": "markdown",
   "metadata": {},
   "source": [
    "4. `df_tw`: `in_reply_to_status_id` is float, but `id` columns must be not float(it can be string or intager).\n",
    "* define: `in_reply_to_status_id` change to intager value\n",
    "* code:"
   ]
  },
  {
   "cell_type": "code",
   "execution_count": 54,
   "metadata": {
    "ExecuteTime": {
     "end_time": "2021-05-03T20:11:16.309679Z",
     "start_time": "2021-05-03T20:11:16.295682Z"
    }
   },
   "outputs": [],
   "source": [
    "df_tw_clean.loc[df_tw_clean['in_reply_to_status_id'].notnull(), 'in_reply_to_status_id'] = \\\n",
    "df_tw_clean.loc[df_tw_clean['in_reply_to_status_id'].notnull(), 'in_reply_to_status_id'].astype('int64').astype('str')"
   ]
  },
  {
   "cell_type": "markdown",
   "metadata": {},
   "source": [
    "* valid"
   ]
  },
  {
   "cell_type": "code",
   "execution_count": 55,
   "metadata": {
    "ExecuteTime": {
     "end_time": "2021-05-03T20:11:16.324679Z",
     "start_time": "2021-05-03T20:11:16.310681Z"
    }
   },
   "outputs": [
    {
     "data": {
      "text/plain": [
       "30     886266357075128320\n",
       "55     881607037314052096\n",
       "64     879553827334172672\n",
       "113    870726202742493184\n",
       "148    863425645568774144\n",
       "Name: in_reply_to_status_id, dtype: object"
      ]
     },
     "execution_count": 55,
     "metadata": {},
     "output_type": "execute_result"
    }
   ],
   "source": [
    "df_tw_clean.loc[df_tw_clean['in_reply_to_status_id'].notnull(), 'in_reply_to_status_id'].head()"
   ]
  },
  {
   "cell_type": "markdown",
   "metadata": {},
   "source": [
    "6. `df_img`: `p1`, `p2`, `p3`, kind of dogs name, have some duplicated name(lower case and first capitalized case)\n",
    "* define: dog names change to lower case\n",
    "* code:"
   ]
  },
  {
   "cell_type": "code",
   "execution_count": 56,
   "metadata": {
    "ExecuteTime": {
     "end_time": "2021-05-03T20:11:16.339679Z",
     "start_time": "2021-05-03T20:11:16.325679Z"
    }
   },
   "outputs": [],
   "source": [
    "df_img_clean['p1'] = df_img_clean['p1'].str.lower()\n",
    "df_img_clean['p2'] = df_img_clean['p2'].str.lower()\n",
    "df_img_clean['p3'] = df_img_clean['p3'].str.lower()"
   ]
  },
  {
   "cell_type": "markdown",
   "metadata": {},
   "source": [
    "* valid: "
   ]
  },
  {
   "cell_type": "code",
   "execution_count": 57,
   "metadata": {
    "ExecuteTime": {
     "end_time": "2021-05-03T20:11:16.354678Z",
     "start_time": "2021-05-03T20:11:16.340683Z"
    }
   },
   "outputs": [
    {
     "data": {
      "text/plain": [
       "(array(['welsh_springer_spaniel', 'redbone', 'german_shepherd',\n",
       "        'rhodesian_ridgeback', 'miniature_pinscher',\n",
       "        'bernese_mountain_dog', 'box_turtle', 'chow', 'shopping_cart',\n",
       "        'miniature_poodle', 'golden_retriever', 'gordon_setter',\n",
       "        'walker_hound', 'pug', 'bloodhound', 'lhasa', 'english_setter',\n",
       "        'hen', 'desktop_computer', 'italian_greyhound', 'maltese_dog',\n",
       "        'three-toed_sloth', 'ox', 'malamute', 'guinea_pig',\n",
       "        'soft-coated_wheaten_terrier', 'chihuahua',\n",
       "        'black-and-tan_coonhound', 'coho', 'toy_terrier',\n",
       "        'blenheim_spaniel', 'pembroke', 'llama',\n",
       "        'chesapeake_bay_retriever', 'curly-coated_retriever', 'dalmatian',\n",
       "        'ibizan_hound', 'border_collie', 'labrador_retriever', 'seat_belt',\n",
       "        'snail', 'miniature_schnauzer', 'airedale', 'triceratops', 'swab',\n",
       "        'hay', 'hyena', 'jigsaw_puzzle', 'west_highland_white_terrier',\n",
       "        'toy_poodle', 'giant_schnauzer', 'vizsla', 'vacuum', 'rottweiler',\n",
       "        'siberian_husky', 'teddy', 'papillon', 'saint_bernard',\n",
       "        'porcupine', 'goose', 'tibetan_terrier', 'borzoi', 'beagle',\n",
       "        'hare', 'yorkshire_terrier', 'pomeranian', 'electric_fan',\n",
       "        'web_site', 'ibex', 'kuvasz', 'fire_engine', 'lorikeet',\n",
       "        'flat-coated_retriever', 'toyshop', 'common_iguana',\n",
       "        'norwegian_elkhound', 'frilled_lizard', 'leatherback_turtle',\n",
       "        'hamster', 'angora', 'arctic_fox', 'trombone', 'canoe',\n",
       "        'king_penguin', 'shopping_basket', 'standard_poodle',\n",
       "        'staffordshire_bullterrier', 'basenji', 'lakeland_terrier',\n",
       "        'american_staffordshire_terrier', 'bearskin', 'shih-tzu',\n",
       "        'bustard', 'crash_helmet', 'french_bulldog', 'pekinese',\n",
       "        'komondor', 'ski_mask', 'malinois', 'kelpie', 'brittany_spaniel',\n",
       "        'cocker_spaniel', 'shower_curtain', 'basset', 'jellyfish',\n",
       "        'doormat', 'arabian_camel', 'lynx', 'hog', 'comic_book', 'minivan',\n",
       "        'seashore', 'cuirass', 'brabancon_griffon', 'candle', 'eskimo_dog',\n",
       "        'weasel', 'christmas_stocking', 'washbasin', 'car_mirror',\n",
       "        'piggy_bank', 'pot', 'boathouse', 'mud_turtle',\n",
       "        'german_short-haired_pointer', 'shetland_sheepdog',\n",
       "        'irish_terrier', 'cairn', 'platypus', 'english_springer',\n",
       "        'whippet', 'ping-pong_ball', 'sea_urchin', 'bow_tie',\n",
       "        'window_shade', \"jack-o'-lantern\", 'sorrel', 'sussex_spaniel',\n",
       "        'peacock', 'axolotl', 'wool', 'banana', 'dandie_dinmont',\n",
       "        'norwich_terrier', 'wood_rabbit', 'dhole', 'keeshond',\n",
       "        'norfolk_terrier', 'lacewing', 'dingo', 'brown_bear',\n",
       "        'old_english_sheepdog', 'scorpion', 'flamingo', 'microphone',\n",
       "        'samoyed', 'pitcher', 'african_hunting_dog', 'refrigerator',\n",
       "        'picket_fence', 'tub', 'zebra', 'hermit_crab', 'swing', 'doberman',\n",
       "        'park_bench', 'feather_boa', 'loafer', 'stone_wall', 'ice_bear',\n",
       "        'prayer_rug', 'chimpanzee', 'china_cabinet', 'bee_eater',\n",
       "        'tennis_ball', 'carton', 'killer_whale', 'ostrich', 'terrapin',\n",
       "        'siamese_cat', 'gondola', 'great_pyrenees', 'microwave',\n",
       "        'starfish', 'sandbar', 'tusker', 'motor_scooter', 'ram',\n",
       "        'leaf_beetle', 'wombat', 'schipperke', 'newfoundland',\n",
       "        'bull_mastiff', 'water_bottle', 'suit', 'toilet_seat', 'collie',\n",
       "        'robin', 'cardigan', 'greater_swiss_mountain_dog', 'slug',\n",
       "        'toilet_tissue', 'acorn_squash', 'soccer_ball',\n",
       "        'african_crocodile', 'tick', 'ocarina', 'boxer', 'street_sign',\n",
       "        'bow', 'stove', 'paper_towel', 'upright', 'dough',\n",
       "        'scottish_deerhound', 'bath_towel', 'standard_schnauzer',\n",
       "        'walking_stick', 'irish_water_spaniel', 'bubble', 'boston_bull',\n",
       "        'book_jacket', 'rain_barrel', 'black-footed_ferret', 'guenon',\n",
       "        'japanese_spaniel', 'water_buffalo', 'patio', 'cowboy_hat',\n",
       "        'dogsled', 'maze', 'harp', 'panpipe', 'cash_machine', 'mailbox',\n",
       "        'wallaby', 'entlebucher', 'earthstar', 'pillow', 'bluetick',\n",
       "        'space_heater', 'carousel', 'irish_setter', 'birdhouse', 'snorkel',\n",
       "        'bald_eagle', 'koala', 'leonberg', 'cheetah', 'minibus',\n",
       "        'weimaraner', 'clog', 'dishwasher', 'white_wolf', 'sliding_door',\n",
       "        'damselfly', 'great_dane', 'tibetan_mastiff', 'cheeseburger',\n",
       "        'fiddler_crab', 'bannister', 'crane', 'scotch_terrier',\n",
       "        'snowmobile', 'badger', 'bighorn', 'geyser', 'barrow', 'bison',\n",
       "        'mexican_hairless', 'ice_lolly', 'sea_lion', 'dining_table',\n",
       "        'groenendael', 'australian_terrier', 'beaver', 'briard',\n",
       "        'appenzeller', 'grey_fox', 'mousetrap', 'hippopotamus',\n",
       "        'border_terrier', 'hummingbird', 'tailed_frog', 'otter',\n",
       "        'egyptian_cat', 'four-poster', 'wild_boar', 'bathtub', 'agama',\n",
       "        'muzzle', 'hotdog', 'bib', 'espresso', 'timber_wolf', 'meerkat',\n",
       "        'nail', 'hammer', 'home_theater', 'alp', 'bonnet', 'handkerchief',\n",
       "        'hand_blower', 'polecat', 'lakeside', 'studio_couch', 'cup',\n",
       "        'cliff', 'bedlington_terrier', 'lawn_mower', 'balloon',\n",
       "        'sunglasses', 'rapeseed', 'traffic_light', 'coil', 'binoculars',\n",
       "        'paddle', 'tiger_shark', 'sulphur-crested_cockatoo',\n",
       "        'wire-haired_fox_terrier', 'saluki', 'american_black_bear',\n",
       "        'rotisserie', 'conch', 'skunk', 'bookshop', 'radio_telescope',\n",
       "        'cougar', 'african_grey', 'coral_reef', 'lion', 'maillot',\n",
       "        'madagascar_cat', 'tabby', 'silky_terrier', 'giant_panda',\n",
       "        'long-horned_beetle', 'afghan_hound', 'clumber', 'sundial',\n",
       "        'padlock', 'pool_table', 'quilt', 'beach_wagon', 'remote_control',\n",
       "        'bakery', 'pedestal', 'gas_pump', 'bookcase', 'shield', 'loupe',\n",
       "        'restaurant', 'prison', 'school_bus', 'cowboy_boot', 'jersey',\n",
       "        'wooden_spoon', 'leopard', 'mortarboard', 'teapot',\n",
       "        'military_uniform', 'washer', 'coffee_mug', 'fountain',\n",
       "        'pencil_box', 'barbell', 'grille', 'revolver', 'envelope',\n",
       "        'syringe', 'marmot', 'pole', 'laptop', 'basketball', 'tricycle',\n",
       "        'convertible', 'limousine', 'orange'], dtype=object),\n",
       " array(['collie', 'miniature_pinscher', 'malinois', 'redbone',\n",
       "        'rottweiler', 'english_springer', 'mud_turtle', 'tibetan_mastiff',\n",
       "        'shopping_basket', 'komondor', 'yorkshire_terrier',\n",
       "        'english_foxhound', 'bull_mastiff', 'german_shepherd', 'shih-tzu',\n",
       "        'newfoundland', 'cock', 'desk', 'toy_terrier', 'toy_poodle',\n",
       "        'otter', 'chesapeake_bay_retriever', 'siberian_husky', 'skunk',\n",
       "        'afghan_hound', 'bloodhound', 'barracouta', 'papillon',\n",
       "        'cocker_spaniel', 'chow', 'irish_terrier', 'chain_saw', 'beagle',\n",
       "        'giant_schnauzer', 'labrador_retriever', 'pembroke', 'chihuahua',\n",
       "        'weimaraner', 'slug', 'brittany_spaniel', 'standard_schnauzer',\n",
       "        'teddy', 'armadillo', 'african_hunting_dog', 'vizsla', 'doormat',\n",
       "        'pug', 'italian_greyhound', 'samoyed', 'pomeranian',\n",
       "        'miniature_poodle', 'lakeland_terrier', 'irish_setter', 'swab',\n",
       "        'malamute', 'bath_towel', 'border_collie', 'leonberg', 'drake',\n",
       "        'french_bulldog', 'ice_bear', 'christmas_stocking',\n",
       "        'golden_retriever', 'standard_poodle', 'dhole', 'kuvasz',\n",
       "        'cardigan', 'silky_terrier', 'spotlight', 'dishwasher', 'bighorn',\n",
       "        'tow_truck', 'hummingbird', 'english_setter', 'prayer_rug',\n",
       "        'frilled_lizard', 'pekinese', 'ox', 'boxer', 'hog', 'guinea_pig',\n",
       "        'hen', 'wallaby', 'cowboy_boot', 'cornet', 'minivan', 'paddle',\n",
       "        'basset', 'hamper', 'bedlington_terrier', 'shetland_sheepdog',\n",
       "        'bow', 'lhasa', 'pelican', 'toaster', 'groenendael',\n",
       "        'australian_terrier', 'llama', 'knee_pad', 'pillow',\n",
       "        'ibizan_hound', 'old_english_sheepdog', 'welsh_springer_spaniel',\n",
       "        'coral_reef', 'bison', 'waffle_iron', 'tabby', 'bib', 'police_van',\n",
       "        'eskimo_dog', 'breastplate', 'german_short-haired_pointer',\n",
       "        'norfolk_terrier', 'blenheim_spaniel', 'pickup',\n",
       "        'miniature_schnauzer', 'lampshade', 'tibetan_terrier',\n",
       "        'siamese_cat', 'borzoi', 'studio_couch', 'toilet_seat', 'hamster',\n",
       "        'seat_belt', 'keeshond', 'koala', 'hair_spray', 'saint_bernard',\n",
       "        'tray', 'american_staffordshire_terrier', 'birdhouse', 'terrapin',\n",
       "        'staffordshire_bullterrier', 'briard',\n",
       "        'west_highland_white_terrier', 'spotted_salamander', 'tennis_ball',\n",
       "        'porcupine', 'corn', 'basenji', 'otterhound', 'european_gallinule',\n",
       "        'indri', 'tailed_frog', 'beach_wagon', 'siamang', 'orange',\n",
       "        'home_theater', 'cairn', 'hare', 'norwegian_elkhound',\n",
       "        'brabancon_griffon', 'american_black_bear', 'sulphur_butterfly',\n",
       "        'sealyham_terrier', 'walker_hound', 'tarantula', 'persian_cat',\n",
       "        'coral_fungus', 'accordion', 'kelpie', 'great_pyrenees',\n",
       "        'wood_rabbit', 'black-and-tan_coonhound', 'sunglasses', 'plow',\n",
       "        'whippet', 'rain_barrel', 'bathtub', 'tiger', 'snail', 'tick',\n",
       "        'wire-haired_fox_terrier', 'water_bottle', 'wig', 'platypus',\n",
       "        'irish_wolfhound', 'ram', 'gorilla', 'entertainment_center',\n",
       "        'toucan', 'mask', 'shopping_cart', 'sussex_spaniel', 'crate',\n",
       "        'grey_whale', 'badger', 'airedale', 'arabian_camel', 'cockroach',\n",
       "        'lifeboat', 'rotisserie', 'goldfish', 'stingray', 'warthog',\n",
       "        'bobsled', 'rhinoceros_beetle', 'beaver', 'brown_bear',\n",
       "        'maltese_dog', 'weasel', 'quill', 'rhodesian_ridgeback',\n",
       "        'arctic_fox', 'ashcan', 'bow_tie', 'soft-coated_wheaten_terrier',\n",
       "        'schipperke', 'bearskin', 'kerry_blue_terrier', 'ice_lolly',\n",
       "        'american_alligator', 'mosquito_net', 'sea_lion', 'boston_bull',\n",
       "        'nail', 'black-footed_ferret', 'promontory', 'sarong', 'doberman',\n",
       "        'space_heater', 'great_dane', 'mailbox', 'saluki', 'bakery',\n",
       "        'sandal', 'leafhopper', 'barrel', 'water_buffalo', 'polecat',\n",
       "        'macaque', 'japanese_spaniel', 'folding_chair', 'trench_coat',\n",
       "        'angora', 'junco', 'crib', 'dalmatian', 'snowmobile',\n",
       "        'flat-coated_retriever', 'streetcar', 'window_screen', 'bannister',\n",
       "        'hair_slide', 'meerkat', 'cannon', 'jaguar', 'border_terrier',\n",
       "        'greater_swiss_mountain_dog', 'hay', 'apron', 'cloak', 'radiator',\n",
       "        'muzzle', 'feather_boa', 'rifle', 'chimpanzee', 'loggerhead',\n",
       "        'torch', 'mexican_hairless', 'spindle', 'triceratops',\n",
       "        'appenzeller', 'stove', 'dingo', 'oscilloscope', 'common_newt',\n",
       "        'hotdog', 'medicine_chest', 'quail', 'horse_cart', 'four-poster',\n",
       "        'pier', 'red_fox', 'affenpinscher', 'assault_rifle',\n",
       "        'mashed_potato', 'moped', 'hyena', 'seashore', 'tub', 'sports_car',\n",
       "        'swing', 'mink', 'bluetick', 'neck_brace', 'grey_fox', 'mongoose',\n",
       "        'fur_coat', 'scotch_terrier', 'spatula', 'paper_towel', 'shoji',\n",
       "        'toyshop', 'banded_gecko', 'peacock', 'crossword_puzzle',\n",
       "        'tree_frog', 'wombat', 'turnstile', 'sleeping_bag', 'quilt',\n",
       "        'gila_monster', 'giant_panda', 'dandie_dinmont', 'handkerchief',\n",
       "        'sombrero', 'indian_elephant', 'coffee_mug', 'gibbon', 'carton',\n",
       "        'screw', 'minibus', 'hatchet', 'window_shade', 'lawn_mower',\n",
       "        'washbasin', 'sock', 'prison', 'patio', 'china_cabinet',\n",
       "        'chain_mail', 'breakwater', 'computer_keyboard', 'goose',\n",
       "        'lakeside', 'solar_dish', 'table_lamp', 'windsor_tie',\n",
       "        'punching_bag', 'comic_book', 'sunglass', 'great_white_shark',\n",
       "        'timber_wolf', 'fountain', 'dugong', 'marmot', 'barbershop',\n",
       "        'shovel', 'curly-coated_retriever', 'lesser_panda', 'monitor',\n",
       "        'crutch', 'cash_machine', 'printer', 'volcano', 'wallet', 'laptop',\n",
       "        'bathing_cap', 'confectionery', 'dam', 'killer_whale', 'canoe',\n",
       "        'madagascar_cat', 'jean', 'boathouse', 'cliff', 'maillot', 'ipod',\n",
       "        'hand-held_computer', 'black_widow', 'norwich_terrier', 'necklace',\n",
       "        'dining_table', 'binoculars', 'cradle', 'sea_urchin', 'cougar',\n",
       "        'entlebucher', 'basketball', 'lighter', 'saltshaker', 'harvester',\n",
       "        'television', 'envelope', 'house_finch', 'web_site', 'palace',\n",
       "        'shower_curtain', 'cab', 'snorkel', 'jigsaw_puzzle', 'sweatshirt',\n",
       "        'white_wolf', 'sliding_door', 'academic_gown', 'cowboy_hat',\n",
       "        'can_opener', 'cup', 'rule', 'soccer_ball', 'bucket', 'racket',\n",
       "        'menu', 'purse', 'bernese_mountain_dog', 'dumbbell', 'projectile',\n",
       "        'dock', 'oxygen_mask', 'sandbar', 'umbrella', 'shower_cap',\n",
       "        'bagel'], dtype=object),\n",
       " array(['shetland_sheepdog', 'rhodesian_ridgeback', 'bloodhound',\n",
       "        'miniature_pinscher', 'doberman', 'greater_swiss_mountain_dog',\n",
       "        'terrapin', 'fur_coat', 'golden_retriever',\n",
       "        'soft-coated_wheaten_terrier', 'labrador_retriever', 'pekinese',\n",
       "        'ibizan_hound', 'french_bulldog', 'malinois', 'dandie_dinmont',\n",
       "        'borzoi', 'partridge', 'bookcase', 'basenji', 'miniature_poodle',\n",
       "        'great_grey_owl', 'groenendael', 'eskimo_dog', 'hamster', 'briard',\n",
       "        'papillon', 'flat-coated_retriever', 'gar', 'chihuahua',\n",
       "        'shih-tzu', 'pomeranian', 'dingo', 'power_drill', 'saluki',\n",
       "        'great_pyrenees', 'west_highland_white_terrier', 'collie',\n",
       "        'toy_poodle', 'vizsla', 'acorn', 'giant_schnauzer', 'teddy',\n",
       "        'common_iguana', 'wig', 'water_buffalo', 'coyote', 'seat_belt',\n",
       "        'kelpie', 'space_heater', 'brabancon_griffon', 'standard_poodle',\n",
       "        'beagle', 'irish_water_spaniel', 'bluetick', 'weimaraner',\n",
       "        'chesapeake_bay_retriever', 'toilet_tissue',\n",
       "        'black-and-tan_coonhound', 'kuvasz', 'christmas_stocking',\n",
       "        'badger', 'hen', 'staffordshire_bullterrier', 'yorkshire_terrier',\n",
       "        'lakeland_terrier', 'weasel', 'ski_mask', 'cocker_spaniel',\n",
       "        'australian_terrier', 'lampshade', 'oscilloscope', 'ram', 'jeep',\n",
       "        'ice_bear', 'african_grey', 'great_dane', 'curly-coated_retriever',\n",
       "        'doormat', 'african_chameleon', 'schipperke', 'muzzle',\n",
       "        'triceratops', 'newfoundland', 'band_aid', 'wood_rabbit',\n",
       "        'white_wolf', 'giant_panda', 'welsh_springer_spaniel',\n",
       "        'french_horn', 'toy_terrier', 'pembroke', 'cardigan', 'bassinet',\n",
       "        'pug', 'afghan_hound', 'american_staffordshire_terrier', 'whippet',\n",
       "        'english_setter', 'panpipe', 'crane', 'mouse', 'titi', 'angora',\n",
       "        'boston_bull', 'silky_terrier', 'japanese_spaniel', 'sandbar',\n",
       "        'balance_beam', 'black-footed_ferret', 'miniature_schnauzer',\n",
       "        'blenheim_spaniel', 'bathtub', 'saint_bernard', 'redbone',\n",
       "        'goldfish', 'norfolk_terrier', 'llama', 'koala', 'pillow',\n",
       "        'jersey', 'chow', 'minibus', 'malamute', 'bulletproof_vest',\n",
       "        'beach_wagon', 'cairn', 'plunger', 'paper_towel', 'wing',\n",
       "        'english_foxhound', 'brittany_spaniel', 'bolete', 'ashcan',\n",
       "        'box_turtle', 'guinea_pig', 'bison', 'bull_mastiff', 'racket',\n",
       "        'cardoon', 'tibetan_mastiff', 'window_screen', 'irish_terrier',\n",
       "        'agama', 'common_newt', 'car_wheel', 'gorilla', 'bagel', 'clumber',\n",
       "        'egyptian_cat', 'television', 'boxer', 'brown_bear', 'leafhopper',\n",
       "        'german_shepherd', 'border_collie', 'menu', 'wolf_spider',\n",
       "        'bathing_cap', 'stinkhorn', 'drumstick', 'mask',\n",
       "        'scottish_deerhound', 'shower_curtain', 'appenzeller',\n",
       "        'plastic_bag', 'swimming_trunks', 'prairie_chicken', 'red_wolf',\n",
       "        'maltese_dog', 'snail', 'gibbon', 'gordon_setter', 'black_swan',\n",
       "        'beacon', 'wool', 'cowboy_boot', 'rottweiler', 'poncho', 'swing',\n",
       "        'arctic_fox', 'bib', 'italian_greyhound', 'steam_locomotive',\n",
       "        'fountain', 'chickadee', 'abaya', 'border_terrier', 'bubble',\n",
       "        'chimpanzee', 'hammerhead', 'norwegian_elkhound',\n",
       "        'norwich_terrier', 'airedale', 'siamese_cat', 'sea_cucumber',\n",
       "        'seashore', 'nipple', 'moped', 'arabian_camel', 'crayfish',\n",
       "        'wallaby', 'wire-haired_fox_terrier', 'toilet_seat',\n",
       "        'old_english_sheepdog', 'pajama', 'walker_hound', 'shovel',\n",
       "        'bucket', 'sealyham_terrier', 'windsor_tie', 'siberian_husky',\n",
       "        'quill', 'persian_cat', 'european_fire_salamander',\n",
       "        'three-toed_sloth', 'swab', 'echidna', 'tennis_ball', 'lhasa',\n",
       "        'coral_reef', 'keeshond', 'mink', 'screw', 'basset', 'wreck',\n",
       "        'kimono', 'german_short-haired_pointer', 'joystick', 'microwave',\n",
       "        'tibetan_terrier', 'irish_wolfhound', 'samoyed', 'loggerhead',\n",
       "        'french_loaf', 'irish_setter', 'komondor', 'purse', 'greenhouse',\n",
       "        'broccoli', 'shopping_basket', 'macaque', 'squirrel_monkey',\n",
       "        'green_lizard', 'parallel_bars', 'cloak', 'chest', 'sundial',\n",
       "        'mosquito_net', 'bath_towel', 'cuirass', 'zebra', 'lumbermill',\n",
       "        'wallet', 'feather_boa', 'english_springer', 'electric_fan',\n",
       "        'hippopotamus', 'ox', 'quilt', 'assault_rifle', 'axolotl', 'pot',\n",
       "        'toyshop', 'pizza', 'scuba_diver', 'beaver', 'mexican_hairless',\n",
       "        'cliff', 'loupe', 'wild_boar', 'jaguar', 'hog', 'polecat', 'lion',\n",
       "        'entlebucher', 'hand-held_computer', 'washbasin', 'whiptail',\n",
       "        'rock_crab', 'hare', 'shoji', 'sombrero', 'bell_cote', 'rifle',\n",
       "        'goose', 'pickup', 'sunglasses', 'limousine', 'bow_tie', 'pretzel',\n",
       "        'marmot', 'ice_lolly', 'vacuum', 'dalmatian', 'prison',\n",
       "        'shower_cap', 'sliding_door', 'dugong', 'otterhound', 'eel',\n",
       "        'binder', 'bullfrog', 'soap_dispenser', 'sea_lion', 'carton',\n",
       "        'brass', 'mitten', 'golfcart', 'cougar', 'warthog', 'umbrella',\n",
       "        'neck_brace', 'cup', 'book_jacket', 'padlock', 'cab', 'chime',\n",
       "        'leonberg', 'viaduct', 'american_black_bear', 'tub', 'hand_blower',\n",
       "        'king_penguin', 'rotisserie', 'bannister', 'passenger_car',\n",
       "        'mongoose', 'dhole', 'consomme', 'valley', 'park_bench',\n",
       "        'mushroom', 'barrow', 'parachute', 'desktop_computer', 'snorkel',\n",
       "        'wok', 'affenpinscher', 'space_shuttle', 'rain_barrel',\n",
       "        'ballplayer', 'mountain_tent', 'oxcart', 'buckeye', 'sunglass',\n",
       "        'croquet_ball', 'refrigerator', 'snow_leopard', 'tripod',\n",
       "        'rapeseed', 'tiger_cat', 'bernese_mountain_dog', 'notebook',\n",
       "        'maraca', 'pool_table', 'lakeside', 'theater_curtain', 'pier',\n",
       "        'cheetah', 'mousetrap', 'pop_bottle', 'soccer_ball', 'wombat',\n",
       "        'rhinoceros_beetle', 'paddlewheel', 'paintbrush', 'maze',\n",
       "        'hatchet', 'chain', 'jigsaw_puzzle', 'switch',\n",
       "        'kerry_blue_terrier', 'barbell', 'convertible',\n",
       "        'entertainment_center', 'file', 'guillotine', 'nail',\n",
       "        'standard_schnauzer', 'bow', 'grocery_store', 'boathouse', 'conch',\n",
       "        'bouvier_des_flandres', 'grey_fox', 'shopping_cart', 'meerkat',\n",
       "        'grand_piano', 'envelope', 'screen', 'coffeepot', 'printer',\n",
       "        'otter', 'restaurant', 'bonnet', 'crossword_puzzle', 'go-kart',\n",
       "        'sussex_spaniel', 'orangutan', 'canoe', 'barber_chair',\n",
       "        'traffic_light', 'ibex', 'can_opener', 'indian_elephant',\n",
       "        'spatula', 'banana'], dtype=object))"
      ]
     },
     "execution_count": 57,
     "metadata": {},
     "output_type": "execute_result"
    }
   ],
   "source": [
    "df_img_clean['p1'].unique(), df_img_clean['p2'].unique(), df_img_clean['p3'].unique()"
   ]
  },
  {
   "cell_type": "markdown",
   "metadata": {},
   "source": [
    "7. `created_at`, and `timestamp` column type is object(string). This column type will be changed to `datetime`."
   ]
  },
  {
   "cell_type": "markdown",
   "metadata": {},
   "source": [
    "* define: `created_at`, and `timestamp` columns change to `datetime` in `pandas`\n",
    "* code: "
   ]
  },
  {
   "cell_type": "code",
   "execution_count": 58,
   "metadata": {
    "ExecuteTime": {
     "end_time": "2021-05-03T20:11:16.369681Z",
     "start_time": "2021-05-03T20:11:16.355680Z"
    }
   },
   "outputs": [],
   "source": [
    "df_tw_clean['timestamp'] = pd.to_datetime(df_tw_clean['timestamp'])\n",
    "df_tw_clean['retweeted_status_timestamp'] = pd.to_datetime(df_tw_clean['retweeted_status_timestamp'])"
   ]
  },
  {
   "cell_type": "markdown",
   "metadata": {},
   "source": [
    "* valid"
   ]
  },
  {
   "cell_type": "code",
   "execution_count": 59,
   "metadata": {
    "ExecuteTime": {
     "end_time": "2021-05-03T20:11:16.384680Z",
     "start_time": "2021-05-03T20:11:16.370679Z"
    }
   },
   "outputs": [
    {
     "data": {
      "text/plain": [
       "(datetime64[ns, UTC], datetime64[ns, UTC])"
      ]
     },
     "execution_count": 59,
     "metadata": {},
     "output_type": "execute_result"
    }
   ],
   "source": [
    "df_tw_clean['timestamp'].dtype, df_tw_clean['retweeted_status_timestamp'].dtype"
   ]
  },
  {
   "cell_type": "code",
   "execution_count": null,
   "metadata": {},
   "outputs": [],
   "source": []
  },
  {
   "cell_type": "code",
   "execution_count": null,
   "metadata": {},
   "outputs": [],
   "source": []
  },
  {
   "cell_type": "markdown",
   "metadata": {},
   "source": [
    "9. `doggo`, `floofer`, `pupper`, and `puppo` columns in `df_tw` data frame chage to one-hot-encoded variable\n",
    "* define: Value in `doggo`, `floofer`, `pupper`, and `puppo` columns change from string to true or false\n",
    "* code:"
   ]
  },
  {
   "cell_type": "code",
   "execution_count": 60,
   "metadata": {
    "ExecuteTime": {
     "end_time": "2021-05-03T20:11:16.399680Z",
     "start_time": "2021-05-03T20:11:16.385680Z"
    }
   },
   "outputs": [],
   "source": [
    "df_tw_clean['doggo'] = df_tw['doggo'] == 'doggo'\n",
    "df_tw_clean['floofer'] = df_tw['floofer'] == 'floofer'\n",
    "df_tw_clean['pupper'] = df_tw['pupper'] == 'pupper'\n",
    "df_tw_clean['puppo'] = df_tw['puppo'] == 'puppo'"
   ]
  },
  {
   "cell_type": "markdown",
   "metadata": {},
   "source": [
    "* valid:"
   ]
  },
  {
   "cell_type": "code",
   "execution_count": 61,
   "metadata": {
    "ExecuteTime": {
     "end_time": "2021-05-03T20:11:16.414678Z",
     "start_time": "2021-05-03T20:11:16.400682Z"
    },
    "scrolled": true
   },
   "outputs": [
    {
     "name": "stdout",
     "output_type": "stream",
     "text": [
      "False    2259\n",
      "True       97\n",
      "Name: doggo, dtype: int64 False    2346\n",
      "True       10\n",
      "Name: floofer, dtype: int64 False    2099\n",
      "True      257\n",
      "Name: pupper, dtype: int64 False    2326\n",
      "True       30\n",
      "Name: puppo, dtype: int64\n",
      "None     2259\n",
      "doggo      97\n",
      "Name: doggo, dtype: int64 None       2346\n",
      "floofer      10\n",
      "Name: floofer, dtype: int64 None      2099\n",
      "pupper     257\n",
      "Name: pupper, dtype: int64 None     2326\n",
      "puppo      30\n",
      "Name: puppo, dtype: int64\n"
     ]
    }
   ],
   "source": [
    "print(df_tw_clean['doggo'].value_counts(),\\\n",
    "     df_tw_clean['floofer'].value_counts(),\\\n",
    "     df_tw_clean['pupper'].value_counts(),\\\n",
    "     df_tw_clean['puppo'].value_counts())\n",
    "\n",
    "print(df_tw['doggo'].value_counts(),\\\n",
    "     df_tw['floofer'].value_counts(),\\\n",
    "     df_tw['pupper'].value_counts(),\\\n",
    "     df_tw['puppo'].value_counts())"
   ]
  },
  {
   "cell_type": "markdown",
   "metadata": {},
   "source": [
    "9 `datetime` columns change to `year`, `month`, `day` and so on.\n",
    "* define: `datetime` columns change to seperated values\n",
    "* code:"
   ]
  },
  {
   "cell_type": "code",
   "execution_count": 62,
   "metadata": {
    "ExecuteTime": {
     "end_time": "2021-05-03T20:11:16.429680Z",
     "start_time": "2021-05-03T20:11:16.415681Z"
    }
   },
   "outputs": [],
   "source": [
    "df_tw_clean['year'] = df_tw_clean['timestamp'].dt.year\n",
    "df_tw_clean['month'] = df_tw_clean['timestamp'].dt.month\n",
    "df_tw_clean['day'] = df_tw_clean['timestamp'].dt.day\n",
    "df_tw_clean['hour'] = df_tw_clean['timestamp'].dt.hour\n",
    "df_tw_clean['minute'] = df_tw_clean['timestamp'].dt.minute\n",
    "df_tw_clean['second'] = df_tw_clean['timestamp'].dt.second"
   ]
  },
  {
   "cell_type": "code",
   "execution_count": 63,
   "metadata": {
    "ExecuteTime": {
     "end_time": "2021-05-03T20:11:16.459681Z",
     "start_time": "2021-05-03T20:11:16.430682Z"
    }
   },
   "outputs": [
    {
     "data": {
      "text/html": [
       "<div>\n",
       "<style scoped>\n",
       "    .dataframe tbody tr th:only-of-type {\n",
       "        vertical-align: middle;\n",
       "    }\n",
       "\n",
       "    .dataframe tbody tr th {\n",
       "        vertical-align: top;\n",
       "    }\n",
       "\n",
       "    .dataframe thead th {\n",
       "        text-align: right;\n",
       "    }\n",
       "</style>\n",
       "<table border=\"1\" class=\"dataframe\">\n",
       "  <thead>\n",
       "    <tr style=\"text-align: right;\">\n",
       "      <th></th>\n",
       "      <th>timestamp</th>\n",
       "      <th>year</th>\n",
       "      <th>month</th>\n",
       "      <th>day</th>\n",
       "      <th>hour</th>\n",
       "      <th>minute</th>\n",
       "      <th>second</th>\n",
       "    </tr>\n",
       "  </thead>\n",
       "  <tbody>\n",
       "    <tr>\n",
       "      <th>345</th>\n",
       "      <td>2017-02-15 18:54:34+00:00</td>\n",
       "      <td>2017</td>\n",
       "      <td>2</td>\n",
       "      <td>15</td>\n",
       "      <td>18</td>\n",
       "      <td>54</td>\n",
       "      <td>34</td>\n",
       "    </tr>\n",
       "    <tr>\n",
       "      <th>2188</th>\n",
       "      <td>2015-11-24 02:13:25+00:00</td>\n",
       "      <td>2015</td>\n",
       "      <td>11</td>\n",
       "      <td>24</td>\n",
       "      <td>2</td>\n",
       "      <td>13</td>\n",
       "      <td>25</td>\n",
       "    </tr>\n",
       "    <tr>\n",
       "      <th>77</th>\n",
       "      <td>2017-06-22 03:54:17+00:00</td>\n",
       "      <td>2017</td>\n",
       "      <td>6</td>\n",
       "      <td>22</td>\n",
       "      <td>3</td>\n",
       "      <td>54</td>\n",
       "      <td>17</td>\n",
       "    </tr>\n",
       "    <tr>\n",
       "      <th>1255</th>\n",
       "      <td>2016-03-17 23:33:12+00:00</td>\n",
       "      <td>2016</td>\n",
       "      <td>3</td>\n",
       "      <td>17</td>\n",
       "      <td>23</td>\n",
       "      <td>33</td>\n",
       "      <td>12</td>\n",
       "    </tr>\n",
       "    <tr>\n",
       "      <th>1574</th>\n",
       "      <td>2016-01-14 03:45:57+00:00</td>\n",
       "      <td>2016</td>\n",
       "      <td>1</td>\n",
       "      <td>14</td>\n",
       "      <td>3</td>\n",
       "      <td>45</td>\n",
       "      <td>57</td>\n",
       "    </tr>\n",
       "    <tr>\n",
       "      <th>2146</th>\n",
       "      <td>2015-11-26 16:59:01+00:00</td>\n",
       "      <td>2015</td>\n",
       "      <td>11</td>\n",
       "      <td>26</td>\n",
       "      <td>16</td>\n",
       "      <td>59</td>\n",
       "      <td>1</td>\n",
       "    </tr>\n",
       "    <tr>\n",
       "      <th>2312</th>\n",
       "      <td>2015-11-18 00:36:17+00:00</td>\n",
       "      <td>2015</td>\n",
       "      <td>11</td>\n",
       "      <td>18</td>\n",
       "      <td>0</td>\n",
       "      <td>36</td>\n",
       "      <td>17</td>\n",
       "    </tr>\n",
       "    <tr>\n",
       "      <th>44</th>\n",
       "      <td>2017-07-09 00:00:04+00:00</td>\n",
       "      <td>2017</td>\n",
       "      <td>7</td>\n",
       "      <td>9</td>\n",
       "      <td>0</td>\n",
       "      <td>0</td>\n",
       "      <td>4</td>\n",
       "    </tr>\n",
       "    <tr>\n",
       "      <th>1178</th>\n",
       "      <td>2016-04-11 15:43:12+00:00</td>\n",
       "      <td>2016</td>\n",
       "      <td>4</td>\n",
       "      <td>11</td>\n",
       "      <td>15</td>\n",
       "      <td>43</td>\n",
       "      <td>12</td>\n",
       "    </tr>\n",
       "    <tr>\n",
       "      <th>363</th>\n",
       "      <td>2017-02-08 17:00:26+00:00</td>\n",
       "      <td>2017</td>\n",
       "      <td>2</td>\n",
       "      <td>8</td>\n",
       "      <td>17</td>\n",
       "      <td>0</td>\n",
       "      <td>26</td>\n",
       "    </tr>\n",
       "  </tbody>\n",
       "</table>\n",
       "</div>"
      ],
      "text/plain": [
       "                     timestamp  year  month  day  hour  minute  second\n",
       "345  2017-02-15 18:54:34+00:00  2017      2   15    18      54      34\n",
       "2188 2015-11-24 02:13:25+00:00  2015     11   24     2      13      25\n",
       "77   2017-06-22 03:54:17+00:00  2017      6   22     3      54      17\n",
       "1255 2016-03-17 23:33:12+00:00  2016      3   17    23      33      12\n",
       "1574 2016-01-14 03:45:57+00:00  2016      1   14     3      45      57\n",
       "2146 2015-11-26 16:59:01+00:00  2015     11   26    16      59       1\n",
       "2312 2015-11-18 00:36:17+00:00  2015     11   18     0      36      17\n",
       "44   2017-07-09 00:00:04+00:00  2017      7    9     0       0       4\n",
       "1178 2016-04-11 15:43:12+00:00  2016      4   11    15      43      12\n",
       "363  2017-02-08 17:00:26+00:00  2017      2    8    17       0      26"
      ]
     },
     "execution_count": 63,
     "metadata": {},
     "output_type": "execute_result"
    }
   ],
   "source": [
    "df_tw_clean[['timestamp', 'year', 'month', 'day', 'hour', 'minute', 'second']].sample(10)"
   ]
  },
  {
   "cell_type": "markdown",
   "metadata": {},
   "source": [
    "10. `name` column have some false name like `a`, `O`, `his`, and so on.\n",
    "* define: false name change to `None` string\n",
    "* code"
   ]
  },
  {
   "cell_type": "code",
   "execution_count": 64,
   "metadata": {
    "ExecuteTime": {
     "end_time": "2021-05-03T20:11:16.474680Z",
     "start_time": "2021-05-03T20:11:16.460679Z"
    },
    "scrolled": true
   },
   "outputs": [],
   "source": [
    "false_name_list = [\n",
    "    'a', 'O', 'his', 'getting', 'unacceptable', 'old', 'None', \n",
    "    'quite', 'not', 'mad', 'an', 'very', 'one', 'all', 'this', \n",
    "    'such', 'just', 'by', 'infuriating', 'light', 'life', 'my',\n",
    "    'the']\n",
    "df_tw_clean['name'] = df_tw_clean['name'].apply(lambda x: 'None' if x in false_name_list else x)"
   ]
  },
  {
   "cell_type": "markdown",
   "metadata": {},
   "source": [
    "* valid"
   ]
  },
  {
   "cell_type": "code",
   "execution_count": 65,
   "metadata": {
    "ExecuteTime": {
     "end_time": "2021-05-03T20:11:16.489680Z",
     "start_time": "2021-05-03T20:11:16.475681Z"
    }
   },
   "outputs": [
    {
     "data": {
      "text/plain": [
       "{'O',\n",
       " 'a',\n",
       " 'all',\n",
       " 'an',\n",
       " 'by',\n",
       " 'getting',\n",
       " 'his',\n",
       " 'infuriating',\n",
       " 'just',\n",
       " 'life',\n",
       " 'light',\n",
       " 'mad',\n",
       " 'my',\n",
       " 'not',\n",
       " 'old',\n",
       " 'one',\n",
       " 'quite',\n",
       " 'such',\n",
       " 'the',\n",
       " 'this',\n",
       " 'unacceptable',\n",
       " 'very'}"
      ]
     },
     "execution_count": 65,
     "metadata": {},
     "output_type": "execute_result"
    }
   ],
   "source": [
    "set(df_tw['name'].unique()).difference(set(df_tw_clean['name'].unique()))"
   ]
  },
  {
   "cell_type": "markdown",
   "metadata": {},
   "source": [
    "## Clean Tidiness Issues"
   ]
  },
  {
   "cell_type": "markdown",
   "metadata": {},
   "source": [
    "1. `tweet_id` is same column in `df_tw`, `df_img`, and `df_ex`, but `df_ex` is `object` type and others `int64`\n",
    "* define: `tweet_id` in `df_ex` change to `int64` type\n",
    "* code:"
   ]
  },
  {
   "cell_type": "code",
   "execution_count": 66,
   "metadata": {
    "ExecuteTime": {
     "end_time": "2021-05-03T20:11:16.504678Z",
     "start_time": "2021-05-03T20:11:16.490681Z"
    }
   },
   "outputs": [],
   "source": [
    "df_ex_clean['tweet_id'] = df_ex_clean['tweet_id'].astype('int64')"
   ]
  },
  {
   "cell_type": "code",
   "execution_count": 67,
   "metadata": {
    "ExecuteTime": {
     "end_time": "2021-05-03T20:11:16.519679Z",
     "start_time": "2021-05-03T20:11:16.510680Z"
    }
   },
   "outputs": [
    {
     "data": {
      "text/plain": [
       "(0       892420643555336193\n",
       " 1       892177421306343426\n",
       " 2       891815181378084864\n",
       " 3       891689557279858688\n",
       " 4       891327558926688256\n",
       "                ...        \n",
       " 2351    666049248165822465\n",
       " 2352    666044226329800704\n",
       " 2353    666033412701032449\n",
       " 2354    666029285002620928\n",
       " 2355    666020888022790149\n",
       " Name: tweet_id, Length: 2356, dtype: int64,\n",
       " 0       666020888022790149\n",
       " 1       666029285002620928\n",
       " 2       666033412701032449\n",
       " 3       666044226329800704\n",
       " 4       666049248165822465\n",
       "                ...        \n",
       " 2070    891327558926688256\n",
       " 2071    891689557279858688\n",
       " 2072    891815181378084864\n",
       " 2073    892177421306343426\n",
       " 2074    892420643555336193\n",
       " Name: tweet_id, Length: 2075, dtype: int64,\n",
       " 0       892420643555336193\n",
       " 1       892177421306343426\n",
       " 2       891815181378084864\n",
       " 3       891689557279858688\n",
       " 4       891327558926688256\n",
       "                ...        \n",
       " 2326    666049248165822465\n",
       " 2327    666044226329800704\n",
       " 2328    666033412701032449\n",
       " 2329    666029285002620928\n",
       " 2330    666020888022790149\n",
       " Name: tweet_id, Length: 2331, dtype: int64)"
      ]
     },
     "execution_count": 67,
     "metadata": {},
     "output_type": "execute_result"
    }
   ],
   "source": [
    "df_tw_clean['tweet_id'], df_img_clean['tweet_id'], df_ex_clean['tweet_id']"
   ]
  },
  {
   "cell_type": "markdown",
   "metadata": {
    "ExecuteTime": {
     "end_time": "2021-04-27T22:43:00.454666Z",
     "start_time": "2021-04-27T22:43:00.450666Z"
    }
   },
   "source": [
    "2. All data must be merged\n",
    "\n",
    "* define: all data frame merge\n",
    "* code:"
   ]
  },
  {
   "cell_type": "code",
   "execution_count": 68,
   "metadata": {
    "ExecuteTime": {
     "end_time": "2021-05-03T20:11:16.549679Z",
     "start_time": "2021-05-03T20:11:16.522679Z"
    }
   },
   "outputs": [],
   "source": [
    "df = df_tw_clean.merge(df_img_clean, how = 'right', on = 'tweet_id')\n",
    "df = df.merge(df_ex_clean, how = 'right', on = 'tweet_id')"
   ]
  },
  {
   "cell_type": "markdown",
   "metadata": {},
   "source": [
    "* valid:"
   ]
  },
  {
   "cell_type": "code",
   "execution_count": 69,
   "metadata": {
    "ExecuteTime": {
     "end_time": "2021-05-03T20:11:16.579680Z",
     "start_time": "2021-05-03T20:11:16.550682Z"
    }
   },
   "outputs": [
    {
     "data": {
      "text/html": [
       "<div>\n",
       "<style scoped>\n",
       "    .dataframe tbody tr th:only-of-type {\n",
       "        vertical-align: middle;\n",
       "    }\n",
       "\n",
       "    .dataframe tbody tr th {\n",
       "        vertical-align: top;\n",
       "    }\n",
       "\n",
       "    .dataframe thead th {\n",
       "        text-align: right;\n",
       "    }\n",
       "</style>\n",
       "<table border=\"1\" class=\"dataframe\">\n",
       "  <thead>\n",
       "    <tr style=\"text-align: right;\">\n",
       "      <th></th>\n",
       "      <th>tweet_id</th>\n",
       "      <th>in_reply_to_status_id</th>\n",
       "      <th>in_reply_to_user_id</th>\n",
       "      <th>timestamp</th>\n",
       "      <th>source_x</th>\n",
       "      <th>text</th>\n",
       "      <th>retweeted_status_id</th>\n",
       "      <th>retweeted_status_user_id</th>\n",
       "      <th>retweeted_status_timestamp</th>\n",
       "      <th>expanded_urls</th>\n",
       "      <th>...</th>\n",
       "      <th>p3</th>\n",
       "      <th>p3_conf</th>\n",
       "      <th>p3_dog</th>\n",
       "      <th>favorite_count</th>\n",
       "      <th>retweet_count</th>\n",
       "      <th>followers_count</th>\n",
       "      <th>friends_count</th>\n",
       "      <th>source_y</th>\n",
       "      <th>retweeted_status</th>\n",
       "      <th>url</th>\n",
       "    </tr>\n",
       "  </thead>\n",
       "  <tbody>\n",
       "    <tr>\n",
       "      <th>0</th>\n",
       "      <td>892420643555336193</td>\n",
       "      <td>NaN</td>\n",
       "      <td>NaN</td>\n",
       "      <td>2017-08-01 16:23:56+00:00</td>\n",
       "      <td>Twitter for iPhone</td>\n",
       "      <td>This is Phineas. He's a mystical boy. Only eve...</td>\n",
       "      <td>NaN</td>\n",
       "      <td>NaN</td>\n",
       "      <td>NaT</td>\n",
       "      <td>https://twitter.com/dog_rates/status/892420643...</td>\n",
       "      <td>...</td>\n",
       "      <td>banana</td>\n",
       "      <td>0.076110</td>\n",
       "      <td>False</td>\n",
       "      <td>34831</td>\n",
       "      <td>7312</td>\n",
       "      <td>9014803</td>\n",
       "      <td>17</td>\n",
       "      <td>Twitter for iPhone</td>\n",
       "      <td>Original tweet</td>\n",
       "      <td>https://t.co/MgUWQ76dJU</td>\n",
       "    </tr>\n",
       "    <tr>\n",
       "      <th>1</th>\n",
       "      <td>892177421306343426</td>\n",
       "      <td>NaN</td>\n",
       "      <td>NaN</td>\n",
       "      <td>2017-08-01 00:17:27+00:00</td>\n",
       "      <td>Twitter for iPhone</td>\n",
       "      <td>This is Tilly. She's just checking pup on you....</td>\n",
       "      <td>NaN</td>\n",
       "      <td>NaN</td>\n",
       "      <td>NaT</td>\n",
       "      <td>https://twitter.com/dog_rates/status/892177421...</td>\n",
       "      <td>...</td>\n",
       "      <td>papillon</td>\n",
       "      <td>0.068957</td>\n",
       "      <td>True</td>\n",
       "      <td>30173</td>\n",
       "      <td>5461</td>\n",
       "      <td>9014803</td>\n",
       "      <td>17</td>\n",
       "      <td>Twitter for iPhone</td>\n",
       "      <td>Original tweet</td>\n",
       "      <td>https://t.co/aQFSeaCu9L</td>\n",
       "    </tr>\n",
       "    <tr>\n",
       "      <th>2</th>\n",
       "      <td>891815181378084864</td>\n",
       "      <td>NaN</td>\n",
       "      <td>NaN</td>\n",
       "      <td>2017-07-31 00:18:03+00:00</td>\n",
       "      <td>Twitter for iPhone</td>\n",
       "      <td>This is Archie. He is a rare Norwegian Pouncin...</td>\n",
       "      <td>NaN</td>\n",
       "      <td>NaN</td>\n",
       "      <td>NaT</td>\n",
       "      <td>https://twitter.com/dog_rates/status/891815181...</td>\n",
       "      <td>...</td>\n",
       "      <td>kelpie</td>\n",
       "      <td>0.031379</td>\n",
       "      <td>True</td>\n",
       "      <td>22719</td>\n",
       "      <td>3603</td>\n",
       "      <td>9014803</td>\n",
       "      <td>17</td>\n",
       "      <td>Twitter for iPhone</td>\n",
       "      <td>Original tweet</td>\n",
       "      <td>https://t.co/r0YlrsGCgy</td>\n",
       "    </tr>\n",
       "    <tr>\n",
       "      <th>3</th>\n",
       "      <td>891689557279858688</td>\n",
       "      <td>NaN</td>\n",
       "      <td>NaN</td>\n",
       "      <td>2017-07-30 15:58:51+00:00</td>\n",
       "      <td>Twitter for iPhone</td>\n",
       "      <td>This is Darla. She commenced a snooze mid meal...</td>\n",
       "      <td>NaN</td>\n",
       "      <td>NaN</td>\n",
       "      <td>NaT</td>\n",
       "      <td>https://twitter.com/dog_rates/status/891689557...</td>\n",
       "      <td>...</td>\n",
       "      <td>spatula</td>\n",
       "      <td>0.040836</td>\n",
       "      <td>False</td>\n",
       "      <td>38083</td>\n",
       "      <td>7494</td>\n",
       "      <td>9014803</td>\n",
       "      <td>17</td>\n",
       "      <td>Twitter for iPhone</td>\n",
       "      <td>Original tweet</td>\n",
       "      <td>https://t.co/tD36da7qLQ</td>\n",
       "    </tr>\n",
       "    <tr>\n",
       "      <th>4</th>\n",
       "      <td>891327558926688256</td>\n",
       "      <td>NaN</td>\n",
       "      <td>NaN</td>\n",
       "      <td>2017-07-29 16:00:24+00:00</td>\n",
       "      <td>Twitter for iPhone</td>\n",
       "      <td>This is Franklin. He would like you to stop ca...</td>\n",
       "      <td>NaN</td>\n",
       "      <td>NaN</td>\n",
       "      <td>NaT</td>\n",
       "      <td>https://twitter.com/dog_rates/status/891327558...</td>\n",
       "      <td>...</td>\n",
       "      <td>german_short-haired_pointer</td>\n",
       "      <td>0.175219</td>\n",
       "      <td>True</td>\n",
       "      <td>36350</td>\n",
       "      <td>8054</td>\n",
       "      <td>9014803</td>\n",
       "      <td>17</td>\n",
       "      <td>Twitter for iPhone</td>\n",
       "      <td>Original tweet</td>\n",
       "      <td>https://t.co/0g0KMIVXZ3</td>\n",
       "    </tr>\n",
       "  </tbody>\n",
       "</table>\n",
       "<p>5 rows × 41 columns</p>\n",
       "</div>"
      ],
      "text/plain": [
       "             tweet_id in_reply_to_status_id in_reply_to_user_id  \\\n",
       "0  892420643555336193                   NaN                 NaN   \n",
       "1  892177421306343426                   NaN                 NaN   \n",
       "2  891815181378084864                   NaN                 NaN   \n",
       "3  891689557279858688                   NaN                 NaN   \n",
       "4  891327558926688256                   NaN                 NaN   \n",
       "\n",
       "                  timestamp            source_x  \\\n",
       "0 2017-08-01 16:23:56+00:00  Twitter for iPhone   \n",
       "1 2017-08-01 00:17:27+00:00  Twitter for iPhone   \n",
       "2 2017-07-31 00:18:03+00:00  Twitter for iPhone   \n",
       "3 2017-07-30 15:58:51+00:00  Twitter for iPhone   \n",
       "4 2017-07-29 16:00:24+00:00  Twitter for iPhone   \n",
       "\n",
       "                                                text  retweeted_status_id  \\\n",
       "0  This is Phineas. He's a mystical boy. Only eve...                  NaN   \n",
       "1  This is Tilly. She's just checking pup on you....                  NaN   \n",
       "2  This is Archie. He is a rare Norwegian Pouncin...                  NaN   \n",
       "3  This is Darla. She commenced a snooze mid meal...                  NaN   \n",
       "4  This is Franklin. He would like you to stop ca...                  NaN   \n",
       "\n",
       "   retweeted_status_user_id retweeted_status_timestamp  \\\n",
       "0                       NaN                        NaT   \n",
       "1                       NaN                        NaT   \n",
       "2                       NaN                        NaT   \n",
       "3                       NaN                        NaT   \n",
       "4                       NaN                        NaT   \n",
       "\n",
       "                                       expanded_urls  ...  \\\n",
       "0  https://twitter.com/dog_rates/status/892420643...  ...   \n",
       "1  https://twitter.com/dog_rates/status/892177421...  ...   \n",
       "2  https://twitter.com/dog_rates/status/891815181...  ...   \n",
       "3  https://twitter.com/dog_rates/status/891689557...  ...   \n",
       "4  https://twitter.com/dog_rates/status/891327558...  ...   \n",
       "\n",
       "                            p3   p3_conf p3_dog favorite_count retweet_count  \\\n",
       "0                       banana  0.076110  False          34831          7312   \n",
       "1                     papillon  0.068957   True          30173          5461   \n",
       "2                       kelpie  0.031379   True          22719          3603   \n",
       "3                      spatula  0.040836  False          38083          7494   \n",
       "4  german_short-haired_pointer  0.175219   True          36350          8054   \n",
       "\n",
       "  followers_count friends_count            source_y  retweeted_status  \\\n",
       "0         9014803            17  Twitter for iPhone    Original tweet   \n",
       "1         9014803            17  Twitter for iPhone    Original tweet   \n",
       "2         9014803            17  Twitter for iPhone    Original tweet   \n",
       "3         9014803            17  Twitter for iPhone    Original tweet   \n",
       "4         9014803            17  Twitter for iPhone    Original tweet   \n",
       "\n",
       "                       url  \n",
       "0  https://t.co/MgUWQ76dJU  \n",
       "1  https://t.co/aQFSeaCu9L  \n",
       "2  https://t.co/r0YlrsGCgy  \n",
       "3  https://t.co/tD36da7qLQ  \n",
       "4  https://t.co/0g0KMIVXZ3  \n",
       "\n",
       "[5 rows x 41 columns]"
      ]
     },
     "execution_count": 69,
     "metadata": {},
     "output_type": "execute_result"
    }
   ],
   "source": [
    "df.head()"
   ]
  },
  {
   "cell_type": "code",
   "execution_count": 70,
   "metadata": {
    "ExecuteTime": {
     "end_time": "2021-05-03T20:11:16.594678Z",
     "start_time": "2021-05-03T20:11:16.580681Z"
    }
   },
   "outputs": [
    {
     "name": "stdout",
     "output_type": "stream",
     "text": [
      "Index(['tweet_id', 'in_reply_to_status_id', 'in_reply_to_user_id', 'timestamp',\n",
      "       'source_x', 'text', 'retweeted_status_id', 'retweeted_status_user_id',\n",
      "       'retweeted_status_timestamp', 'expanded_urls', 'rating_numerator',\n",
      "       'rating_denominator', 'name', 'doggo', 'floofer', 'pupper', 'puppo',\n",
      "       'year', 'month', 'day', 'hour', 'minute', 'second', 'jpg_url',\n",
      "       'img_num', 'p1', 'p1_conf', 'p1_dog', 'p2', 'p2_conf', 'p2_dog', 'p3',\n",
      "       'p3_conf', 'p3_dog', 'favorite_count', 'retweet_count',\n",
      "       'followers_count', 'friends_count', 'source_y', 'retweeted_status',\n",
      "       'url'],\n",
      "      dtype='object')\n",
      "[Index(['tweet_id', 'in_reply_to_status_id', 'in_reply_to_user_id', 'timestamp',\n",
      "       'source', 'text', 'retweeted_status_id', 'retweeted_status_user_id',\n",
      "       'retweeted_status_timestamp', 'expanded_urls', 'rating_numerator',\n",
      "       'rating_denominator', 'name', 'doggo', 'floofer', 'pupper', 'puppo',\n",
      "       'year', 'month', 'day', 'hour', 'minute', 'second'],\n",
      "      dtype='object'), Index(['tweet_id', 'jpg_url', 'img_num', 'p1', 'p1_conf', 'p1_dog', 'p2',\n",
      "       'p2_conf', 'p2_dog', 'p3', 'p3_conf', 'p3_dog'],\n",
      "      dtype='object'), Index(['tweet_id', 'favorite_count', 'retweet_count', 'followers_count',\n",
      "       'friends_count', 'source', 'retweeted_status', 'url'],\n",
      "      dtype='object')]\n",
      "(2331, 41) (2356, 23) (2075, 12) (2331, 8)\n"
     ]
    }
   ],
   "source": [
    "df_cols = df.columns\n",
    "df_each_cols = [df_tw_clean.columns, df_img_clean.columns, df_ex_clean.columns]\n",
    "\n",
    "print(df_cols)\n",
    "print(df_each_cols)\n",
    "print(df.shape, df_tw_clean.shape, df_img_clean.shape, df_ex_clean.shape)"
   ]
  },
  {
   "cell_type": "markdown",
   "metadata": {
    "ExecuteTime": {
     "end_time": "2021-04-29T21:00:53.302344Z",
     "start_time": "2021-04-29T21:00:53.298343Z"
    }
   },
   "source": [
    "3. Clean data by dropping duplicates row and not meaningful columns\n",
    "\n",
    "* define: Clean data by dropping duplicates row and not meaningful columns\n",
    "* code:"
   ]
  },
  {
   "cell_type": "code",
   "execution_count": 71,
   "metadata": {
    "ExecuteTime": {
     "end_time": "2021-05-03T20:11:16.609681Z",
     "start_time": "2021-05-03T20:11:16.595679Z"
    }
   },
   "outputs": [],
   "source": [
    "df.drop(['retweeted_status_user_id', 'retweeted_status_user_id', 'retweeted_status_timestamp', 'retweeted_status_user_id'], 1, inplace = True)"
   ]
  },
  {
   "cell_type": "code",
   "execution_count": null,
   "metadata": {},
   "outputs": [],
   "source": []
  },
  {
   "cell_type": "markdown",
   "metadata": {},
   "source": [
    "# Storing Data"
   ]
  },
  {
   "cell_type": "code",
   "execution_count": 72,
   "metadata": {
    "ExecuteTime": {
     "end_time": "2021-05-03T20:11:16.714678Z",
     "start_time": "2021-05-03T20:11:16.611682Z"
    }
   },
   "outputs": [],
   "source": [
    "df.to_csv(\"./twitter_archive_master.csv\", index = False)"
   ]
  },
  {
   "cell_type": "code",
   "execution_count": 73,
   "metadata": {
    "ExecuteTime": {
     "end_time": "2021-05-03T20:11:16.759681Z",
     "start_time": "2021-05-03T20:11:16.715682Z"
    },
    "scrolled": false
   },
   "outputs": [
    {
     "data": {
      "text/html": [
       "<div>\n",
       "<style scoped>\n",
       "    .dataframe tbody tr th:only-of-type {\n",
       "        vertical-align: middle;\n",
       "    }\n",
       "\n",
       "    .dataframe tbody tr th {\n",
       "        vertical-align: top;\n",
       "    }\n",
       "\n",
       "    .dataframe thead th {\n",
       "        text-align: right;\n",
       "    }\n",
       "</style>\n",
       "<table border=\"1\" class=\"dataframe\">\n",
       "  <thead>\n",
       "    <tr style=\"text-align: right;\">\n",
       "      <th></th>\n",
       "      <th>tweet_id</th>\n",
       "      <th>in_reply_to_status_id</th>\n",
       "      <th>in_reply_to_user_id</th>\n",
       "      <th>timestamp</th>\n",
       "      <th>source_x</th>\n",
       "      <th>text</th>\n",
       "      <th>retweeted_status_id</th>\n",
       "      <th>expanded_urls</th>\n",
       "      <th>rating_numerator</th>\n",
       "      <th>rating_denominator</th>\n",
       "      <th>...</th>\n",
       "      <th>p3</th>\n",
       "      <th>p3_conf</th>\n",
       "      <th>p3_dog</th>\n",
       "      <th>favorite_count</th>\n",
       "      <th>retweet_count</th>\n",
       "      <th>followers_count</th>\n",
       "      <th>friends_count</th>\n",
       "      <th>source_y</th>\n",
       "      <th>retweeted_status</th>\n",
       "      <th>url</th>\n",
       "    </tr>\n",
       "  </thead>\n",
       "  <tbody>\n",
       "    <tr>\n",
       "      <th>0</th>\n",
       "      <td>892420643555336193</td>\n",
       "      <td>NaN</td>\n",
       "      <td>NaN</td>\n",
       "      <td>2017-08-01 16:23:56+00:00</td>\n",
       "      <td>Twitter for iPhone</td>\n",
       "      <td>This is Phineas. He's a mystical boy. Only eve...</td>\n",
       "      <td>NaN</td>\n",
       "      <td>https://twitter.com/dog_rates/status/892420643...</td>\n",
       "      <td>13.0</td>\n",
       "      <td>10.0</td>\n",
       "      <td>...</td>\n",
       "      <td>banana</td>\n",
       "      <td>0.076110</td>\n",
       "      <td>False</td>\n",
       "      <td>34831</td>\n",
       "      <td>7312</td>\n",
       "      <td>9014803</td>\n",
       "      <td>17</td>\n",
       "      <td>Twitter for iPhone</td>\n",
       "      <td>Original tweet</td>\n",
       "      <td>https://t.co/MgUWQ76dJU</td>\n",
       "    </tr>\n",
       "    <tr>\n",
       "      <th>1</th>\n",
       "      <td>892177421306343426</td>\n",
       "      <td>NaN</td>\n",
       "      <td>NaN</td>\n",
       "      <td>2017-08-01 00:17:27+00:00</td>\n",
       "      <td>Twitter for iPhone</td>\n",
       "      <td>This is Tilly. She's just checking pup on you....</td>\n",
       "      <td>NaN</td>\n",
       "      <td>https://twitter.com/dog_rates/status/892177421...</td>\n",
       "      <td>13.0</td>\n",
       "      <td>10.0</td>\n",
       "      <td>...</td>\n",
       "      <td>papillon</td>\n",
       "      <td>0.068957</td>\n",
       "      <td>True</td>\n",
       "      <td>30173</td>\n",
       "      <td>5461</td>\n",
       "      <td>9014803</td>\n",
       "      <td>17</td>\n",
       "      <td>Twitter for iPhone</td>\n",
       "      <td>Original tweet</td>\n",
       "      <td>https://t.co/aQFSeaCu9L</td>\n",
       "    </tr>\n",
       "    <tr>\n",
       "      <th>2</th>\n",
       "      <td>891815181378084864</td>\n",
       "      <td>NaN</td>\n",
       "      <td>NaN</td>\n",
       "      <td>2017-07-31 00:18:03+00:00</td>\n",
       "      <td>Twitter for iPhone</td>\n",
       "      <td>This is Archie. He is a rare Norwegian Pouncin...</td>\n",
       "      <td>NaN</td>\n",
       "      <td>https://twitter.com/dog_rates/status/891815181...</td>\n",
       "      <td>12.0</td>\n",
       "      <td>10.0</td>\n",
       "      <td>...</td>\n",
       "      <td>kelpie</td>\n",
       "      <td>0.031379</td>\n",
       "      <td>True</td>\n",
       "      <td>22719</td>\n",
       "      <td>3603</td>\n",
       "      <td>9014803</td>\n",
       "      <td>17</td>\n",
       "      <td>Twitter for iPhone</td>\n",
       "      <td>Original tweet</td>\n",
       "      <td>https://t.co/r0YlrsGCgy</td>\n",
       "    </tr>\n",
       "    <tr>\n",
       "      <th>3</th>\n",
       "      <td>891689557279858688</td>\n",
       "      <td>NaN</td>\n",
       "      <td>NaN</td>\n",
       "      <td>2017-07-30 15:58:51+00:00</td>\n",
       "      <td>Twitter for iPhone</td>\n",
       "      <td>This is Darla. She commenced a snooze mid meal...</td>\n",
       "      <td>NaN</td>\n",
       "      <td>https://twitter.com/dog_rates/status/891689557...</td>\n",
       "      <td>13.0</td>\n",
       "      <td>10.0</td>\n",
       "      <td>...</td>\n",
       "      <td>spatula</td>\n",
       "      <td>0.040836</td>\n",
       "      <td>False</td>\n",
       "      <td>38083</td>\n",
       "      <td>7494</td>\n",
       "      <td>9014803</td>\n",
       "      <td>17</td>\n",
       "      <td>Twitter for iPhone</td>\n",
       "      <td>Original tweet</td>\n",
       "      <td>https://t.co/tD36da7qLQ</td>\n",
       "    </tr>\n",
       "    <tr>\n",
       "      <th>4</th>\n",
       "      <td>891327558926688256</td>\n",
       "      <td>NaN</td>\n",
       "      <td>NaN</td>\n",
       "      <td>2017-07-29 16:00:24+00:00</td>\n",
       "      <td>Twitter for iPhone</td>\n",
       "      <td>This is Franklin. He would like you to stop ca...</td>\n",
       "      <td>NaN</td>\n",
       "      <td>https://twitter.com/dog_rates/status/891327558...</td>\n",
       "      <td>12.0</td>\n",
       "      <td>10.0</td>\n",
       "      <td>...</td>\n",
       "      <td>german_short-haired_pointer</td>\n",
       "      <td>0.175219</td>\n",
       "      <td>True</td>\n",
       "      <td>36350</td>\n",
       "      <td>8054</td>\n",
       "      <td>9014803</td>\n",
       "      <td>17</td>\n",
       "      <td>Twitter for iPhone</td>\n",
       "      <td>Original tweet</td>\n",
       "      <td>https://t.co/0g0KMIVXZ3</td>\n",
       "    </tr>\n",
       "  </tbody>\n",
       "</table>\n",
       "<p>5 rows × 39 columns</p>\n",
       "</div>"
      ],
      "text/plain": [
       "             tweet_id  in_reply_to_status_id  in_reply_to_user_id  \\\n",
       "0  892420643555336193                    NaN                  NaN   \n",
       "1  892177421306343426                    NaN                  NaN   \n",
       "2  891815181378084864                    NaN                  NaN   \n",
       "3  891689557279858688                    NaN                  NaN   \n",
       "4  891327558926688256                    NaN                  NaN   \n",
       "\n",
       "                   timestamp            source_x  \\\n",
       "0  2017-08-01 16:23:56+00:00  Twitter for iPhone   \n",
       "1  2017-08-01 00:17:27+00:00  Twitter for iPhone   \n",
       "2  2017-07-31 00:18:03+00:00  Twitter for iPhone   \n",
       "3  2017-07-30 15:58:51+00:00  Twitter for iPhone   \n",
       "4  2017-07-29 16:00:24+00:00  Twitter for iPhone   \n",
       "\n",
       "                                                text  retweeted_status_id  \\\n",
       "0  This is Phineas. He's a mystical boy. Only eve...                  NaN   \n",
       "1  This is Tilly. She's just checking pup on you....                  NaN   \n",
       "2  This is Archie. He is a rare Norwegian Pouncin...                  NaN   \n",
       "3  This is Darla. She commenced a snooze mid meal...                  NaN   \n",
       "4  This is Franklin. He would like you to stop ca...                  NaN   \n",
       "\n",
       "                                       expanded_urls  rating_numerator  \\\n",
       "0  https://twitter.com/dog_rates/status/892420643...              13.0   \n",
       "1  https://twitter.com/dog_rates/status/892177421...              13.0   \n",
       "2  https://twitter.com/dog_rates/status/891815181...              12.0   \n",
       "3  https://twitter.com/dog_rates/status/891689557...              13.0   \n",
       "4  https://twitter.com/dog_rates/status/891327558...              12.0   \n",
       "\n",
       "   rating_denominator  ...                           p3   p3_conf p3_dog  \\\n",
       "0                10.0  ...                       banana  0.076110  False   \n",
       "1                10.0  ...                     papillon  0.068957   True   \n",
       "2                10.0  ...                       kelpie  0.031379   True   \n",
       "3                10.0  ...                      spatula  0.040836  False   \n",
       "4                10.0  ...  german_short-haired_pointer  0.175219   True   \n",
       "\n",
       "  favorite_count retweet_count  followers_count  friends_count  \\\n",
       "0          34831          7312          9014803             17   \n",
       "1          30173          5461          9014803             17   \n",
       "2          22719          3603          9014803             17   \n",
       "3          38083          7494          9014803             17   \n",
       "4          36350          8054          9014803             17   \n",
       "\n",
       "             source_y  retweeted_status                      url  \n",
       "0  Twitter for iPhone    Original tweet  https://t.co/MgUWQ76dJU  \n",
       "1  Twitter for iPhone    Original tweet  https://t.co/aQFSeaCu9L  \n",
       "2  Twitter for iPhone    Original tweet  https://t.co/r0YlrsGCgy  \n",
       "3  Twitter for iPhone    Original tweet  https://t.co/tD36da7qLQ  \n",
       "4  Twitter for iPhone    Original tweet  https://t.co/0g0KMIVXZ3  \n",
       "\n",
       "[5 rows x 39 columns]"
      ]
     },
     "execution_count": 73,
     "metadata": {},
     "output_type": "execute_result"
    }
   ],
   "source": [
    "pd.read_csv(\"./twitter_archive_master.csv\").head()"
   ]
  },
  {
   "cell_type": "markdown",
   "metadata": {},
   "source": [
    "# Data Analysis and Visualization\n",
    "## Number of `favorite` and `retweet` analysis according to dog species"
   ]
  },
  {
   "cell_type": "code",
   "execution_count": 74,
   "metadata": {
    "ExecuteTime": {
     "end_time": "2021-05-03T20:11:16.774679Z",
     "start_time": "2021-05-03T20:11:16.760682Z"
    }
   },
   "outputs": [],
   "source": [
    "dog_species = list(set(np.concatenate([df['p1'].unique(), df['p2'].unique(), df['p3'].unique()])))\n",
    "df_dogs = pd.DataFrame(columns = ['species', 'conf_sum'])\n",
    "df_dogs['species'] = dog_species\n",
    "df_dogs['favorite_count'] = 0\n",
    "df_dogs['retweet_count'] = 0\n",
    "df_dogs['conf_sum'] = 0"
   ]
  },
  {
   "cell_type": "code",
   "execution_count": 75,
   "metadata": {
    "ExecuteTime": {
     "end_time": "2021-05-03T20:11:28.381218Z",
     "start_time": "2021-05-03T20:11:16.776678Z"
    }
   },
   "outputs": [],
   "source": [
    "for i in range(df.shape[0]):\n",
    "    row = df.iloc[i]\n",
    "    df_dogs.loc[df_dogs['species'] == row['p1'], 'conf_sum'] += row['p1_conf']\n",
    "    df_dogs.loc[df_dogs['species'] == row['p2'], 'conf_sum'] += row['p2_conf']\n",
    "    df_dogs.loc[df_dogs['species'] == row['p3'], 'conf_sum'] += row['p3_conf']\n",
    "    \n",
    "    df_dogs.loc[df_dogs['species'] == row['p1'], 'favorite_count'] += row['favorite_count']*row['p1_conf']\n",
    "    df_dogs.loc[df_dogs['species'] == row['p2'], 'favorite_count'] += row['favorite_count']*row['p2_conf']\n",
    "    df_dogs.loc[df_dogs['species'] == row['p3'], 'favorite_count'] += row['favorite_count']*row['p3_conf']\n",
    "    \n",
    "    df_dogs.loc[df_dogs['species'] == row['p1'], 'retweet_count'] += row['retweet_count']*row['p1_conf']\n",
    "    df_dogs.loc[df_dogs['species'] == row['p2'], 'retweet_count'] += row['retweet_count']*row['p2_conf']\n",
    "    df_dogs.loc[df_dogs['species'] == row['p3'], 'retweet_count'] += row['retweet_count']*row['p3_conf']\n",
    "\n",
    "df_dogs = df_dogs.sort_values(by = 'conf_sum', ascending=False).reset_index()\n",
    "df_dogs.drop('index', axis = 1, inplace = True)"
   ]
  },
  {
   "cell_type": "code",
   "execution_count": 76,
   "metadata": {
    "ExecuteTime": {
     "end_time": "2021-05-03T20:11:29.058899Z",
     "start_time": "2021-05-03T20:11:28.382219Z"
    }
   },
   "outputs": [
    {
     "data": {
      "text/plain": [
       "<AxesSubplot:xlabel='species'>"
      ]
     },
     "execution_count": 76,
     "metadata": {},
     "output_type": "execute_result"
    },
    {
     "data": {
      "image/png": "[encoded data removed]",
      "text/plain": [
       "<Figure size 432x288 with 1 Axes>"
      ]
     },
     "metadata": {
      "needs_background": "light"
     },
     "output_type": "display_data"
    }
   ],
   "source": [
    "df_dogs[df_dogs['conf_sum'] >= 20].plot(kind = 'bar', x = 'species', y = 'conf_sum')"
   ]
  },
  {
   "cell_type": "markdown",
   "metadata": {
    "ExecuteTime": {
     "end_time": "2021-05-01T02:58:27.409055Z",
     "start_time": "2021-05-01T02:58:27.397056Z"
    }
   },
   "source": [
    "* `p1_conf`, `p2_conf`, and `p3_conf` can be considered as the number of dog types that appear in the image.\n",
    "* The sum of confidence for each species can be viewed as an expected value for the number of species present in the overall image.\n",
    "\n",
    "Let's find out the number of `favorite` and `retweet` by dog type"
   ]
  },
  {
   "cell_type": "code",
   "execution_count": 77,
   "metadata": {
    "ExecuteTime": {
     "end_time": "2021-05-03T20:11:29.073732Z",
     "start_time": "2021-05-03T20:11:29.059900Z"
    }
   },
   "outputs": [],
   "source": [
    "df_dogs['average_favorite'] = df_dogs['favorite_count'] / df_dogs['conf_sum']\n",
    "df_dogs['average_retweet'] = df_dogs['retweet_count'] / df_dogs['conf_sum']"
   ]
  },
  {
   "cell_type": "code",
   "execution_count": 78,
   "metadata": {
    "ExecuteTime": {
     "end_time": "2021-05-03T20:11:29.088739Z",
     "start_time": "2021-05-03T20:11:29.074750Z"
    }
   },
   "outputs": [
    {
     "name": "stdout",
     "output_type": "stream",
     "text": [
      "(13, 6)\n"
     ]
    },
    {
     "data": {
      "text/html": [
       "<div>\n",
       "<style scoped>\n",
       "    .dataframe tbody tr th:only-of-type {\n",
       "        vertical-align: middle;\n",
       "    }\n",
       "\n",
       "    .dataframe tbody tr th {\n",
       "        vertical-align: top;\n",
       "    }\n",
       "\n",
       "    .dataframe thead th {\n",
       "        text-align: right;\n",
       "    }\n",
       "</style>\n",
       "<table border=\"1\" class=\"dataframe\">\n",
       "  <thead>\n",
       "    <tr style=\"text-align: right;\">\n",
       "      <th></th>\n",
       "      <th>species</th>\n",
       "      <th>conf_sum</th>\n",
       "      <th>favorite_count</th>\n",
       "      <th>retweet_count</th>\n",
       "      <th>average_favorite</th>\n",
       "      <th>average_retweet</th>\n",
       "    </tr>\n",
       "  </thead>\n",
       "  <tbody>\n",
       "    <tr>\n",
       "      <th>0</th>\n",
       "      <td>golden_retriever</td>\n",
       "      <td>127.900124</td>\n",
       "      <td>1.282084e+06</td>\n",
       "      <td>420655.301360</td>\n",
       "      <td>10024.104536</td>\n",
       "      <td>3288.935837</td>\n",
       "    </tr>\n",
       "    <tr>\n",
       "      <th>1</th>\n",
       "      <td>labrador_retriever</td>\n",
       "      <td>81.613169</td>\n",
       "      <td>8.970266e+05</td>\n",
       "      <td>308544.480587</td>\n",
       "      <td>10991.199377</td>\n",
       "      <td>3780.572219</td>\n",
       "    </tr>\n",
       "    <tr>\n",
       "      <th>2</th>\n",
       "      <td>pembroke</td>\n",
       "      <td>69.170377</td>\n",
       "      <td>7.600279e+05</td>\n",
       "      <td>209117.595893</td>\n",
       "      <td>10987.765073</td>\n",
       "      <td>3023.224732</td>\n",
       "    </tr>\n",
       "    <tr>\n",
       "      <th>3</th>\n",
       "      <td>chihuahua</td>\n",
       "      <td>55.127765</td>\n",
       "      <td>4.048465e+05</td>\n",
       "      <td>132414.583716</td>\n",
       "      <td>7343.785732</td>\n",
       "      <td>2401.958121</td>\n",
       "    </tr>\n",
       "    <tr>\n",
       "      <th>4</th>\n",
       "      <td>pug</td>\n",
       "      <td>46.061516</td>\n",
       "      <td>2.202319e+05</td>\n",
       "      <td>71279.636781</td>\n",
       "      <td>4781.255879</td>\n",
       "      <td>1547.487866</td>\n",
       "    </tr>\n",
       "  </tbody>\n",
       "</table>\n",
       "</div>"
      ],
      "text/plain": [
       "              species    conf_sum  favorite_count  retweet_count  \\\n",
       "0    golden_retriever  127.900124    1.282084e+06  420655.301360   \n",
       "1  labrador_retriever   81.613169    8.970266e+05  308544.480587   \n",
       "2            pembroke   69.170377    7.600279e+05  209117.595893   \n",
       "3           chihuahua   55.127765    4.048465e+05  132414.583716   \n",
       "4                 pug   46.061516    2.202319e+05   71279.636781   \n",
       "\n",
       "   average_favorite  average_retweet  \n",
       "0      10024.104536      3288.935837  \n",
       "1      10991.199377      3780.572219  \n",
       "2      10987.765073      3023.224732  \n",
       "3       7343.785732      2401.958121  \n",
       "4       4781.255879      1547.487866  "
      ]
     },
     "execution_count": 78,
     "metadata": {},
     "output_type": "execute_result"
    }
   ],
   "source": [
    "df_dogs2 = df_dogs[df_dogs['conf_sum'] >= 20].copy()\n",
    "print(df_dogs2.shape)\n",
    "df_dogs2.head()"
   ]
  },
  {
   "cell_type": "code",
   "execution_count": 79,
   "metadata": {
    "ExecuteTime": {
     "end_time": "2021-05-03T20:11:29.103740Z",
     "start_time": "2021-05-03T20:11:29.089740Z"
    }
   },
   "outputs": [
    {
     "data": {
      "text/html": [
       "<div>\n",
       "<style scoped>\n",
       "    .dataframe tbody tr th:only-of-type {\n",
       "        vertical-align: middle;\n",
       "    }\n",
       "\n",
       "    .dataframe tbody tr th {\n",
       "        vertical-align: top;\n",
       "    }\n",
       "\n",
       "    .dataframe thead th {\n",
       "        text-align: right;\n",
       "    }\n",
       "</style>\n",
       "<table border=\"1\" class=\"dataframe\">\n",
       "  <thead>\n",
       "    <tr style=\"text-align: right;\">\n",
       "      <th></th>\n",
       "      <th>species</th>\n",
       "      <th>conf_sum</th>\n",
       "      <th>favorite_count</th>\n",
       "      <th>retweet_count</th>\n",
       "      <th>average_favorite</th>\n",
       "      <th>average_retweet</th>\n",
       "    </tr>\n",
       "  </thead>\n",
       "  <tbody>\n",
       "    <tr>\n",
       "      <th>9</th>\n",
       "      <td>french_bulldog</td>\n",
       "      <td>25.682713</td>\n",
       "      <td>383527.443758</td>\n",
       "      <td>93686.213548</td>\n",
       "      <td>14933.291672</td>\n",
       "      <td>3647.831662</td>\n",
       "    </tr>\n",
       "  </tbody>\n",
       "</table>\n",
       "</div>"
      ],
      "text/plain": [
       "          species   conf_sum  favorite_count  retweet_count  average_favorite  \\\n",
       "9  french_bulldog  25.682713   383527.443758   93686.213548      14933.291672   \n",
       "\n",
       "   average_retweet  \n",
       "9      3647.831662  "
      ]
     },
     "execution_count": 79,
     "metadata": {},
     "output_type": "execute_result"
    }
   ],
   "source": [
    "df_dogs2[df_dogs2['average_favorite'] == df_dogs2['average_favorite'].max()]"
   ]
  },
  {
   "cell_type": "code",
   "execution_count": 80,
   "metadata": {
    "ExecuteTime": {
     "end_time": "2021-05-03T20:11:29.118740Z",
     "start_time": "2021-05-03T20:11:29.104741Z"
    }
   },
   "outputs": [
    {
     "data": {
      "text/html": [
       "<div>\n",
       "<style scoped>\n",
       "    .dataframe tbody tr th:only-of-type {\n",
       "        vertical-align: middle;\n",
       "    }\n",
       "\n",
       "    .dataframe tbody tr th {\n",
       "        vertical-align: top;\n",
       "    }\n",
       "\n",
       "    .dataframe thead th {\n",
       "        text-align: right;\n",
       "    }\n",
       "</style>\n",
       "<table border=\"1\" class=\"dataframe\">\n",
       "  <thead>\n",
       "    <tr style=\"text-align: right;\">\n",
       "      <th></th>\n",
       "      <th>species</th>\n",
       "      <th>conf_sum</th>\n",
       "      <th>favorite_count</th>\n",
       "      <th>retweet_count</th>\n",
       "      <th>average_favorite</th>\n",
       "      <th>average_retweet</th>\n",
       "    </tr>\n",
       "  </thead>\n",
       "  <tbody>\n",
       "    <tr>\n",
       "      <th>6</th>\n",
       "      <td>samoyed</td>\n",
       "      <td>34.25736</td>\n",
       "      <td>374765.901016</td>\n",
       "      <td>138528.406633</td>\n",
       "      <td>10939.71942</td>\n",
       "      <td>4043.756105</td>\n",
       "    </tr>\n",
       "  </tbody>\n",
       "</table>\n",
       "</div>"
      ],
      "text/plain": [
       "   species  conf_sum  favorite_count  retweet_count  average_favorite  \\\n",
       "6  samoyed  34.25736   374765.901016  138528.406633       10939.71942   \n",
       "\n",
       "   average_retweet  \n",
       "6      4043.756105  "
      ]
     },
     "execution_count": 80,
     "metadata": {},
     "output_type": "execute_result"
    }
   ],
   "source": [
    "df_dogs2[df_dogs2['average_retweet'] == df_dogs2['average_retweet'].max()]"
   ]
  },
  {
   "cell_type": "code",
   "execution_count": 164,
   "metadata": {
    "ExecuteTime": {
     "end_time": "2021-05-03T20:42:59.481542Z",
     "start_time": "2021-05-03T20:42:59.181553Z"
    }
   },
   "outputs": [
    {
     "data": {
      "image/png": "[encoded data removed]",
      "text/plain": [
       "<Figure size 720x720 with 3 Axes>"
      ]
     },
     "metadata": {
      "needs_background": "light"
     },
     "output_type": "display_data"
    }
   ],
   "source": [
    "grid = sns.jointplot(x = 'average_retweet', y = 'average_favorite', data = df_dogs2, height = 10)\n",
    "grid.ax_joint.scatter(df_dogs2['average_retweet'], df_dogs2['average_favorite'],\n",
    "           s = df_dogs2['conf_sum'] * 10)\n",
    "\n",
    "for i in range(df_dogs2.shape[0]):\n",
    "    temp = df_dogs2.iloc[i]\n",
    "    r = np.random.rand() * 0.03\n",
    "    s1 = (np.random.rand() > 0.5) + (np.random.rand() < 0.5)\n",
    "    s2 = (np.random.rand() > 0.5) + (np.random.rand() < 0.5)\n",
    "    grid.ax_joint.text(temp['average_retweet'] + (s1*r * temp['average_retweet'])\n",
    "                       , temp['average_favorite'] + (s2*r * temp['average_favorite']), \n",
    "                       temp['species'])\n",
    "plt.show()\n"
   ]
  },
  {
   "cell_type": "markdown",
   "metadata": {
    "ExecuteTime": {
     "end_time": "2021-05-03T20:30:17.289027Z",
     "start_time": "2021-05-03T20:30:17.279028Z"
    }
   },
   "source": [
    "* People's favorite tweet is `french bulldog`.\n",
    "* The tweet that people retweet the most is `samoyed`.\n",
    "* The dog with the most original tweets is the `golden retriever`."
   ]
  },
  {
   "cell_type": "code",
   "execution_count": null,
   "metadata": {},
   "outputs": [],
   "source": []
  }
 ],
 "metadata": {
  "kernelspec": {
   "display_name": "Python 3",
   "language": "python",
   "name": "python3"
  },
  "language_info": {
   "codemirror_mode": {
    "name": "ipython",
    "version": 3
   },
   "file_extension": ".py",
   "mimetype": "text/x-python",
   "name": "python",
   "nbconvert_exporter": "python",
   "pygments_lexer": "ipython3",
   "version": "3.8.5"
  },
  "toc": {
   "base_numbering": 1,
   "nav_menu": {
    "height": "180px",
    "width": "195px"
   },
   "number_sections": true,
   "sideBar": true,
   "skip_h1_title": false,
   "title_cell": "Table of Contents",
   "title_sidebar": "Contents",
   "toc_cell": false,
   "toc_position": {
    "height": "calc(100% - 180px)",
    "left": "10px",
    "top": "150px",
    "width": "280.969px"
   },
   "toc_section_display": true,
   "toc_window_display": true
  },
  "varInspector": {
   "cols": {
    "lenName": 16,
    "lenType": 16,
    "lenVar": 40
   },
   "kernels_config": {
    "python": {
     "delete_cmd_postfix": "",
     "delete_cmd_prefix": "del ",
     "library": "var_list.py",
     "varRefreshCmd": "print(var_dic_list())"
    },
    "r": {
     "delete_cmd_postfix": ") ",
     "delete_cmd_prefix": "rm(",
     "library": "var_list.r",
     "varRefreshCmd": "cat(var_dic_list()) "
    }
   },
   "types_to_exclude": [
    "module",
    "function",
    "builtin_function_or_method",
    "instance",
    "_Feature"
   ],
   "window_display": false
  }
 },
 "nbformat": 4,
 "nbformat_minor": 2
}
